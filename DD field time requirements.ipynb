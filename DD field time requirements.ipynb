{
 "cells": [
  {
   "cell_type": "code",
   "execution_count": 1,
   "metadata": {
    "collapsed": true
   },
   "outputs": [],
   "source": [
    "import numpy as np\n",
    "import numpy.ma as ma\n",
    "import matplotlib.pyplot as plt\n",
    "% matplotlib inline"
   ]
  },
  {
   "cell_type": "code",
   "execution_count": 2,
   "metadata": {
    "collapsed": false
   },
   "outputs": [],
   "source": [
    "import lsst.sims.maf.db as db"
   ]
  },
  {
   "cell_type": "code",
   "execution_count": 3,
   "metadata": {
    "collapsed": true
   },
   "outputs": [],
   "source": [
    "opsdb = db.OpsimDatabase('db/minion_1016_sqlite.db')"
   ]
  },
  {
   "cell_type": "code",
   "execution_count": 4,
   "metadata": {
    "collapsed": false
   },
   "outputs": [],
   "source": [
    "constraint = '(fieldid=744 or fieldid=1427 or fieldid=2412 or fieldid=2786) and propid=56'\n",
    "colnames = ['expMJD', 'fieldID', 'filter']\n",
    "data = opsdb.fetchMetricData(colnames, constraint)"
   ]
  },
  {
   "cell_type": "code",
   "execution_count": 5,
   "metadata": {
    "collapsed": true
   },
   "outputs": [],
   "source": [
    "constraint = ''\n",
    "colnames = ['expMJD']\n",
    "alltimes = opsdb.fetchMetricData(colnames, constraint)"
   ]
  },
  {
   "cell_type": "code",
   "execution_count": 6,
   "metadata": {
    "collapsed": false
   },
   "outputs": [
    {
     "name": "stdout",
     "output_type": "stream",
     "text": [
      "4 DD fieldids [ 744 1427 2412 2786]\n"
     ]
    }
   ],
   "source": [
    "fields = np.unique(data['fieldID'])\n",
    "print '4 DD fieldids', fields"
   ]
  },
  {
   "cell_type": "code",
   "execution_count": 7,
   "metadata": {
    "collapsed": false
   },
   "outputs": [],
   "source": [
    "# Remember times are in days from opsim.\n",
    "timereq = {}\n",
    "for field in fields:\n",
    "    times = data['expMJD'][np.where(data['fieldID'] == field)]\n",
    "    gaps = np.concatenate([[0], (np.where(np.diff(times) > 2*120./60./24.)[0])+1])\n",
    "    tstart_seq = times[gaps]\n",
    "    tend_seq = times[np.roll(gaps, -1) - 1]\n",
    "    timereq[field] = (tend_seq - tstart_seq).sum()*24.0"
   ]
  },
  {
   "cell_type": "code",
   "execution_count": 8,
   "metadata": {
    "collapsed": false
   },
   "outputs": [
    {
     "name": "stdout",
     "output_type": "stream",
     "text": [
      "time per field\n",
      "{744: 266.47123199771158, 2786: 220.99619999999413, 1427: 266.44963200209895, 2412: 237.10456800047541}\n"
     ]
    }
   ],
   "source": [
    "print 'time per field'\n",
    "print timereq"
   ]
  },
  {
   "cell_type": "code",
   "execution_count": 9,
   "metadata": {
    "collapsed": true
   },
   "outputs": [],
   "source": [
    "time = 0\n",
    "for field in fields:\n",
    "    time += timereq[field]"
   ]
  },
  {
   "cell_type": "code",
   "execution_count": 10,
   "metadata": {
    "collapsed": false
   },
   "outputs": [
    {
     "name": "stdout",
     "output_type": "stream",
     "text": [
      "total 4 pre-select DD fields, time required: 991.021632 99.1021632\n",
      "average time per field 247.755408\n"
     ]
    }
   ],
   "source": [
    "print 'total 4 pre-select DD fields, time required:', time, time/10.0\n",
    "print 'average time per field', time/4.0"
   ]
  },
  {
   "cell_type": "code",
   "execution_count": 11,
   "metadata": {
    "collapsed": true
   },
   "outputs": [],
   "source": [
    "timeavail = 0\n",
    "allgaps = np.concatenate([[0], (np.where(np.diff(alltimes['expMJD']) > 2./24.)[0])+1])\n",
    "tup = alltimes['expMJD'][allgaps]\n",
    "tdown = alltimes['expMJD'][np.roll(allgaps, -1)-1]"
   ]
  },
  {
   "cell_type": "code",
   "execution_count": 12,
   "metadata": {
    "collapsed": false
   },
   "outputs": [
    {
     "name": "stdout",
     "output_type": "stream",
     "text": [
      "total available time 27779.077944\n"
     ]
    }
   ],
   "source": [
    "uptime = (tdown - tup).sum()*24.0\n",
    "print 'total available time', uptime"
   ]
  },
  {
   "cell_type": "code",
   "execution_count": 13,
   "metadata": {
    "collapsed": false
   },
   "outputs": [
    {
     "name": "stdout",
     "output_type": "stream",
     "text": [
      "Nvisits 88874 Total visits 2447931\n",
      "3.6 percent of total visits\n"
     ]
    }
   ],
   "source": [
    "print 'Nvisits', len(data), 'Total visits', len(alltimes)\n",
    "print '%.1f percent of total visits' % (float(len(data))/len(alltimes)*100)"
   ]
  },
  {
   "cell_type": "code",
   "execution_count": 14,
   "metadata": {
    "collapsed": false
   },
   "outputs": [
    {
     "name": "stdout",
     "output_type": "stream",
     "text": [
      "Time used for 4 dd fields 3.56751089434\n"
     ]
    }
   ],
   "source": [
    "print 'Time used for 4 dd fields', time/uptime*100."
   ]
  },
  {
   "cell_type": "code",
   "execution_count": 15,
   "metadata": {
    "collapsed": false
   },
   "outputs": [
    {
     "name": "stdout",
     "output_type": "stream",
     "text": [
      "total number of sequences 367\n",
      "number of long sequences 168\n",
      "number of short sequences 199\n",
      "0.844221105528 367\n"
     ]
    }
   ],
   "source": [
    "totseq = len(tstart_seq)\n",
    "shortseq = len(np.where((tend_seq - tstart_seq)*24.*60 < 15)[0])\n",
    "longseq = len(np.where((tend_seq - tstart_seq)*24.*60 > 50)[0])\n",
    "print 'total number of sequences', totseq\n",
    "print 'number of long sequences', longseq\n",
    "print 'number of short sequences', shortseq\n",
    "print float(longseq)/shortseq, longseq+shortseq"
   ]
  },
  {
   "cell_type": "code",
   "execution_count": 16,
   "metadata": {
    "collapsed": false
   },
   "outputs": [
    {
     "name": "stdout",
     "output_type": "stream",
     "text": [
      "filters used in short sequences\n",
      "['u' 'u' 'r' 'r' 'r' 'i' 'i' 'r' 'r' 'r' 'i' 'i' 'r' 'r' 'y' 'z' 'u' 'r'\n",
      " 'r' 'r' 'r' 'y' 'y' 'y' 'i' 'u' 'u' 'i' 'i' 'z' 'z' 'z' 'z' 'z' 'z' 'u'\n",
      " 'y' 'y' 'z' 'z' 'z' 'z' 'z' 'z' 'z' 'r' 'r' 'r' 'r' 'u' 'u' 'u' 'u' 'g'\n",
      " 'g' 'g' 'g' 'g' 'y' 'y' 'y' 'y' 'i' 'u' 'u' 'u' 'g' 'g' 'g' 'y' 'y' 'y'\n",
      " 'y' 'y' 'z' 'z' 'u' 'u' 'z' 'z' 'i' 'r' 'r' 'r' 'u' 'z' 'z' 'z' 'r' 'z'\n",
      " 'u' 'r' 'r' 'u' 'g' 'g' 'z' 'z' 'u' 'i' 'i' 'i' 'i' 'y' 'y' 'u' 'u' 'r'\n",
      " 'r' 'r' 'r' 'r' 'z' 'z' 'z' 'y' 'y' 'y' 'u' 'y' 'y' 'y' 'y' 'y' 'y' 'u'\n",
      " 'u' 'u' 'i' 'i' 'y' 'y' 'y' 'y' 'r' 'u' 'u' 'u' 'y' 'y' 'y' 'y' 'y' 'z'\n",
      " 'z' 'y' 'y' 'g' 'g' 'z' 'z' 'z' 'z' 'i' 'r' 'r' 'r' 'z' 'z' 'z' 'z' 'u'\n",
      " 'u' 'u' 'u' 'y' 'y' 'r']\n",
      "Number of non-u band short sequences: 136\n"
     ]
    }
   ],
   "source": [
    "print 'filters used in short sequences'\n",
    "seqfilter = data['filter'][gaps][np.where((tend_seq - tstart_seq)*24.*60 > 50)]\n",
    "nonu = seqfilter[np.where(seqfilter!='u')]\n",
    "print seqfilter\n",
    "print 'Number of non-u band short sequences:', len(nonu)"
   ]
  },
  {
   "cell_type": "code",
   "execution_count": null,
   "metadata": {
    "collapsed": true
   },
   "outputs": [],
   "source": []
  }
 ],
 "metadata": {
  "kernelspec": {
   "display_name": "Python 2",
   "language": "python",
   "name": "python2"
  },
  "language_info": {
   "codemirror_mode": {
    "name": "ipython",
    "version": 2
   },
   "file_extension": ".py",
   "mimetype": "text/x-python",
   "name": "python",
   "nbconvert_exporter": "python",
   "pygments_lexer": "ipython2",
   "version": "2.7.11"
  }
 },
 "nbformat": 4,
 "nbformat_minor": 0
}
