{
 "cells": [
  {
   "cell_type": "code",
   "execution_count": 1,
   "metadata": {
    "collapsed": true
   },
   "outputs": [],
   "source": [
    "import os\n",
    "import numpy as np\n",
    "import numpy.ma as ma\n",
    "import matplotlib.pyplot as plt\n",
    "% matplotlib inline"
   ]
  },
  {
   "cell_type": "code",
   "execution_count": 2,
   "metadata": {
    "collapsed": true
   },
   "outputs": [],
   "source": [
    "import lsst.sims.maf.metrics as metrics\n",
    "import lsst.sims.maf.slicers as slicers\n",
    "import lsst.sims.maf.stackers as stackers\n",
    "import lsst.sims.maf.plots as plots\n",
    "import lsst.sims.maf.db as db\n",
    "import lsst.sims.maf.metricBundles as mmb\n",
    "import lsst.sims.maf.utils as utils"
   ]
  },
  {
   "cell_type": "code",
   "execution_count": 3,
   "metadata": {
    "collapsed": true
   },
   "outputs": [],
   "source": [
    "def setupSlicer(orbitFile, Hrange, obsFile=None):\n",
    "    # Read the orbit file and set the H values for the slicer.\n",
    "    slicer = slicers.MoObjSlicer()\n",
    "    slicer.readOrbits(orbitFile, Hrange=Hrange)\n",
    "    if obsFile is not None:\n",
    "        slicer.readObs(obsFile)\n",
    "    return slicer"
   ]
  },
  {
   "cell_type": "code",
   "execution_count": 4,
   "metadata": {
    "collapsed": false
   },
   "outputs": [],
   "source": [
    "def setupBundle(slicer, metadata, nyr, snrLimit=10):\n",
    "    # basically any sql-like 'where' clause (actually interpreted by pandas)\n",
    "    constraint = 'night <= %d' %(nyr * 365)\n",
    "    # metadata to attach to this particular metric/constraint combo\n",
    "    md = metadata + ' year %d' % nyr\n",
    "    plotDict = {'nxbins': 200, 'nybins': 200,\n",
    "                'title': '%s: %s' % (runName, md)}\n",
    "    plotFuncs = [plots.MetricVsH()]\n",
    "    metric = metrics.ColorDeterminationMetric(nPairs=1, nHours=2, snrLimit=snrLimit, bOne='g', bTwo='r')\n",
    "    bundle = mmb.MoMetricBundle(metric, slicer, constraint,\n",
    "                                runName=runName, metadata=md,\n",
    "                                plotDict=plotDict, plotFuncs=plotFuncs)\n",
    "    return bundle"
   ]
  },
  {
   "cell_type": "code",
   "execution_count": 5,
   "metadata": {
    "collapsed": true
   },
   "outputs": [],
   "source": [
    "def setupStackers(trailingLossCol):\n",
    "    # trailingLossCol = 'dmagDetect' (PSF detection) or 'dmagTrail' (intrinsic SNR loss due to trailing)\n",
    "    magLimitStacker = stackers.MagLimitStacker(lossCol=trailingLossCol)\n",
    "    allStackers = stackers.AllMoStackers(magLimitStacker=magLimitStacker)\n",
    "    return allStackers"
   ]
  },
  {
   "cell_type": "code",
   "execution_count": 6,
   "metadata": {
    "collapsed": true
   },
   "outputs": [],
   "source": [
    "opsim = 'minion_1016'\n",
    "orbitFile = 'orbits/tnos_2k.des'\n",
    "obsFile = os.path.join(opsim, opsim + '__tnos_2k_obs.txt')\n",
    "#obsFile = os.path.join(opsim, opsim + '_tmp_obs.txt')\n",
    "Hrange = np.arange(5, 11, .5)"
   ]
  },
  {
   "cell_type": "code",
   "execution_count": 7,
   "metadata": {
    "collapsed": true
   },
   "outputs": [],
   "source": [
    "runName = opsim\n",
    "nyr = 10\n",
    "metadata = 'TNO'"
   ]
  },
  {
   "cell_type": "code",
   "execution_count": 10,
   "metadata": {
    "collapsed": false
   },
   "outputs": [],
   "source": [
    "slicer = setupSlicer(orbitFile, Hrange, obsFile=obsFile)"
   ]
  },
  {
   "cell_type": "code",
   "execution_count": 13,
   "metadata": {
    "collapsed": false
   },
   "outputs": [],
   "source": [
    "bundle_gr = setupBundle(slicer, metadata + ' g-r', nyr, 10)"
   ]
  },
  {
   "cell_type": "code",
   "execution_count": 14,
   "metadata": {
    "collapsed": false
   },
   "outputs": [],
   "source": [
    "allstackers_detect = setupStackers('dmagDetect')"
   ]
  },
  {
   "cell_type": "code",
   "execution_count": 15,
   "metadata": {
    "collapsed": false
   },
   "outputs": [
    {
     "name": "stdout",
     "output_type": "stream",
     "text": [
      "Calculated all metrics.\n",
      "Saving metric bundles.\n"
     ]
    }
   ],
   "source": [
    "bg = mmb.MoMetricBundleGroup({0:bundle_gr}, outDir='colors', resultsDb=None, \n",
    "                             allStackers=allstackers_detect)\n",
    "bg.runAll()\n",
    "bg.writeAll()\n",
    "bg.summaryAll()"
   ]
  },
  {
   "cell_type": "code",
   "execution_count": 34,
   "metadata": {
    "collapsed": false
   },
   "outputs": [
    {
     "data": {
      "text/plain": [
       "{'MetricVsH': 1}"
      ]
     },
     "execution_count": 34,
     "metadata": {},
     "output_type": "execute_result"
    },
    {
     "data": {
      "image/png": "[encoded data removed]",
      "text/plain": [
       "<matplotlib.figure.Figure at 0x12a367cd0>"
      ]
     },
     "metadata": {},
     "output_type": "display_data"
    }
   ],
   "source": [
    "# simple single-quantity plot.\n",
    "plotDict = {'color':'g', 'ylabel':'Likelihood of determining g-r color'}\n",
    "bundle_gr.setPlotDict(plotDict)\n",
    "bundle_gr.plot()"
   ]
  },
  {
   "cell_type": "code",
   "execution_count": 30,
   "metadata": {
    "collapsed": false
   },
   "outputs": [
    {
     "data": {
      "text/plain": [
       "1"
      ]
     },
     "execution_count": 30,
     "metadata": {},
     "output_type": "execute_result"
    },
    {
     "data": {
      "image/png": "[encoded data removed]",
      "text/plain": [
       "<matplotlib.figure.Figure at 0x12adabad0>"
      ]
     },
     "metadata": {},
     "output_type": "display_data"
    }
   ],
   "source": [
    "# More complicated plot\n",
    "ph = plots.PlotHandler()\n",
    "bundles = []\n",
    "plotDicts = []\n",
    "for val in ['min', 'mean', 'max']:\n",
    "    if val == 'min':\n",
    "        plotDict = {'color':'r', 'linestyle':':', 'npReduce':np.min, 'label':val}\n",
    "    elif val == 'max':\n",
    "        plotDict = {'color':'b', 'linestyle':':', 'npReduce':np.max, 'label':val}\n",
    "    elif val == 'mean':\n",
    "        plotDict = {'color':'g', 'linestyle':'-', 'npReduce':np.mean, 'label':val}\n",
    "    elif val == 'median':\n",
    "        plotDict = {'color':'b', 'linestyle':'-', 'npReduce':np.median, 'label':val}\n",
    "    plotDict['ylabel'] = 'Likelihood of determining g-r color'\n",
    "    bundles.append(bundle_gr)\n",
    "    plotDicts.append(plotDict)\n",
    "ph.setMetricBundles(bundles)\n",
    "ph.plot(plotFunc=plots.MetricVsH(), plotDicts=plotDicts)"
   ]
  }
 ],
 "metadata": {
  "kernelspec": {
   "display_name": "Python 2",
   "language": "python",
   "name": "python2"
  },
  "language_info": {
   "codemirror_mode": {
    "name": "ipython",
    "version": 2
   },
   "file_extension": ".py",
   "mimetype": "text/x-python",
   "name": "python",
   "nbconvert_exporter": "python",
   "pygments_lexer": "ipython2",
   "version": "2.7.11"
  }
 },
 "nbformat": 4,
 "nbformat_minor": 0
}
