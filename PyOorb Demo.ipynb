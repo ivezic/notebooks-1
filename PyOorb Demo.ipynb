{
 "cells": [
  {
   "cell_type": "code",
   "execution_count": 1,
   "metadata": {},
   "outputs": [],
   "source": [
    "import os\n",
    "import numpy as np\n",
    "import pyoorb as oo"
   ]
  },
  {
   "cell_type": "markdown",
   "metadata": {},
   "source": [
    "### Initialize Oorb"
   ]
  },
  {
   "cell_type": "code",
   "execution_count": 2,
   "metadata": {},
   "outputs": [
    {
     "data": {
      "text/plain": [
       "0"
      ]
     },
     "execution_count": 2,
     "metadata": {},
     "output_type": "execute_result"
    }
   ],
   "source": [
    "# Initialize oorb\n",
    "ephfile = os.path.join(os.getenv('OORB_DATA'), 'de405.dat')\n",
    "oo.pyoorb.oorb_init(ephfile)"
   ]
  },
  {
   "cell_type": "code",
   "execution_count": 3,
   "metadata": {},
   "outputs": [],
   "source": [
    "timeScales = {'UTC': 1, 'UT1': 2, 'TT': 3, 'TAI': 4}\n",
    "elemType = {'CART': 1, 'COM': 2, 'KEP': 3, 'DEL': 4, 'EQX': 5}"
   ]
  },
  {
   "cell_type": "markdown",
   "metadata": {},
   "source": [
    "### Read in some orbits."
   ]
  },
  {
   "cell_type": "code",
   "execution_count": 4,
   "metadata": {},
   "outputs": [],
   "source": [
    "# Set up some orbits\n",
    "# orb is id, 6 elements, epoch_mjd, H, G, element type index\n",
    "# keplerian appears to be element type index 3\n",
    "# orbits = numpy.array([0.,1.,2.,3.,4.,5.,6.,5373.,1.,1.,3.])\n",
    "o = np.loadtxt('test.des', dtype=([('objid', np.str_, 20), ('format', np.str_, 3),\n",
    "                                   ('q', float), ('e', float), ('inc', float), ('Omega', float),\n",
    "                                   ('argperi', float), ('tperi', float), ('H', float), ('epoch', float),\n",
    "                                   ('index', int), ('npar', int), ('moid', float), ('compcode', np.str_, 10)]),\n",
    "               skiprows=1)\n",
    "\n",
    "orbits = np.zeros([len(o), 12], dtype=np.double, order='F')\n",
    "orbits[:, 0] = np.arange(0, len(o), 1, dtype=float)\n",
    "orbits[:, 1] = o['q']\n",
    "orbits[:, 2] = o['e']\n",
    "orbits[:, 3] = o['inc']\n",
    "orbits[:, 4] = o['Omega']\n",
    "orbits[:, 5] = o['argperi']\n",
    "orbits[:, 6] = o['tperi']\n",
    "orbits[:, 7] = np.zeros(len(o), float) + elemType['COM']\n",
    "orbits[:, 8] = o['epoch']\n",
    "orbits[:, 9] = np.zeros(len(o), float) + timeScales['TT']\n",
    "orbits[:, 10] = o['H']\n",
    "orbits[:, 11] = np.zeros(len(o)) + 0.15\n",
    "for i in range(3, 6):\n",
    "    orbits[:, i] = np.radians(orbits[:, i])"
   ]
  },
  {
   "cell_type": "code",
   "execution_count": 5,
   "metadata": {},
   "outputs": [
    {
     "data": {
      "text/plain": [
       "array([[  0.00000000e+00,   2.72680464e+00,   1.43389847e-01,\n",
       "          1.11295242e-01,   1.69610904e+00,   5.11783260e+00,\n",
       "          5.37715237e+04,   2.00000000e+00,   5.44660000e+04,\n",
       "          3.00000000e+00,   1.75820000e+01,   1.50000000e-01],\n",
       "       [  1.00000000e+00,   2.64978782e+00,   5.60540098e-02,\n",
       "          1.36881230e-01,   2.99464483e+00,   2.50204097e+00,\n",
       "          5.49679725e+04,   2.00000000e+00,   5.44660000e+04,\n",
       "          3.00000000e+00,   2.05140000e+01,   1.50000000e-01],\n",
       "       [  2.00000000e+00,   2.82327567e+00,   8.02216088e-02,\n",
       "          2.03150687e-01,   1.70781814e+00,   5.79273522e+00,\n",
       "          5.36066833e+04,   2.00000000e+00,   5.44660000e+04,\n",
       "          3.00000000e+00,   1.83040000e+01,   1.50000000e-01]])"
      ]
     },
     "execution_count": 5,
     "metadata": {},
     "output_type": "execute_result"
    }
   ],
   "source": [
    "orbits"
   ]
  },
  {
   "cell_type": "markdown",
   "metadata": {},
   "source": [
    "### Generate ephemerides\n",
    "\n",
    "This does n-body propagation to the series of times specified."
   ]
  },
  {
   "cell_type": "code",
   "execution_count": 6,
   "metadata": {},
   "outputs": [],
   "source": [
    "offset = 30.\n",
    "times = [orbits[0][8], orbits[0][8] + offset]\n",
    "timescale = [timeScales['UTC']] * len(times)\n",
    "ephem_dates = np.array(list(zip(times, timescale)), dtype=np.double, order='F')\n",
    "ephs, err = oo.pyoorb.oorb_ephemeris(in_orbits=orbits,\n",
    "                                     in_obscode='I11',\n",
    "                                     in_date_ephems=ephem_dates)\n",
    "if err != 0:\n",
    "    print(err)"
   ]
  },
  {
   "cell_type": "code",
   "execution_count": 7,
   "metadata": {},
   "outputs": [
    {
     "name": "stdout",
     "output_type": "stream",
     "text": [
      "@ 54466.000000 [  3.15354161e+00   1.82578901e+02   5.88067583e+00   2.36498517e+01\n",
      "   5.44660000e+04   1.00000000e+00   1.04457019e-01  -3.41723209e-03\n",
      "   1.62736035e+01   9.97366501e+01]\n",
      "@ 54496.000000 [  2.77919808e+00   1.83595895e+02   6.69572318e+00   2.32687274e+01\n",
      "   5.44960000e+04   1.00000000e+00  -3.43432547e-02   5.77223374e-02\n",
      "   1.26202699e+01   1.29325279e+02]\n"
     ]
    }
   ],
   "source": [
    "i = 0\n",
    "start = ephs[i][0]\n",
    "end = ephs[i][1]\n",
    "print(\"@ %f\" % (ephem_dates[0][0]), start)\n",
    "print(\"@ %f\" % (ephem_dates[1][0]), end)"
   ]
  },
  {
   "cell_type": "markdown",
   "metadata": {},
   "source": [
    "### Transform orbital elements"
   ]
  },
  {
   "cell_type": "code",
   "execution_count": 8,
   "metadata": {},
   "outputs": [
    {
     "name": "stdout",
     "output_type": "stream",
     "text": [
      "Transforming from COM to CART\n",
      "Input and output orbital elements (COM / CART)\n",
      "in  [  0.00000000e+00   2.72680464e+00   1.43389847e-01   1.11295242e-01\n",
      "   1.69610904e+00   5.11783260e+00   5.37715237e+04   2.00000000e+00\n",
      "   5.44660000e+04   3.00000000e+00   1.75820000e+01   1.50000000e-01]\n",
      "out [  0.00000000e+00  -3.30147843e+00   9.67774744e-01   3.52552490e-01\n",
      "  -3.39925149e-03  -8.14684133e-03   4.90706192e-04   1.00000000e+00\n",
      "   5.44660000e+04   3.00000000e+00   1.75820000e+01   1.50000000e-01]\n"
     ]
    }
   ],
   "source": [
    "type2 = 'CART'\n",
    "print(\"Transforming from COM to %s\" % (type2))\n",
    "newElems, err = oo.pyoorb.oorb_element_transformation(in_orbits=orbits, in_element_type=elemType[type2])\n",
    "if err != 0:\n",
    "    print(\"error\", err)\n",
    "print(\"Input and output orbital elements (COM / CART)\")\n",
    "print(\"in \", orbits[i])\n",
    "print(\"out\", newElems[i])"
   ]
  },
  {
   "cell_type": "code",
   "execution_count": 9,
   "metadata": {},
   "outputs": [
    {
     "name": "stdout",
     "output_type": "stream",
     "text": [
      "Transforming back from CART to COM\n",
      "Input and output orbital elements (CART / COM)\n",
      "in  [  0.00000000e+00  -3.30147843e+00   9.67774744e-01   3.52552490e-01\n",
      "  -3.39925149e-03  -8.14684133e-03   4.90706192e-04   1.00000000e+00\n",
      "   5.44660000e+04   3.00000000e+00   1.75820000e+01   1.50000000e-01]\n",
      "out [  0.00000000e+00   2.72680464e+00   1.43389847e-01   1.11295242e-01\n",
      "   1.69610904e+00   5.11783260e+00   5.37715237e+04   2.00000000e+00\n",
      "   5.44660000e+04   3.00000000e+00   1.75820000e+01   1.50000000e-01]\n"
     ]
    }
   ],
   "source": [
    "print(\"Transforming back from %s to COM\" % (type2))\n",
    "newElems2, err = oo.pyoorb.oorb_element_transformation(in_orbits=newElems, in_element_type=elemType['COM'])\n",
    "if err != 0:\n",
    "    print(\"error\", err)\n",
    "print(\"Input and output orbital elements (CART / COM)\")\n",
    "print(\"in \", newElems[i])\n",
    "print(\"out\", newElems2[i])"
   ]
  },
  {
   "cell_type": "code",
   "execution_count": 10,
   "metadata": {},
   "outputs": [
    {
     "name": "stdout",
     "output_type": "stream",
     "text": [
      "Differences in the initial/final COM orb elements\n",
      "[[  0.00000000e+00  -1.73194792e-14   3.21964677e-15   2.35922393e-16\n",
      "   -4.44089210e-16   0.00000000e+00   0.00000000e+00   0.00000000e+00\n",
      "    0.00000000e+00   0.00000000e+00   0.00000000e+00   0.00000000e+00]\n",
      " [  0.00000000e+00  -2.13162821e-14   3.71924713e-15   1.66533454e-16\n",
      "   -1.02140518e-14   5.63993297e-14   1.45519152e-11   0.00000000e+00\n",
      "    0.00000000e+00   0.00000000e+00   0.00000000e+00   0.00000000e+00]\n",
      " [  0.00000000e+00  -2.57571742e-14   3.15025783e-15   1.66533454e-16\n",
      "    0.00000000e+00   7.72715225e-14   2.18278728e-11   0.00000000e+00\n",
      "    0.00000000e+00   0.00000000e+00   0.00000000e+00   0.00000000e+00]]\n"
     ]
    }
   ],
   "source": [
    "print('Differences in the initial/final COM orb elements')\n",
    "diffs = newElems2 - orbits\n",
    "print(diffs)"
   ]
  },
  {
   "cell_type": "markdown",
   "metadata": {},
   "source": [
    "There can be larger differences in the tPeri, as this is degenerate (previous or next orbit?). "
   ]
  },
  {
   "cell_type": "markdown",
   "metadata": {},
   "source": [
    "### Propagate orbits\n",
    "\n",
    "You can do both n-body and 2-body propagation (swap \\_nb to \\_2b). \n",
    "At the moment, oorb\\_propagation\\* crashes if you use anything other than CART (cartesian) elements. So transform first."
   ]
  },
  {
   "cell_type": "code",
   "execution_count": 11,
   "metadata": {},
   "outputs": [
    {
     "name": "stdout",
     "output_type": "stream",
     "text": [
      "Propagating orbits by 30 days\n",
      "Input and output orbital elements (0 and 30 days)\n",
      "in  [  0.00000000e+00   2.72680464e+00   1.43389847e-01   1.11295242e-01\n",
      "   1.69610904e+00   5.11783260e+00   5.37715237e+04   2.00000000e+00\n",
      "   5.44660000e+04   3.00000000e+00   1.75820000e+01   1.50000000e-01]\n",
      "out [  0.00000000e+00  -3.39281543e+00   7.20543871e-01   3.66133292e-01\n",
      "  -2.68965290e-03  -8.32572656e-03   4.14522375e-04   1.00000000e+00\n",
      "   5.44960000e+04   3.00000000e+00   1.75820000e+01   1.50000000e-01]\n"
     ]
    }
   ],
   "source": [
    "print(\"Propagating orbits by %d days\" % (offset))\n",
    "epoch_orig = orbits[i][8]\n",
    "epoch_new = epoch_orig + offset\n",
    "newEpoch = np.array([epoch_new, timeScales['TT']], dtype='double', order='F')\n",
    "# Note that currently you have to use CART format elements.\n",
    "elems = newElems\n",
    "newOorbElems, err = oo.pyoorb.oorb_propagation_nb(in_orbits=elems, in_epoch=newEpoch)\n",
    "if err != 0:\n",
    "    print(\"error\", err)\n",
    "print(\"Input and output orbital elements (0 and %d days)\" % (offset))\n",
    "print(\"in \", orbits[i])\n",
    "print(\"out\", newOorbElems[i])"
   ]
  },
  {
   "cell_type": "code",
   "execution_count": 12,
   "metadata": {},
   "outputs": [
    {
     "name": "stdout",
     "output_type": "stream",
     "text": [
      "Transforming new orbital elements to COM\n",
      "Input and output orbital elements (CART/COM)\n",
      "in  [  0.00000000e+00   2.72680464e+00   1.43389847e-01   1.11295242e-01\n",
      "   1.69610904e+00   5.11783260e+00   5.37715237e+04   2.00000000e+00\n",
      "   5.44660000e+04   3.00000000e+00   1.75820000e+01   1.50000000e-01]\n",
      "out [  0.00000000e+00   2.72662741e+00   1.43413828e-01   1.11295174e-01\n",
      "   1.69610744e+00   5.11761118e+00   5.37714875e+04   2.00000000e+00\n",
      "   5.44960000e+04   3.00000000e+00   1.75820000e+01   1.50000000e-01]\n",
      "epoch 54496.0 54496.0\n"
     ]
    }
   ],
   "source": [
    "print(\"Transforming new orbital elements to COM\")\n",
    "newElems3, err = oo.pyoorb.oorb_element_transformation(in_orbits=newOorbElems, in_element_type=elemType['COM'])\n",
    "if err != 0:\n",
    "    print(\"error\", err)\n",
    "print(\"Input and output orbital elements (CART/COM)\")\n",
    "print(\"in \", orbits[i])\n",
    "print(\"out\", newElems3[i])\n",
    "print('epoch', epoch_new, newElems3[i][8])"
   ]
  },
  {
   "cell_type": "code",
   "execution_count": 13,
   "metadata": {},
   "outputs": [
    {
     "name": "stdout",
     "output_type": "stream",
     "text": [
      "Object 0\n",
      " Orbit:  [  0.00000000e+00   2.72680464e+00   1.43389847e-01   1.11295242e-01\n",
      "   1.69610904e+00   5.11783260e+00   5.37715237e+04   2.00000000e+00\n",
      "   5.44660000e+04   3.00000000e+00   1.75820000e+01   1.50000000e-01]\n",
      "Just difference in mas in RA and then Dec\n",
      "  [  2.54772203e-05   2.91606739e-05] [ -1.07913678e-05  -1.26618716e-05]\n",
      "Object 1\n",
      " Orbit:  [  1.00000000e+00   2.64978782e+00   5.60540098e-02   1.36881230e-01\n",
      "   2.99464483e+00   2.50204097e+00   5.49679725e+04   2.00000000e+00\n",
      "   5.44660000e+04   3.00000000e+00   2.05140000e+01   1.50000000e-01]\n",
      "Just difference in mas in RA and then Dec\n",
      "  [  2.53749022e-05   2.92629920e-05] [ -5.07753839e-06  -4.98161512e-06]\n",
      "Object 2\n",
      " Orbit:  [  2.00000000e+00   2.82327567e+00   8.02216088e-02   2.03150687e-01\n",
      "   1.70781814e+00   5.79273522e+00   5.36066833e+04   2.00000000e+00\n",
      "   5.44660000e+04   3.00000000e+00   1.83040000e+01   1.50000000e-01]\n",
      "Just difference in mas in RA and then Dec\n",
      "  [  1.33013600e-06   1.33013600e-06] [ -4.47641924e-07  -4.66826577e-07]\n"
     ]
    }
   ],
   "source": [
    "# Generate ephemerides with these new elements, to compare.\n",
    "ephs2, err = oo.pyoorb.oorb_ephemeris(in_orbits=newElems3, in_obscode='I11',\n",
    "                                     in_date_ephems=ephem_dates)\n",
    "for i in range(len(newElems3)):\n",
    "    print('Object %d' % i)\n",
    "    print(' Orbit: ', orbits[i] )\n",
    "    diffs = ephs[i] - ephs2[i]\n",
    "    #print(\"Difference in ephemerides from ephemeris generation vs propagation + ephemeris generation\")\n",
    "    #print(diffs)\n",
    "    print(\"Just difference in mas in RA and then Dec\")\n",
    "    deltaRA = diffs[:,1] * 3600. * 1000.\n",
    "    deltaDec = diffs[:,2] * 3600. * 1000.\n",
    "    print(' ', deltaRA, deltaDec)"
   ]
  },
  {
   "cell_type": "markdown",
   "metadata": {},
   "source": [
    "Note that the difference can change depending on the length of time in 'offset'. Needs a bit further investigation, but I suspect this is due to the timescale of integration hard-coded into the different routines (?). "
   ]
  },
  {
   "cell_type": "code",
   "execution_count": null,
   "metadata": {},
   "outputs": [],
   "source": []
  }
 ],
 "metadata": {
  "kernelspec": {
   "display_name": "Python 3",
   "language": "python",
   "name": "python3"
  },
  "language_info": {
   "codemirror_mode": {
    "name": "ipython",
    "version": 3
   },
   "file_extension": ".py",
   "mimetype": "text/x-python",
   "name": "python",
   "nbconvert_exporter": "python",
   "pygments_lexer": "ipython3",
   "version": "3.6.2"
  }
 },
 "nbformat": 4,
 "nbformat_minor": 2
}
