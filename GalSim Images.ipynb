{
 "cells": [
  {
   "cell_type": "code",
   "execution_count": 1,
   "metadata": {
    "collapsed": true
   },
   "outputs": [],
   "source": [
    "import numpy as np\n",
    "import matplotlib.pyplot as plt\n",
    "%matplotlib inline"
   ]
  },
  {
   "cell_type": "code",
   "execution_count": 2,
   "metadata": {},
   "outputs": [],
   "source": [
    "import lsst.sims.photUtils as photUtils\n",
    "import lsst.sims.catUtils as catUtils\n",
    "import lsst.sims.GalSimInterface as galsimInterface\n",
    "from lsst.obs.lsstSim import LsstSimMapper"
   ]
  },
  {
   "cell_type": "code",
   "execution_count": 3,
   "metadata": {},
   "outputs": [
    {
     "name": "stderr",
     "output_type": "stream",
     "text": [
      "/Users/lynnej/lsstsw/stack/DarwinX86/sims_catalogs/2.3.5.sims.rc1/python/lsst/sims/catalogs/db/dbConnection.py:508: UserWarning: Duplicate object type id 25 specified: \n",
      "Output object ids may not be unique.\n",
      "This may not be a problem if you do not want globally unique id values\n",
      "  'want globally unique id values')\n",
      "/Users/lynnej/lsstsw/stack/DarwinX86/sims_catalogs/2.3.5.sims.rc1/python/lsst/sims/catalogs/db/dbConnection.py:508: UserWarning: Duplicate object type id 40 specified: \n",
      "Output object ids may not be unique.\n",
      "This may not be a problem if you do not want globally unique id values\n",
      "  'want globally unique id values')\n"
     ]
    }
   ],
   "source": [
    "from lsst.sims.utils import ObservationMetaData\n",
    "from lsst.sims.catUtils.utils import ObservationMetaDataGenerator"
   ]
  },
  {
   "cell_type": "code",
   "execution_count": 4,
   "metadata": {},
   "outputs": [],
   "source": [
    "class NoisyCatalog(galsimInterface.GalSimSSM):\n",
    "    noise_and_background = galsimInterface.ExampleCCDNoise(addNoise=True, addBackground=True)"
   ]
  },
  {
   "cell_type": "code",
   "execution_count": 5,
   "metadata": {},
   "outputs": [],
   "source": [
    "opsdb = '/Users/lynnej/opsim/db/minion_1016_sqlite.db'\n",
    "generator = ObservationMetaDataGenerator(database=opsdb, driver='sqlite')"
   ]
  },
  {
   "cell_type": "code",
   "execution_count": 6,
   "metadata": {},
   "outputs": [
    {
     "name": "stdout",
     "output_type": "stream",
     "text": [
      "1.081626 24.5 59782.98551 248.506176989 -35.9013062598 r 151038\n"
     ]
    }
   ],
   "source": [
    "night = 203\n",
    "query = 'select obsHistId, min(expMJD) from summary where night=%d and filter=\"r\"' %(night)\n",
    "res = generator.opsimdb.execute_arbitrary(query)\n",
    "obsHistId = res[0][0]\n",
    "expMJD_min = res[0][1]\n",
    "query = 'select fieldRA, fieldDec, expMJD, rotSkyPos, filter, FWHMeff, fiveSigmaDepth, obsHistId ' \\\n",
    "    'from summary where night=%d and filter=\"r\"' % night\n",
    "res = generator.opsimdb.execute_arbitrary(query)\n",
    "fieldRA = np.degrees(float(res[0][0]))\n",
    "fieldDec = np.degrees(float(res[0][1]))\n",
    "expMJD = float(res[0][2])\n",
    "rotSkyPos = np.degrees(float(res[0][3]))\n",
    "bandpass = str(res[0][4])\n",
    "seeing = float(res[0][5])\n",
    "m5 = float(res[0][6])\n",
    "m5 = 24.5\n",
    "obsHistId = int(res[0][7])\n",
    "print(seeing, m5, expMJD, fieldRA, fieldDec, bandpass, obsHistId)\n",
    "obs = ObservationMetaData(pointingRA = fieldRA, pointingDec = fieldDec,\n",
    "                         boundType='circle', boundLength=2.0, \n",
    "                         mjd = expMJD, rotSkyPos = rotSkyPos,\n",
    "                         bandpassName = bandpass, m5 = m5, seeing = seeing)"
   ]
  },
  {
   "cell_type": "code",
   "execution_count": 7,
   "metadata": {},
   "outputs": [
    {
     "name": "stderr",
     "output_type": "stream",
     "text": [
      "WARNING: ErfaWarning: ERFA function \"taiutc\" yielded 1 of \"dubious year (Note 4)\" [astropy._erfa.core]\n"
     ]
    }
   ],
   "source": [
    "ssmObj = catUtils.baseCatalogModels.SolarSystemObj()\n",
    "#cat = NoisyCatalog(ssmObj, obs)\n",
    "cat = galsimInterface.GalSimSSM(ssmObj, obs_metadata=obs)\n",
    "#starObj = catUtils.baseCatalogModels.StarObj()\n",
    "#cat = galsimInterface.GalSimStars(starObj, obs_metadata=obs)\n",
    "cat.camera = LsstSimMapper().camera\n",
    "cat.allowed_chips = ['R:1,1 S:1,1', 'R:1,1 S:0,0']"
   ]
  },
  {
   "cell_type": "code",
   "execution_count": 8,
   "metadata": {},
   "outputs": [
    {
     "data": {
      "text/plain": [
       "['ssmImage_R_1_1_S_1_1_r.fits', 'ssmImage_R_1_1_S_0_0_r.fits']"
      ]
     },
     "execution_count": 8,
     "metadata": {},
     "output_type": "execute_result"
    }
   ],
   "source": [
    "cat.setPSF(galsimInterface.Kolmogorov_and_Gaussian_PSF())\n",
    "#cat.setPSF(galsimInterface.DoubleGaussianPSF())\n",
    "cat.write_catalog('ssm_test_catalog.txt')\n",
    "cat.write_images(nameRoot='ssmImage')"
   ]
  },
  {
   "cell_type": "code",
   "execution_count": 9,
   "metadata": {},
   "outputs": [
    {
     "name": "stdout",
     "output_type": "stream",
     "text": [
      "40808.7\n"
     ]
    }
   ],
   "source": [
    "import lsst.afw.image as afwImage\n",
    "im = afwImage.ImageF('ssmImage_R_1_1_S_0_0_r.fits').getArray()\n",
    "total_counts = im.sum()\n",
    "print(total_counts)"
   ]
  },
  {
   "cell_type": "code",
   "execution_count": 10,
   "metadata": {},
   "outputs": [],
   "source": [
    "from lsst.sims.catalogs.definitions import InstanceCatalog\n",
    "from lsst.obs.lsstSim import LsstSimMapper\n",
    "\n",
    "class ic(InstanceCatalog, catUtils.mixins.AstrometrySSM, catUtils.mixins.CameraCoords):\n",
    "    camera = LsstSimMapper().camera\n",
    "    column_outputs = ['objid', 'raJ2000', 'decJ2000', 'chipName']\n",
    "    transformations = {'raJ2000': np.degrees, 'decJ2000': np.degrees}\n",
    "    default_formats = {'f':'%.13f'}"
   ]
  },
  {
   "cell_type": "code",
   "execution_count": 11,
   "metadata": {},
   "outputs": [
    {
     "name": "stderr",
     "output_type": "stream",
     "text": [
      "WARNING: ErfaWarning: ERFA function \"taiutc\" yielded 1 of \"dubious year (Note 4)\" [astropy._erfa.core]\n"
     ]
    }
   ],
   "source": [
    "cc = ic(ssmObj, obs)\n",
    "cc.write_catalog('testcat.txt')"
   ]
  },
  {
   "cell_type": "code",
   "execution_count": null,
   "metadata": {
    "collapsed": true
   },
   "outputs": [],
   "source": []
  }
 ],
 "metadata": {
  "kernelspec": {
   "display_name": "Python 3",
   "language": "python",
   "name": "python3"
  },
  "language_info": {
   "codemirror_mode": {
    "name": "ipython",
    "version": 3
   },
   "file_extension": ".py",
   "mimetype": "text/x-python",
   "name": "python",
   "nbconvert_exporter": "python",
   "pygments_lexer": "ipython3",
   "version": "3.6.1"
  }
 },
 "nbformat": 4,
 "nbformat_minor": 2
}
