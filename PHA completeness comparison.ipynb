{
 "cells": [
  {
   "cell_type": "code",
   "execution_count": 74,
   "metadata": {
    "collapsed": false
   },
   "outputs": [],
   "source": [
    "import os\n",
    "import numpy as np\n",
    "import pandas as pd\n",
    "from lsst.sims.maf.db import ResultsDb\n",
    "from IPython.display import display, HTML"
   ]
  },
  {
   "cell_type": "code",
   "execution_count": 61,
   "metadata": {
    "collapsed": true
   },
   "outputs": [],
   "source": [
    "newruns = ['minion_1016',\n",
    "           'astro_lsst_01_1016',\n",
    "           'astro_lsst_01_1015',\n",
    "           'astro_lsst_01_1017']\n",
    "oldruns = ['enigma_1189', 'enigma_1281', 'enigma_1282', 'minion_1016']"
   ]
  },
  {
   "cell_type": "code",
   "execution_count": 62,
   "metadata": {
    "collapsed": false
   },
   "outputs": [],
   "source": [
    "pha_new = {}\n",
    "neo_new = {}\n",
    "for r in newruns:\n",
    "    pha_new[r] = ResultsDb(os.path.join('.', r, 'pha_newsky'))\n",
    "    neo_new[r] = ResultsDb(os.path.join('.', r, 'neo_newsky'))"
   ]
  },
  {
   "cell_type": "code",
   "execution_count": 63,
   "metadata": {
    "collapsed": true
   },
   "outputs": [],
   "source": [
    "pha_old = {}\n",
    "neo_old = {}\n",
    "for r in oldruns:\n",
    "    pha_old[r] = ResultsDb(os.path.join('.', r, 'pha'))\n",
    "    neo_old[r] = ResultsDb(os.path.join('.', r, 'neo'))"
   ]
  },
  {
   "cell_type": "code",
   "execution_count": 64,
   "metadata": {
    "collapsed": false
   },
   "outputs": [],
   "source": [
    "def make_dataframe(runs, runlist, metricName='CumulativeCompleteness'):\n",
    "    summary = []\n",
    "    for r in runlist:\n",
    "        mId = runs[r].getMetricId(metricName)\n",
    "        s = runs[r].getSummaryStats(mId, summaryName=None)\n",
    "        summary.append(pd.DataFrame(zip(s['metricMetadata'], s['summaryValue']*100.0), columns=['metadata', r]))\n",
    "    df = summary[0]\n",
    "    for i in range(1, len(summary)):\n",
    "        df = pd.merge(df, summary[i], how='outer', on='metadata')\n",
    "    return df"
   ]
  },
  {
   "cell_type": "code",
   "execution_count": 65,
   "metadata": {
    "collapsed": false
   },
   "outputs": [],
   "source": [
    "pha_new_df = make_dataframe(pha_new, newruns)\n",
    "pha_old_df = make_dataframe(pha_old, oldruns)\n",
    "neo_new_df = make_dataframe(neo_new, newruns)\n",
    "neo_old_df = make_dataframe(neo_old, oldruns)"
   ]
  },
  {
   "cell_type": "code",
   "execution_count": 66,
   "metadata": {
    "collapsed": true
   },
   "outputs": [],
   "source": [
    "def show_match(metadata, df):\n",
    "    display(df[df.metadata.str.contains(metadata)])"
   ]
  },
  {
   "cell_type": "code",
   "execution_count": 67,
   "metadata": {
    "collapsed": true
   },
   "outputs": [],
   "source": [
    "def show_diff(metadata1, metadata2, df):\n",
    "    runnames = list(df.columns.values)\n",
    "    runnames.remove('metadata')\n",
    "    d = (df[df.metadata.str.contains(metadata2)][runnames].as_matrix() - \n",
    "         df[df.metadata.str.contains(metadata1)][runnames].as_matrix())\n",
    "    diff = pd.DataFrame(d, columns=runnames)\n",
    "    diff['average'] = np.nanmean(d)\n",
    "    print \"Going from %s to %s:\" % (metadata1, metadata2)\n",
    "    display(diff)"
   ]
  },
  {
   "cell_type": "code",
   "execution_count": 68,
   "metadata": {
    "collapsed": false
   },
   "outputs": [
    {
     "data": {
      "text/html": [
       "<div>\n",
       "<table border=\"1\" class=\"dataframe\">\n",
       "  <thead>\n",
       "    <tr style=\"text-align: right;\">\n",
       "      <th></th>\n",
       "      <th>metadata</th>\n",
       "      <th>minion_1016</th>\n",
       "      <th>astro_lsst_01_1016</th>\n",
       "      <th>astro_lsst_01_1015</th>\n",
       "      <th>astro_lsst_01_1017</th>\n",
       "    </tr>\n",
       "  </thead>\n",
       "  <tbody>\n",
       "    <tr>\n",
       "      <th>7</th>\n",
       "      <td>PHA 3 pairs in 15 nights yr 10</td>\n",
       "      <td>73.7</td>\n",
       "      <td>74.8</td>\n",
       "      <td>73.6</td>\n",
       "      <td>76.2</td>\n",
       "    </tr>\n",
       "  </tbody>\n",
       "</table>\n",
       "</div>"
      ],
      "text/plain": [
       "                         metadata  minion_1016  astro_lsst_01_1016  \\\n",
       "7  PHA 3 pairs in 15 nights yr 10         73.7                74.8   \n",
       "\n",
       "   astro_lsst_01_1015  astro_lsst_01_1017  \n",
       "7                73.6                76.2  "
      ]
     },
     "metadata": {},
     "output_type": "display_data"
    },
    {
     "data": {
      "text/html": [
       "<div>\n",
       "<table border=\"1\" class=\"dataframe\">\n",
       "  <thead>\n",
       "    <tr style=\"text-align: right;\">\n",
       "      <th></th>\n",
       "      <th>metadata</th>\n",
       "      <th>minion_1016</th>\n",
       "      <th>astro_lsst_01_1016</th>\n",
       "      <th>astro_lsst_01_1015</th>\n",
       "      <th>astro_lsst_01_1017</th>\n",
       "    </tr>\n",
       "  </thead>\n",
       "  <tbody>\n",
       "    <tr>\n",
       "      <th>43</th>\n",
       "      <td>PHA 3 pairs in 30 nights yr 10</td>\n",
       "      <td>76.0</td>\n",
       "      <td>76.8</td>\n",
       "      <td>77.4</td>\n",
       "      <td>79.0</td>\n",
       "    </tr>\n",
       "  </tbody>\n",
       "</table>\n",
       "</div>"
      ],
      "text/plain": [
       "                          metadata  minion_1016  astro_lsst_01_1016  \\\n",
       "43  PHA 3 pairs in 30 nights yr 10         76.0                76.8   \n",
       "\n",
       "    astro_lsst_01_1015  astro_lsst_01_1017  \n",
       "43                77.4                79.0  "
      ]
     },
     "metadata": {},
     "output_type": "display_data"
    },
    {
     "name": "stdout",
     "output_type": "stream",
     "text": [
      "Going from 3 pairs in 15 nights yr 10 to 3 pairs in 30 nights yr 10:\n"
     ]
    },
    {
     "data": {
      "text/html": [
       "<div>\n",
       "<table border=\"1\" class=\"dataframe\">\n",
       "  <thead>\n",
       "    <tr style=\"text-align: right;\">\n",
       "      <th></th>\n",
       "      <th>minion_1016</th>\n",
       "      <th>astro_lsst_01_1016</th>\n",
       "      <th>astro_lsst_01_1015</th>\n",
       "      <th>astro_lsst_01_1017</th>\n",
       "      <th>average</th>\n",
       "    </tr>\n",
       "  </thead>\n",
       "  <tbody>\n",
       "    <tr>\n",
       "      <th>0</th>\n",
       "      <td>2.2</td>\n",
       "      <td>2.0</td>\n",
       "      <td>3.8</td>\n",
       "      <td>2.8</td>\n",
       "      <td>2.7</td>\n",
       "    </tr>\n",
       "  </tbody>\n",
       "</table>\n",
       "</div>"
      ],
      "text/plain": [
       "   minion_1016  astro_lsst_01_1016  astro_lsst_01_1015  astro_lsst_01_1017  \\\n",
       "0          2.2                 2.0                 3.8                 2.8   \n",
       "\n",
       "   average  \n",
       "0      2.7  "
      ]
     },
     "metadata": {},
     "output_type": "display_data"
    },
    {
     "data": {
      "text/html": [
       "<div>\n",
       "<table border=\"1\" class=\"dataframe\">\n",
       "  <thead>\n",
       "    <tr style=\"text-align: right;\">\n",
       "      <th></th>\n",
       "      <th>metadata</th>\n",
       "      <th>minion_1016</th>\n",
       "      <th>astro_lsst_01_1016</th>\n",
       "      <th>astro_lsst_01_1015</th>\n",
       "      <th>astro_lsst_01_1017</th>\n",
       "    </tr>\n",
       "  </thead>\n",
       "  <tbody>\n",
       "    <tr>\n",
       "      <th>141</th>\n",
       "      <td>PHA 3 pairs in 15 nights yr 12</td>\n",
       "      <td>--</td>\n",
       "      <td>79.1</td>\n",
       "      <td>77.5</td>\n",
       "      <td>79.9</td>\n",
       "    </tr>\n",
       "  </tbody>\n",
       "</table>\n",
       "</div>"
      ],
      "text/plain": [
       "                           metadata  minion_1016  astro_lsst_01_1016  \\\n",
       "141  PHA 3 pairs in 15 nights yr 12           --                79.1   \n",
       "\n",
       "     astro_lsst_01_1015  astro_lsst_01_1017  \n",
       "141                77.5                79.9  "
      ]
     },
     "metadata": {},
     "output_type": "display_data"
    },
    {
     "name": "stdout",
     "output_type": "stream",
     "text": [
      "Going from 3 pairs in 15 nights yr 10 to 3 pairs in 15 nights yr 12:\n"
     ]
    },
    {
     "data": {
      "text/html": [
       "<div>\n",
       "<table border=\"1\" class=\"dataframe\">\n",
       "  <thead>\n",
       "    <tr style=\"text-align: right;\">\n",
       "      <th></th>\n",
       "      <th>minion_1016</th>\n",
       "      <th>astro_lsst_01_1016</th>\n",
       "      <th>astro_lsst_01_1015</th>\n",
       "      <th>astro_lsst_01_1017</th>\n",
       "      <th>average</th>\n",
       "    </tr>\n",
       "  </thead>\n",
       "  <tbody>\n",
       "    <tr>\n",
       "      <th>0</th>\n",
       "      <td>--</td>\n",
       "      <td>4.3</td>\n",
       "      <td>3.9</td>\n",
       "      <td>3.7</td>\n",
       "      <td>4.0</td>\n",
       "    </tr>\n",
       "  </tbody>\n",
       "</table>\n",
       "</div>"
      ],
      "text/plain": [
       "   minion_1016  astro_lsst_01_1016  astro_lsst_01_1015  astro_lsst_01_1017  \\\n",
       "0           --                 4.3                 3.9                 3.7   \n",
       "\n",
       "   average  \n",
       "0      4.0  "
      ]
     },
     "metadata": {},
     "output_type": "display_data"
    },
    {
     "data": {
      "text/html": [
       "<div>\n",
       "<table border=\"1\" class=\"dataframe\">\n",
       "  <thead>\n",
       "    <tr style=\"text-align: right;\">\n",
       "      <th></th>\n",
       "      <th>metadata</th>\n",
       "      <th>minion_1016</th>\n",
       "      <th>astro_lsst_01_1016</th>\n",
       "      <th>astro_lsst_01_1015</th>\n",
       "      <th>astro_lsst_01_1017</th>\n",
       "    </tr>\n",
       "  </thead>\n",
       "  <tbody>\n",
       "    <tr>\n",
       "      <th>159</th>\n",
       "      <td>PHA 3 pairs in 30 nights yr 12</td>\n",
       "      <td>--</td>\n",
       "      <td>80.8</td>\n",
       "      <td>80.9</td>\n",
       "      <td>82.5</td>\n",
       "    </tr>\n",
       "  </tbody>\n",
       "</table>\n",
       "</div>"
      ],
      "text/plain": [
       "                           metadata  minion_1016  astro_lsst_01_1016  \\\n",
       "159  PHA 3 pairs in 30 nights yr 12           --                80.8   \n",
       "\n",
       "     astro_lsst_01_1015  astro_lsst_01_1017  \n",
       "159                80.9                82.5  "
      ]
     },
     "metadata": {},
     "output_type": "display_data"
    },
    {
     "name": "stdout",
     "output_type": "stream",
     "text": [
      "Going from 3 pairs in 15 nights yr 12 to 3 pairs in 30 nights yr 12:\n"
     ]
    },
    {
     "data": {
      "text/html": [
       "<div>\n",
       "<table border=\"1\" class=\"dataframe\">\n",
       "  <thead>\n",
       "    <tr style=\"text-align: right;\">\n",
       "      <th></th>\n",
       "      <th>minion_1016</th>\n",
       "      <th>astro_lsst_01_1016</th>\n",
       "      <th>astro_lsst_01_1015</th>\n",
       "      <th>astro_lsst_01_1017</th>\n",
       "      <th>average</th>\n",
       "    </tr>\n",
       "  </thead>\n",
       "  <tbody>\n",
       "    <tr>\n",
       "      <th>0</th>\n",
       "      <td>--</td>\n",
       "      <td>1.7</td>\n",
       "      <td>3.4</td>\n",
       "      <td>2.6</td>\n",
       "      <td>2.6</td>\n",
       "    </tr>\n",
       "  </tbody>\n",
       "</table>\n",
       "</div>"
      ],
      "text/plain": [
       "   minion_1016  astro_lsst_01_1016  astro_lsst_01_1015  astro_lsst_01_1017  \\\n",
       "0           --                 1.7                 3.4                 2.6   \n",
       "\n",
       "   average  \n",
       "0      2.6  "
      ]
     },
     "metadata": {},
     "output_type": "display_data"
    },
    {
     "data": {
      "text/html": [
       "<div>\n",
       "<table border=\"1\" class=\"dataframe\">\n",
       "  <thead>\n",
       "    <tr style=\"text-align: right;\">\n",
       "      <th></th>\n",
       "      <th>metadata</th>\n",
       "      <th>minion_1016</th>\n",
       "      <th>astro_lsst_01_1016</th>\n",
       "      <th>astro_lsst_01_1015</th>\n",
       "      <th>astro_lsst_01_1017</th>\n",
       "    </tr>\n",
       "  </thead>\n",
       "  <tbody>\n",
       "    <tr>\n",
       "      <th>153</th>\n",
       "      <td>PHA 3 pairs in 30 nights trailing loss yr 12</td>\n",
       "      <td>--</td>\n",
       "      <td>81.5</td>\n",
       "      <td>82.9</td>\n",
       "      <td>83.9</td>\n",
       "    </tr>\n",
       "  </tbody>\n",
       "</table>\n",
       "</div>"
      ],
      "text/plain": [
       "                                         metadata  minion_1016  \\\n",
       "153  PHA 3 pairs in 30 nights trailing loss yr 12           --   \n",
       "\n",
       "     astro_lsst_01_1016  astro_lsst_01_1015  astro_lsst_01_1017  \n",
       "153                81.5                82.9                83.9  "
      ]
     },
     "metadata": {},
     "output_type": "display_data"
    },
    {
     "name": "stdout",
     "output_type": "stream",
     "text": [
      "Going from 3 pairs in 30 nights yr 12 to 3 pairs in 30 nights trailing loss yr 12:\n"
     ]
    },
    {
     "data": {
      "text/html": [
       "<div>\n",
       "<table border=\"1\" class=\"dataframe\">\n",
       "  <thead>\n",
       "    <tr style=\"text-align: right;\">\n",
       "      <th></th>\n",
       "      <th>minion_1016</th>\n",
       "      <th>astro_lsst_01_1016</th>\n",
       "      <th>astro_lsst_01_1015</th>\n",
       "      <th>astro_lsst_01_1017</th>\n",
       "      <th>average</th>\n",
       "    </tr>\n",
       "  </thead>\n",
       "  <tbody>\n",
       "    <tr>\n",
       "      <th>0</th>\n",
       "      <td>--</td>\n",
       "      <td>0.6</td>\n",
       "      <td>1.9</td>\n",
       "      <td>1.5</td>\n",
       "      <td>1.3</td>\n",
       "    </tr>\n",
       "  </tbody>\n",
       "</table>\n",
       "</div>"
      ],
      "text/plain": [
       "   minion_1016  astro_lsst_01_1016  astro_lsst_01_1015  astro_lsst_01_1017  \\\n",
       "0           --                 0.6                 1.9                 1.5   \n",
       "\n",
       "   average  \n",
       "0      1.3  "
      ]
     },
     "metadata": {},
     "output_type": "display_data"
    },
    {
     "data": {
      "text/html": [
       "<div>\n",
       "<table border=\"1\" class=\"dataframe\">\n",
       "  <thead>\n",
       "    <tr style=\"text-align: right;\">\n",
       "      <th></th>\n",
       "      <th>metadata</th>\n",
       "      <th>minion_1016</th>\n",
       "      <th>astro_lsst_01_1016</th>\n",
       "      <th>astro_lsst_01_1015</th>\n",
       "      <th>astro_lsst_01_1017</th>\n",
       "    </tr>\n",
       "  </thead>\n",
       "  <tbody>\n",
       "    <tr>\n",
       "      <th>156</th>\n",
       "      <td>PHA 3 pairs in 30 nights trailing loss, SNR=4 yr 12</td>\n",
       "      <td>--</td>\n",
       "      <td>83.8</td>\n",
       "      <td>85.6</td>\n",
       "      <td>86.0</td>\n",
       "    </tr>\n",
       "  </tbody>\n",
       "</table>\n",
       "</div>"
      ],
      "text/plain": [
       "                                                metadata  minion_1016  \\\n",
       "156  PHA 3 pairs in 30 nights trailing loss, SNR=4 yr 12           --   \n",
       "\n",
       "     astro_lsst_01_1016  astro_lsst_01_1015  astro_lsst_01_1017  \n",
       "156                83.8                85.6                86.0  "
      ]
     },
     "metadata": {},
     "output_type": "display_data"
    },
    {
     "name": "stdout",
     "output_type": "stream",
     "text": [
      "Going from 3 pairs in 30 nights trailing loss yr 12 to 3 pairs in 30 nights trailing loss, SNR=4 yr 12:\n"
     ]
    },
    {
     "data": {
      "text/html": [
       "<div>\n",
       "<table border=\"1\" class=\"dataframe\">\n",
       "  <thead>\n",
       "    <tr style=\"text-align: right;\">\n",
       "      <th></th>\n",
       "      <th>minion_1016</th>\n",
       "      <th>astro_lsst_01_1016</th>\n",
       "      <th>astro_lsst_01_1015</th>\n",
       "      <th>astro_lsst_01_1017</th>\n",
       "      <th>average</th>\n",
       "    </tr>\n",
       "  </thead>\n",
       "  <tbody>\n",
       "    <tr>\n",
       "      <th>0</th>\n",
       "      <td>--</td>\n",
       "      <td>2.3</td>\n",
       "      <td>2.8</td>\n",
       "      <td>2.1</td>\n",
       "      <td>2.4</td>\n",
       "    </tr>\n",
       "  </tbody>\n",
       "</table>\n",
       "</div>"
      ],
      "text/plain": [
       "   minion_1016  astro_lsst_01_1016  astro_lsst_01_1015  astro_lsst_01_1017  \\\n",
       "0           --                 2.3                 2.8                 2.1   \n",
       "\n",
       "   average  \n",
       "0      2.4  "
      ]
     },
     "metadata": {},
     "output_type": "display_data"
    }
   ],
   "source": [
    "df = pha_new_df\n",
    "match1 = '3 pairs in 15 nights yr 10'\n",
    "show_match(match1, df)\n",
    "match15 = '3 pairs in 30 nights yr 10'\n",
    "show_match(match15, df)\n",
    "show_diff(match1, match15, df)\n",
    "match2 = '3 pairs in 15 nights yr 12'\n",
    "show_match(match2, df)\n",
    "show_diff(match1, match2, df)\n",
    "\n",
    "match3 = '3 pairs in 30 nights yr 12'\n",
    "show_match(match3, df)\n",
    "show_diff(match2, match3, df)\n",
    "\n",
    "match4 = '3 pairs in 30 nights trailing loss yr 12'\n",
    "show_match(match4, df)\n",
    "show_diff(match3, match4, df)\n",
    "\n",
    "match5 = '3 pairs in 30 nights trailing loss, SNR=4 yr 12'\n",
    "show_match(match5, df)\n",
    "show_diff(match4, match5, df)"
   ]
  },
  {
   "cell_type": "code",
   "execution_count": 10,
   "metadata": {
    "collapsed": false
   },
   "outputs": [
    {
     "data": {
      "text/html": [
       "<div>\n",
       "<table border=\"1\" class=\"dataframe\">\n",
       "  <thead>\n",
       "    <tr style=\"text-align: right;\">\n",
       "      <th></th>\n",
       "      <th>metadata</th>\n",
       "      <th>minion_1016</th>\n",
       "      <th>astro_lsst_01_1015</th>\n",
       "      <th>astro_lsst_01_1017</th>\n",
       "      <th>astro_lsst_01_1016</th>\n",
       "    </tr>\n",
       "  </thead>\n",
       "  <tbody>\n",
       "    <tr>\n",
       "      <th>17</th>\n",
       "      <td>NEO 3 pairs in 15 nights yr 10</td>\n",
       "      <td>60.836294</td>\n",
       "      <td>57.718595</td>\n",
       "      <td>62.42445</td>\n",
       "      <td>56.811208</td>\n",
       "    </tr>\n",
       "  </tbody>\n",
       "</table>\n",
       "</div>"
      ],
      "text/plain": [
       "                          metadata  minion_1016  astro_lsst_01_1015  \\\n",
       "17  NEO 3 pairs in 15 nights yr 10    60.836294           57.718595   \n",
       "\n",
       "    astro_lsst_01_1017  astro_lsst_01_1016  \n",
       "17            62.42445           56.811208  "
      ]
     },
     "metadata": {},
     "output_type": "display_data"
    },
    {
     "data": {
      "text/html": [
       "<div>\n",
       "<table border=\"1\" class=\"dataframe\">\n",
       "  <thead>\n",
       "    <tr style=\"text-align: right;\">\n",
       "      <th></th>\n",
       "      <th>metadata</th>\n",
       "      <th>minion_1016</th>\n",
       "      <th>astro_lsst_01_1015</th>\n",
       "      <th>astro_lsst_01_1017</th>\n",
       "      <th>astro_lsst_01_1016</th>\n",
       "    </tr>\n",
       "  </thead>\n",
       "  <tbody>\n",
       "    <tr>\n",
       "      <th>106</th>\n",
       "      <td>NEO 3 pairs in 30 nights yr 10</td>\n",
       "      <td>63.38195</td>\n",
       "      <td>61.847965</td>\n",
       "      <td>65.166977</td>\n",
       "      <td>59.595336</td>\n",
       "    </tr>\n",
       "  </tbody>\n",
       "</table>\n",
       "</div>"
      ],
      "text/plain": [
       "                           metadata  minion_1016  astro_lsst_01_1015  \\\n",
       "106  NEO 3 pairs in 30 nights yr 10     63.38195           61.847965   \n",
       "\n",
       "     astro_lsst_01_1017  astro_lsst_01_1016  \n",
       "106           65.166977           59.595336  "
      ]
     },
     "metadata": {},
     "output_type": "display_data"
    },
    {
     "name": "stdout",
     "output_type": "stream",
     "text": [
      "Going from 3 pairs in 15 nights yr 10 to 3 pairs in 30 nights yr 10:\n"
     ]
    },
    {
     "data": {
      "text/html": [
       "<div>\n",
       "<table border=\"1\" class=\"dataframe\">\n",
       "  <thead>\n",
       "    <tr style=\"text-align: right;\">\n",
       "      <th></th>\n",
       "      <th>minion_1016</th>\n",
       "      <th>astro_lsst_01_1015</th>\n",
       "      <th>astro_lsst_01_1017</th>\n",
       "      <th>astro_lsst_01_1016</th>\n",
       "      <th>average</th>\n",
       "    </tr>\n",
       "  </thead>\n",
       "  <tbody>\n",
       "    <tr>\n",
       "      <th>0</th>\n",
       "      <td>2.545656</td>\n",
       "      <td>4.129371</td>\n",
       "      <td>2.742527</td>\n",
       "      <td>2.784128</td>\n",
       "      <td>3.050421</td>\n",
       "    </tr>\n",
       "  </tbody>\n",
       "</table>\n",
       "</div>"
      ],
      "text/plain": [
       "   minion_1016  astro_lsst_01_1015  astro_lsst_01_1017  astro_lsst_01_1016  \\\n",
       "0     2.545656            4.129371            2.742527            2.784128   \n",
       "\n",
       "    average  \n",
       "0  3.050421  "
      ]
     },
     "metadata": {},
     "output_type": "display_data"
    },
    {
     "data": {
      "text/html": [
       "<div>\n",
       "<table border=\"1\" class=\"dataframe\">\n",
       "  <thead>\n",
       "    <tr style=\"text-align: right;\">\n",
       "      <th></th>\n",
       "      <th>metadata</th>\n",
       "      <th>minion_1016</th>\n",
       "      <th>astro_lsst_01_1015</th>\n",
       "      <th>astro_lsst_01_1017</th>\n",
       "      <th>astro_lsst_01_1016</th>\n",
       "    </tr>\n",
       "  </thead>\n",
       "  <tbody>\n",
       "    <tr>\n",
       "      <th>18</th>\n",
       "      <td>NEO 3 pairs in 15 nights yr 12</td>\n",
       "      <td>60.836294</td>\n",
       "      <td>61.361651</td>\n",
       "      <td>65.922897</td>\n",
       "      <td>60.41197</td>\n",
       "    </tr>\n",
       "  </tbody>\n",
       "</table>\n",
       "</div>"
      ],
      "text/plain": [
       "                          metadata  minion_1016  astro_lsst_01_1015  \\\n",
       "18  NEO 3 pairs in 15 nights yr 12    60.836294           61.361651   \n",
       "\n",
       "    astro_lsst_01_1017  astro_lsst_01_1016  \n",
       "18           65.922897            60.41197  "
      ]
     },
     "metadata": {},
     "output_type": "display_data"
    },
    {
     "name": "stdout",
     "output_type": "stream",
     "text": [
      "Going from 3 pairs in 15 nights yr 10 to 3 pairs in 15 nights yr 12:\n"
     ]
    },
    {
     "data": {
      "text/html": [
       "<div>\n",
       "<table border=\"1\" class=\"dataframe\">\n",
       "  <thead>\n",
       "    <tr style=\"text-align: right;\">\n",
       "      <th></th>\n",
       "      <th>minion_1016</th>\n",
       "      <th>astro_lsst_01_1015</th>\n",
       "      <th>astro_lsst_01_1017</th>\n",
       "      <th>astro_lsst_01_1016</th>\n",
       "      <th>average</th>\n",
       "    </tr>\n",
       "  </thead>\n",
       "  <tbody>\n",
       "    <tr>\n",
       "      <th>0</th>\n",
       "      <td>0.0</td>\n",
       "      <td>3.643056</td>\n",
       "      <td>3.498447</td>\n",
       "      <td>3.600762</td>\n",
       "      <td>2.685566</td>\n",
       "    </tr>\n",
       "  </tbody>\n",
       "</table>\n",
       "</div>"
      ],
      "text/plain": [
       "   minion_1016  astro_lsst_01_1015  astro_lsst_01_1017  astro_lsst_01_1016  \\\n",
       "0          0.0            3.643056            3.498447            3.600762   \n",
       "\n",
       "    average  \n",
       "0  2.685566  "
      ]
     },
     "metadata": {},
     "output_type": "display_data"
    },
    {
     "data": {
      "text/html": [
       "<div>\n",
       "<table border=\"1\" class=\"dataframe\">\n",
       "  <thead>\n",
       "    <tr style=\"text-align: right;\">\n",
       "      <th></th>\n",
       "      <th>metadata</th>\n",
       "      <th>minion_1016</th>\n",
       "      <th>astro_lsst_01_1015</th>\n",
       "      <th>astro_lsst_01_1017</th>\n",
       "      <th>astro_lsst_01_1016</th>\n",
       "    </tr>\n",
       "  </thead>\n",
       "  <tbody>\n",
       "    <tr>\n",
       "      <th>107</th>\n",
       "      <td>NEO 3 pairs in 30 nights yr 12</td>\n",
       "      <td>63.38195</td>\n",
       "      <td>65.518469</td>\n",
       "      <td>68.662914</td>\n",
       "      <td>63.139089</td>\n",
       "    </tr>\n",
       "  </tbody>\n",
       "</table>\n",
       "</div>"
      ],
      "text/plain": [
       "                           metadata  minion_1016  astro_lsst_01_1015  \\\n",
       "107  NEO 3 pairs in 30 nights yr 12     63.38195           65.518469   \n",
       "\n",
       "     astro_lsst_01_1017  astro_lsst_01_1016  \n",
       "107           68.662914           63.139089  "
      ]
     },
     "metadata": {},
     "output_type": "display_data"
    },
    {
     "name": "stdout",
     "output_type": "stream",
     "text": [
      "Going from 3 pairs in 15 nights yr 12 to 3 pairs in 30 nights yr 12:\n"
     ]
    },
    {
     "data": {
      "text/html": [
       "<div>\n",
       "<table border=\"1\" class=\"dataframe\">\n",
       "  <thead>\n",
       "    <tr style=\"text-align: right;\">\n",
       "      <th></th>\n",
       "      <th>minion_1016</th>\n",
       "      <th>astro_lsst_01_1015</th>\n",
       "      <th>astro_lsst_01_1017</th>\n",
       "      <th>astro_lsst_01_1016</th>\n",
       "      <th>average</th>\n",
       "    </tr>\n",
       "  </thead>\n",
       "  <tbody>\n",
       "    <tr>\n",
       "      <th>0</th>\n",
       "      <td>2.545656</td>\n",
       "      <td>4.156818</td>\n",
       "      <td>2.740017</td>\n",
       "      <td>2.727119</td>\n",
       "      <td>3.042403</td>\n",
       "    </tr>\n",
       "  </tbody>\n",
       "</table>\n",
       "</div>"
      ],
      "text/plain": [
       "   minion_1016  astro_lsst_01_1015  astro_lsst_01_1017  astro_lsst_01_1016  \\\n",
       "0     2.545656            4.156818            2.740017            2.727119   \n",
       "\n",
       "    average  \n",
       "0  3.042403  "
      ]
     },
     "metadata": {},
     "output_type": "display_data"
    },
    {
     "data": {
      "text/html": [
       "<div>\n",
       "<table border=\"1\" class=\"dataframe\">\n",
       "  <thead>\n",
       "    <tr style=\"text-align: right;\">\n",
       "      <th></th>\n",
       "      <th>metadata</th>\n",
       "      <th>minion_1016</th>\n",
       "      <th>astro_lsst_01_1015</th>\n",
       "      <th>astro_lsst_01_1017</th>\n",
       "      <th>astro_lsst_01_1016</th>\n",
       "    </tr>\n",
       "  </thead>\n",
       "  <tbody>\n",
       "    <tr>\n",
       "      <th>78</th>\n",
       "      <td>NEO 3 pairs in 30 nights trailing loss yr 12</td>\n",
       "      <td>64.172126</td>\n",
       "      <td>67.446558</td>\n",
       "      <td>70.357363</td>\n",
       "      <td>63.883606</td>\n",
       "    </tr>\n",
       "  </tbody>\n",
       "</table>\n",
       "</div>"
      ],
      "text/plain": [
       "                                        metadata  minion_1016  \\\n",
       "78  NEO 3 pairs in 30 nights trailing loss yr 12    64.172126   \n",
       "\n",
       "    astro_lsst_01_1015  astro_lsst_01_1017  astro_lsst_01_1016  \n",
       "78           67.446558           70.357363           63.883606  "
      ]
     },
     "metadata": {},
     "output_type": "display_data"
    },
    {
     "name": "stdout",
     "output_type": "stream",
     "text": [
      "Going from 3 pairs in 30 nights yr 12 to 3 pairs in 30 nights trailing loss yr 12:\n"
     ]
    },
    {
     "data": {
      "text/html": [
       "<div>\n",
       "<table border=\"1\" class=\"dataframe\">\n",
       "  <thead>\n",
       "    <tr style=\"text-align: right;\">\n",
       "      <th></th>\n",
       "      <th>minion_1016</th>\n",
       "      <th>astro_lsst_01_1015</th>\n",
       "      <th>astro_lsst_01_1017</th>\n",
       "      <th>astro_lsst_01_1016</th>\n",
       "      <th>average</th>\n",
       "    </tr>\n",
       "  </thead>\n",
       "  <tbody>\n",
       "    <tr>\n",
       "      <th>0</th>\n",
       "      <td>0.790176</td>\n",
       "      <td>1.928089</td>\n",
       "      <td>1.694449</td>\n",
       "      <td>0.744518</td>\n",
       "      <td>1.289308</td>\n",
       "    </tr>\n",
       "  </tbody>\n",
       "</table>\n",
       "</div>"
      ],
      "text/plain": [
       "   minion_1016  astro_lsst_01_1015  astro_lsst_01_1017  astro_lsst_01_1016  \\\n",
       "0     0.790176            1.928089            1.694449            0.744518   \n",
       "\n",
       "    average  \n",
       "0  1.289308  "
      ]
     },
     "metadata": {},
     "output_type": "display_data"
    },
    {
     "data": {
      "text/html": [
       "<div>\n",
       "<table border=\"1\" class=\"dataframe\">\n",
       "  <thead>\n",
       "    <tr style=\"text-align: right;\">\n",
       "      <th></th>\n",
       "      <th>metadata</th>\n",
       "      <th>minion_1016</th>\n",
       "      <th>astro_lsst_01_1015</th>\n",
       "      <th>astro_lsst_01_1017</th>\n",
       "      <th>astro_lsst_01_1016</th>\n",
       "    </tr>\n",
       "  </thead>\n",
       "  <tbody>\n",
       "    <tr>\n",
       "      <th>93</th>\n",
       "      <td>NEO 3 pairs in 30 nights trailing loss, SNR=4 ...</td>\n",
       "      <td>67.537108</td>\n",
       "      <td>71.502199</td>\n",
       "      <td>73.616514</td>\n",
       "      <td>67.030553</td>\n",
       "    </tr>\n",
       "  </tbody>\n",
       "</table>\n",
       "</div>"
      ],
      "text/plain": [
       "                                             metadata  minion_1016  \\\n",
       "93  NEO 3 pairs in 30 nights trailing loss, SNR=4 ...    67.537108   \n",
       "\n",
       "    astro_lsst_01_1015  astro_lsst_01_1017  astro_lsst_01_1016  \n",
       "93           71.502199           73.616514           67.030553  "
      ]
     },
     "metadata": {},
     "output_type": "display_data"
    },
    {
     "name": "stdout",
     "output_type": "stream",
     "text": [
      "Going from 3 pairs in 30 nights trailing loss yr 12 to 3 pairs in 30 nights trailing loss, SNR=4 yr 12:\n"
     ]
    },
    {
     "data": {
      "text/html": [
       "<div>\n",
       "<table border=\"1\" class=\"dataframe\">\n",
       "  <thead>\n",
       "    <tr style=\"text-align: right;\">\n",
       "      <th></th>\n",
       "      <th>minion_1016</th>\n",
       "      <th>astro_lsst_01_1015</th>\n",
       "      <th>astro_lsst_01_1017</th>\n",
       "      <th>astro_lsst_01_1016</th>\n",
       "      <th>average</th>\n",
       "    </tr>\n",
       "  </thead>\n",
       "  <tbody>\n",
       "    <tr>\n",
       "      <th>0</th>\n",
       "      <td>3.364982</td>\n",
       "      <td>4.055641</td>\n",
       "      <td>3.259152</td>\n",
       "      <td>3.146947</td>\n",
       "      <td>3.45668</td>\n",
       "    </tr>\n",
       "  </tbody>\n",
       "</table>\n",
       "</div>"
      ],
      "text/plain": [
       "   minion_1016  astro_lsst_01_1015  astro_lsst_01_1017  astro_lsst_01_1016  \\\n",
       "0     3.364982            4.055641            3.259152            3.146947   \n",
       "\n",
       "   average  \n",
       "0  3.45668  "
      ]
     },
     "metadata": {},
     "output_type": "display_data"
    }
   ],
   "source": [
    "df = neo_new_df\n",
    "match1 = '3 pairs in 15 nights yr 10'\n",
    "show_match(match1, df)\n",
    "match15 = '3 pairs in 30 nights yr 10'\n",
    "show_match(match15, df)\n",
    "show_diff(match1, match15, df)\n",
    "match2 = '3 pairs in 15 nights yr 12'\n",
    "show_match(match2, df)\n",
    "show_diff(match1, match2, df)\n",
    "match3 = '3 pairs in 30 nights yr 12'\n",
    "show_match(match3, df)\n",
    "show_diff(match2, match3, df)\n",
    "match4 = '3 pairs in 30 nights trailing loss yr 12'\n",
    "show_match(match4, df)\n",
    "show_diff(match3, match4, df)\n",
    "match5 = '3 pairs in 30 nights trailing loss, SNR=4 yr 12'\n",
    "show_match(match5, df)\n",
    "show_diff(match4, match5, df)"
   ]
  },
  {
   "cell_type": "code",
   "execution_count": 11,
   "metadata": {
    "collapsed": false
   },
   "outputs": [
    {
     "data": {
      "text/html": [
       "<div>\n",
       "<table border=\"1\" class=\"dataframe\">\n",
       "  <thead>\n",
       "    <tr style=\"text-align: right;\">\n",
       "      <th></th>\n",
       "      <th>metadata</th>\n",
       "      <th>minion_1016</th>\n",
       "      <th>enigma_1281</th>\n",
       "      <th>enigma_1189</th>\n",
       "      <th>enigma_1282</th>\n",
       "    </tr>\n",
       "  </thead>\n",
       "  <tbody>\n",
       "    <tr>\n",
       "      <th>7</th>\n",
       "      <td>PHA 3 pairs in 15 nights yr 10</td>\n",
       "      <td>72.286809</td>\n",
       "      <td>70.064613</td>\n",
       "      <td>74.964997</td>\n",
       "      <td>67.029049</td>\n",
       "    </tr>\n",
       "  </tbody>\n",
       "</table>\n",
       "</div>"
      ],
      "text/plain": [
       "                         metadata  minion_1016  enigma_1281  enigma_1189  \\\n",
       "7  PHA 3 pairs in 15 nights yr 10    72.286809    70.064613    74.964997   \n",
       "\n",
       "   enigma_1282  \n",
       "7    67.029049  "
      ]
     },
     "metadata": {},
     "output_type": "display_data"
    },
    {
     "data": {
      "text/html": [
       "<div>\n",
       "<table border=\"1\" class=\"dataframe\">\n",
       "  <thead>\n",
       "    <tr style=\"text-align: right;\">\n",
       "      <th></th>\n",
       "      <th>metadata</th>\n",
       "      <th>minion_1016</th>\n",
       "      <th>enigma_1281</th>\n",
       "      <th>enigma_1189</th>\n",
       "      <th>enigma_1282</th>\n",
       "    </tr>\n",
       "  </thead>\n",
       "  <tbody>\n",
       "    <tr>\n",
       "      <th>43</th>\n",
       "      <td>PHA 3 pairs in 30 nights yr 10</td>\n",
       "      <td>74.810999</td>\n",
       "      <td>73.124718</td>\n",
       "      <td>77.59089</td>\n",
       "      <td>71.435025</td>\n",
       "    </tr>\n",
       "  </tbody>\n",
       "</table>\n",
       "</div>"
      ],
      "text/plain": [
       "                          metadata  minion_1016  enigma_1281  enigma_1189  \\\n",
       "43  PHA 3 pairs in 30 nights yr 10    74.810999    73.124718     77.59089   \n",
       "\n",
       "    enigma_1282  \n",
       "43    71.435025  "
      ]
     },
     "metadata": {},
     "output_type": "display_data"
    },
    {
     "name": "stdout",
     "output_type": "stream",
     "text": [
      "Going from 3 pairs in 15 nights yr 10 to 3 pairs in 30 nights yr 10:\n"
     ]
    },
    {
     "data": {
      "text/html": [
       "<div>\n",
       "<table border=\"1\" class=\"dataframe\">\n",
       "  <thead>\n",
       "    <tr style=\"text-align: right;\">\n",
       "      <th></th>\n",
       "      <th>minion_1016</th>\n",
       "      <th>enigma_1281</th>\n",
       "      <th>enigma_1189</th>\n",
       "      <th>enigma_1282</th>\n",
       "      <th>average</th>\n",
       "    </tr>\n",
       "  </thead>\n",
       "  <tbody>\n",
       "    <tr>\n",
       "      <th>0</th>\n",
       "      <td>2.52419</td>\n",
       "      <td>3.060105</td>\n",
       "      <td>2.625893</td>\n",
       "      <td>4.405976</td>\n",
       "      <td>3.154041</td>\n",
       "    </tr>\n",
       "  </tbody>\n",
       "</table>\n",
       "</div>"
      ],
      "text/plain": [
       "   minion_1016  enigma_1281  enigma_1189  enigma_1282   average\n",
       "0      2.52419     3.060105     2.625893     4.405976  3.154041"
      ]
     },
     "metadata": {},
     "output_type": "display_data"
    },
    {
     "data": {
      "text/html": [
       "<div>\n",
       "<table border=\"1\" class=\"dataframe\">\n",
       "  <thead>\n",
       "    <tr style=\"text-align: right;\">\n",
       "      <th></th>\n",
       "      <th>metadata</th>\n",
       "      <th>minion_1016</th>\n",
       "      <th>enigma_1281</th>\n",
       "      <th>enigma_1189</th>\n",
       "      <th>enigma_1282</th>\n",
       "    </tr>\n",
       "  </thead>\n",
       "  <tbody>\n",
       "    <tr>\n",
       "      <th>31</th>\n",
       "      <td>PHA 3 pairs in 30 nights trailing loss yr 10</td>\n",
       "      <td>75.24956</td>\n",
       "      <td>73.645192</td>\n",
       "      <td>78.012546</td>\n",
       "      <td>72.167027</td>\n",
       "    </tr>\n",
       "  </tbody>\n",
       "</table>\n",
       "</div>"
      ],
      "text/plain": [
       "                                        metadata  minion_1016  enigma_1281  \\\n",
       "31  PHA 3 pairs in 30 nights trailing loss yr 10     75.24956    73.645192   \n",
       "\n",
       "    enigma_1189  enigma_1282  \n",
       "31    78.012546    72.167027  "
      ]
     },
     "metadata": {},
     "output_type": "display_data"
    },
    {
     "name": "stdout",
     "output_type": "stream",
     "text": [
      "Going from 3 pairs in 30 nights yr 10 to 3 pairs in 30 nights trailing loss yr 10:\n"
     ]
    },
    {
     "data": {
      "text/html": [
       "<div>\n",
       "<table border=\"1\" class=\"dataframe\">\n",
       "  <thead>\n",
       "    <tr style=\"text-align: right;\">\n",
       "      <th></th>\n",
       "      <th>minion_1016</th>\n",
       "      <th>enigma_1281</th>\n",
       "      <th>enigma_1189</th>\n",
       "      <th>enigma_1282</th>\n",
       "      <th>average</th>\n",
       "    </tr>\n",
       "  </thead>\n",
       "  <tbody>\n",
       "    <tr>\n",
       "      <th>0</th>\n",
       "      <td>0.438562</td>\n",
       "      <td>0.520475</td>\n",
       "      <td>0.421656</td>\n",
       "      <td>0.732002</td>\n",
       "      <td>0.528173</td>\n",
       "    </tr>\n",
       "  </tbody>\n",
       "</table>\n",
       "</div>"
      ],
      "text/plain": [
       "   minion_1016  enigma_1281  enigma_1189  enigma_1282   average\n",
       "0     0.438562     0.520475     0.421656     0.732002  0.528173"
      ]
     },
     "metadata": {},
     "output_type": "display_data"
    },
    {
     "data": {
      "text/html": [
       "<div>\n",
       "<table border=\"1\" class=\"dataframe\">\n",
       "  <thead>\n",
       "    <tr style=\"text-align: right;\">\n",
       "      <th></th>\n",
       "      <th>metadata</th>\n",
       "      <th>minion_1016</th>\n",
       "      <th>enigma_1281</th>\n",
       "      <th>enigma_1189</th>\n",
       "      <th>enigma_1282</th>\n",
       "    </tr>\n",
       "  </thead>\n",
       "  <tbody>\n",
       "    <tr>\n",
       "      <th>37</th>\n",
       "      <td>PHA 3 pairs in 30 nights trailing loss, SNR=4 ...</td>\n",
       "      <td>77.961248</td>\n",
       "      <td>76.531139</td>\n",
       "      <td>80.638334</td>\n",
       "      <td>74.686238</td>\n",
       "    </tr>\n",
       "  </tbody>\n",
       "</table>\n",
       "</div>"
      ],
      "text/plain": [
       "                                             metadata  minion_1016  \\\n",
       "37  PHA 3 pairs in 30 nights trailing loss, SNR=4 ...    77.961248   \n",
       "\n",
       "    enigma_1281  enigma_1189  enigma_1282  \n",
       "37    76.531139    80.638334    74.686238  "
      ]
     },
     "metadata": {},
     "output_type": "display_data"
    },
    {
     "name": "stdout",
     "output_type": "stream",
     "text": [
      "Going from 3 pairs in 30 nights trailing loss yr 10 to 3 pairs in 30 nights trailing loss, SNR=4 yr 10:\n"
     ]
    },
    {
     "data": {
      "text/html": [
       "<div>\n",
       "<table border=\"1\" class=\"dataframe\">\n",
       "  <thead>\n",
       "    <tr style=\"text-align: right;\">\n",
       "      <th></th>\n",
       "      <th>minion_1016</th>\n",
       "      <th>enigma_1281</th>\n",
       "      <th>enigma_1189</th>\n",
       "      <th>enigma_1282</th>\n",
       "      <th>average</th>\n",
       "    </tr>\n",
       "  </thead>\n",
       "  <tbody>\n",
       "    <tr>\n",
       "      <th>0</th>\n",
       "      <td>2.711687</td>\n",
       "      <td>2.885947</td>\n",
       "      <td>2.625788</td>\n",
       "      <td>2.519211</td>\n",
       "      <td>2.685658</td>\n",
       "    </tr>\n",
       "  </tbody>\n",
       "</table>\n",
       "</div>"
      ],
      "text/plain": [
       "   minion_1016  enigma_1281  enigma_1189  enigma_1282   average\n",
       "0     2.711687     2.885947     2.625788     2.519211  2.685658"
      ]
     },
     "metadata": {},
     "output_type": "display_data"
    }
   ],
   "source": [
    "df = pha_old_df\n",
    "match2 = '3 pairs in 15 nights yr 10'\n",
    "show_match(match2, df)\n",
    "#show_diff(match1, match2, df)\n",
    "match3 = '3 pairs in 30 nights yr 10'\n",
    "show_match(match3, df)\n",
    "show_diff(match2, match3, df)\n",
    "match4 = '3 pairs in 30 nights trailing loss yr 10'\n",
    "show_match(match4, df)\n",
    "show_diff(match3, match4, df)\n",
    "match5 = '3 pairs in 30 nights trailing loss, SNR=4 yr 10'\n",
    "show_match(match5, df)\n",
    "show_diff(match4, match5, df)"
   ]
  },
  {
   "cell_type": "code",
   "execution_count": 12,
   "metadata": {
    "collapsed": false,
    "scrolled": true
   },
   "outputs": [
    {
     "data": {
      "text/html": [
       "<div>\n",
       "<table border=\"1\" class=\"dataframe\">\n",
       "  <thead>\n",
       "    <tr style=\"text-align: right;\">\n",
       "      <th></th>\n",
       "      <th>metadata</th>\n",
       "      <th>minion_1016</th>\n",
       "      <th>astro_lsst_01_1015</th>\n",
       "      <th>astro_lsst_01_1017</th>\n",
       "      <th>astro_lsst_01_1016</th>\n",
       "    </tr>\n",
       "  </thead>\n",
       "  <tbody>\n",
       "    <tr>\n",
       "      <th>7</th>\n",
       "      <td>PHA 3 pairs in 15 nights yr 10</td>\n",
       "      <td>73.729326</td>\n",
       "      <td>73.612485</td>\n",
       "      <td>76.205749</td>\n",
       "      <td>74.829865</td>\n",
       "    </tr>\n",
       "  </tbody>\n",
       "</table>\n",
       "</div>"
      ],
      "text/plain": [
       "                         metadata  minion_1016  astro_lsst_01_1015  \\\n",
       "7  PHA 3 pairs in 15 nights yr 10    73.729326           73.612485   \n",
       "\n",
       "   astro_lsst_01_1017  astro_lsst_01_1016  \n",
       "7           76.205749           74.829865  "
      ]
     },
     "metadata": {},
     "output_type": "display_data"
    },
    {
     "data": {
      "text/html": [
       "<div>\n",
       "<table border=\"1\" class=\"dataframe\">\n",
       "  <thead>\n",
       "    <tr style=\"text-align: right;\">\n",
       "      <th></th>\n",
       "      <th>metadata</th>\n",
       "      <th>minion_1016</th>\n",
       "      <th>astro_lsst_01_1015</th>\n",
       "      <th>astro_lsst_01_1017</th>\n",
       "      <th>astro_lsst_01_1016</th>\n",
       "    </tr>\n",
       "  </thead>\n",
       "  <tbody>\n",
       "    <tr>\n",
       "      <th>17</th>\n",
       "      <td>NEO 3 pairs in 15 nights yr 10</td>\n",
       "      <td>60.836294</td>\n",
       "      <td>57.718595</td>\n",
       "      <td>62.42445</td>\n",
       "      <td>56.811208</td>\n",
       "    </tr>\n",
       "  </tbody>\n",
       "</table>\n",
       "</div>"
      ],
      "text/plain": [
       "                          metadata  minion_1016  astro_lsst_01_1015  \\\n",
       "17  NEO 3 pairs in 15 nights yr 10    60.836294           57.718595   \n",
       "\n",
       "    astro_lsst_01_1017  astro_lsst_01_1016  \n",
       "17            62.42445           56.811208  "
      ]
     },
     "metadata": {},
     "output_type": "display_data"
    },
    {
     "data": {
      "text/html": [
       "<div>\n",
       "<table border=\"1\" class=\"dataframe\">\n",
       "  <thead>\n",
       "    <tr style=\"text-align: right;\">\n",
       "      <th></th>\n",
       "      <th>minion_1016</th>\n",
       "      <th>astro_lsst_01_1015</th>\n",
       "      <th>astro_lsst_01_1017</th>\n",
       "      <th>astro_lsst_01_1016</th>\n",
       "      <th>average</th>\n",
       "    </tr>\n",
       "  </thead>\n",
       "  <tbody>\n",
       "    <tr>\n",
       "      <th>0</th>\n",
       "      <td>-12.893032</td>\n",
       "      <td>-15.893891</td>\n",
       "      <td>-13.781299</td>\n",
       "      <td>-18.018657</td>\n",
       "      <td>-15.14672</td>\n",
       "    </tr>\n",
       "  </tbody>\n",
       "</table>\n",
       "</div>"
      ],
      "text/plain": [
       "   minion_1016  astro_lsst_01_1015  astro_lsst_01_1017  astro_lsst_01_1016  \\\n",
       "0   -12.893032          -15.893891          -13.781299          -18.018657   \n",
       "\n",
       "    average  \n",
       "0 -15.14672  "
      ]
     },
     "metadata": {},
     "output_type": "display_data"
    }
   ],
   "source": [
    "# compare NEO completeness to PHA completeness\n",
    "def show_two(metadata, df1, df2):\n",
    "    runnames1 = set(df1.columns.values)\n",
    "    runnames2 = set(df2.columns.values)\n",
    "    runnames = runnames1.intersection(runnames2)\n",
    "    runnames = list(runnames)\n",
    "    runnames.remove('metadata')\n",
    "    d = (df2[df2.metadata.str.contains(metadata)][runnames].as_matrix() - \n",
    "         df1[df1.metadata.str.contains(metadata)][runnames].as_matrix())\n",
    "    diff = pd.DataFrame(d, columns=runnames)\n",
    "    diff['average'] = np.nanmean(d)\n",
    "    display(diff)\n",
    "\n",
    "match = '3 pairs in 15 nights yr 10'\n",
    "df1 = pha_new_df\n",
    "df2 = neo_new_df\n",
    "show_match(match, df1)\n",
    "show_match(match, df2)\n",
    "show_two(match, df1, df2)"
   ]
  },
  {
   "cell_type": "code",
   "execution_count": 13,
   "metadata": {
    "collapsed": false
   },
   "outputs": [
    {
     "data": {
      "text/html": [
       "<div>\n",
       "<table border=\"1\" class=\"dataframe\">\n",
       "  <thead>\n",
       "    <tr style=\"text-align: right;\">\n",
       "      <th></th>\n",
       "      <th>metadata</th>\n",
       "      <th>minion_1016</th>\n",
       "      <th>enigma_1281</th>\n",
       "      <th>enigma_1189</th>\n",
       "      <th>enigma_1282</th>\n",
       "    </tr>\n",
       "  </thead>\n",
       "  <tbody>\n",
       "    <tr>\n",
       "      <th>7</th>\n",
       "      <td>NEO 3 pairs in 15 nights yr 10</td>\n",
       "      <td>59.461635</td>\n",
       "      <td>57.851317</td>\n",
       "      <td>64.833056</td>\n",
       "      <td>54.657858</td>\n",
       "    </tr>\n",
       "  </tbody>\n",
       "</table>\n",
       "</div>"
      ],
      "text/plain": [
       "                         metadata  minion_1016  enigma_1281  enigma_1189  \\\n",
       "7  NEO 3 pairs in 15 nights yr 10    59.461635    57.851317    64.833056   \n",
       "\n",
       "   enigma_1282  \n",
       "7    54.657858  "
      ]
     },
     "metadata": {},
     "output_type": "display_data"
    },
    {
     "data": {
      "text/html": [
       "<div>\n",
       "<table border=\"1\" class=\"dataframe\">\n",
       "  <thead>\n",
       "    <tr style=\"text-align: right;\">\n",
       "      <th></th>\n",
       "      <th>metadata</th>\n",
       "      <th>minion_1016</th>\n",
       "      <th>enigma_1281</th>\n",
       "      <th>enigma_1189</th>\n",
       "      <th>enigma_1282</th>\n",
       "    </tr>\n",
       "  </thead>\n",
       "  <tbody>\n",
       "    <tr>\n",
       "      <th>43</th>\n",
       "      <td>NEO 3 pairs in 30 nights yr 10</td>\n",
       "      <td>62.424463</td>\n",
       "      <td>61.716776</td>\n",
       "      <td>68.361687</td>\n",
       "      <td>59.231282</td>\n",
       "    </tr>\n",
       "  </tbody>\n",
       "</table>\n",
       "</div>"
      ],
      "text/plain": [
       "                          metadata  minion_1016  enigma_1281  enigma_1189  \\\n",
       "43  NEO 3 pairs in 30 nights yr 10    62.424463    61.716776    68.361687   \n",
       "\n",
       "    enigma_1282  \n",
       "43    59.231282  "
      ]
     },
     "metadata": {},
     "output_type": "display_data"
    },
    {
     "name": "stdout",
     "output_type": "stream",
     "text": [
      "Going from 3 pairs in 15 nights yr 10 to 3 pairs in 30 nights yr 10:\n"
     ]
    },
    {
     "data": {
      "text/html": [
       "<div>\n",
       "<table border=\"1\" class=\"dataframe\">\n",
       "  <thead>\n",
       "    <tr style=\"text-align: right;\">\n",
       "      <th></th>\n",
       "      <th>minion_1016</th>\n",
       "      <th>enigma_1281</th>\n",
       "      <th>enigma_1189</th>\n",
       "      <th>enigma_1282</th>\n",
       "      <th>average</th>\n",
       "    </tr>\n",
       "  </thead>\n",
       "  <tbody>\n",
       "    <tr>\n",
       "      <th>0</th>\n",
       "      <td>2.962827</td>\n",
       "      <td>3.865459</td>\n",
       "      <td>3.528631</td>\n",
       "      <td>4.573424</td>\n",
       "      <td>3.732585</td>\n",
       "    </tr>\n",
       "  </tbody>\n",
       "</table>\n",
       "</div>"
      ],
      "text/plain": [
       "   minion_1016  enigma_1281  enigma_1189  enigma_1282   average\n",
       "0     2.962827     3.865459     3.528631     4.573424  3.732585"
      ]
     },
     "metadata": {},
     "output_type": "display_data"
    },
    {
     "data": {
      "text/html": [
       "<div>\n",
       "<table border=\"1\" class=\"dataframe\">\n",
       "  <thead>\n",
       "    <tr style=\"text-align: right;\">\n",
       "      <th></th>\n",
       "      <th>metadata</th>\n",
       "      <th>minion_1016</th>\n",
       "      <th>enigma_1281</th>\n",
       "      <th>enigma_1189</th>\n",
       "      <th>enigma_1282</th>\n",
       "    </tr>\n",
       "  </thead>\n",
       "  <tbody>\n",
       "    <tr>\n",
       "      <th>31</th>\n",
       "      <td>NEO 3 pairs in 30 nights trailing loss yr 10</td>\n",
       "      <td>63.049837</td>\n",
       "      <td>62.327055</td>\n",
       "      <td>68.633961</td>\n",
       "      <td>59.775857</td>\n",
       "    </tr>\n",
       "  </tbody>\n",
       "</table>\n",
       "</div>"
      ],
      "text/plain": [
       "                                        metadata  minion_1016  enigma_1281  \\\n",
       "31  NEO 3 pairs in 30 nights trailing loss yr 10    63.049837    62.327055   \n",
       "\n",
       "    enigma_1189  enigma_1282  \n",
       "31    68.633961    59.775857  "
      ]
     },
     "metadata": {},
     "output_type": "display_data"
    },
    {
     "name": "stdout",
     "output_type": "stream",
     "text": [
      "Going from 3 pairs in 30 nights yr 10 to 3 pairs in 30 nights trailing loss yr 10:\n"
     ]
    },
    {
     "data": {
      "text/html": [
       "<div>\n",
       "<table border=\"1\" class=\"dataframe\">\n",
       "  <thead>\n",
       "    <tr style=\"text-align: right;\">\n",
       "      <th></th>\n",
       "      <th>minion_1016</th>\n",
       "      <th>enigma_1281</th>\n",
       "      <th>enigma_1189</th>\n",
       "      <th>enigma_1282</th>\n",
       "      <th>average</th>\n",
       "    </tr>\n",
       "  </thead>\n",
       "  <tbody>\n",
       "    <tr>\n",
       "      <th>0</th>\n",
       "      <td>0.625375</td>\n",
       "      <td>0.610278</td>\n",
       "      <td>0.272274</td>\n",
       "      <td>0.544575</td>\n",
       "      <td>0.513125</td>\n",
       "    </tr>\n",
       "  </tbody>\n",
       "</table>\n",
       "</div>"
      ],
      "text/plain": [
       "   minion_1016  enigma_1281  enigma_1189  enigma_1282   average\n",
       "0     0.625375     0.610278     0.272274     0.544575  0.513125"
      ]
     },
     "metadata": {},
     "output_type": "display_data"
    },
    {
     "data": {
      "text/html": [
       "<div>\n",
       "<table border=\"1\" class=\"dataframe\">\n",
       "  <thead>\n",
       "    <tr style=\"text-align: right;\">\n",
       "      <th></th>\n",
       "      <th>metadata</th>\n",
       "      <th>minion_1016</th>\n",
       "      <th>enigma_1281</th>\n",
       "      <th>enigma_1189</th>\n",
       "      <th>enigma_1282</th>\n",
       "    </tr>\n",
       "  </thead>\n",
       "  <tbody>\n",
       "    <tr>\n",
       "      <th>37</th>\n",
       "      <td>NEO 3 pairs in 30 nights trailing loss, SNR=4 ...</td>\n",
       "      <td>66.892363</td>\n",
       "      <td>65.42489</td>\n",
       "      <td>71.976552</td>\n",
       "      <td>62.927365</td>\n",
       "    </tr>\n",
       "  </tbody>\n",
       "</table>\n",
       "</div>"
      ],
      "text/plain": [
       "                                             metadata  minion_1016  \\\n",
       "37  NEO 3 pairs in 30 nights trailing loss, SNR=4 ...    66.892363   \n",
       "\n",
       "    enigma_1281  enigma_1189  enigma_1282  \n",
       "37     65.42489    71.976552    62.927365  "
      ]
     },
     "metadata": {},
     "output_type": "display_data"
    },
    {
     "name": "stdout",
     "output_type": "stream",
     "text": [
      "Going from 3 pairs in 30 nights trailing loss yr 10 to 3 pairs in 30 nights trailing loss, SNR=4 yr 10:\n"
     ]
    },
    {
     "data": {
      "text/html": [
       "<div>\n",
       "<table border=\"1\" class=\"dataframe\">\n",
       "  <thead>\n",
       "    <tr style=\"text-align: right;\">\n",
       "      <th></th>\n",
       "      <th>minion_1016</th>\n",
       "      <th>enigma_1281</th>\n",
       "      <th>enigma_1189</th>\n",
       "      <th>enigma_1282</th>\n",
       "      <th>average</th>\n",
       "    </tr>\n",
       "  </thead>\n",
       "  <tbody>\n",
       "    <tr>\n",
       "      <th>0</th>\n",
       "      <td>3.842526</td>\n",
       "      <td>3.097835</td>\n",
       "      <td>3.342591</td>\n",
       "      <td>3.151508</td>\n",
       "      <td>3.358615</td>\n",
       "    </tr>\n",
       "  </tbody>\n",
       "</table>\n",
       "</div>"
      ],
      "text/plain": [
       "   minion_1016  enigma_1281  enigma_1189  enigma_1282   average\n",
       "0     3.842526     3.097835     3.342591     3.151508  3.358615"
      ]
     },
     "metadata": {},
     "output_type": "display_data"
    }
   ],
   "source": [
    "df = neo_old_df\n",
    "match2 = '3 pairs in 15 nights yr 10'\n",
    "show_match(match2, df)\n",
    "#show_diff(match1, match2, df)\n",
    "match3 = '3 pairs in 30 nights yr 10'\n",
    "show_match(match3, df)\n",
    "show_diff(match2, match3, df)\n",
    "match4 = '3 pairs in 30 nights trailing loss yr 10'\n",
    "show_match(match4, df)\n",
    "show_diff(match3, match4, df)\n",
    "match5 = '3 pairs in 30 nights trailing loss, SNR=4 yr 10'\n",
    "show_match(match5, df)\n",
    "show_diff(match4, match5, df)"
   ]
  },
  {
   "cell_type": "code",
   "execution_count": 14,
   "metadata": {
    "collapsed": false
   },
   "outputs": [
    {
     "data": {
      "text/html": [
       "<div>\n",
       "<table border=\"1\" class=\"dataframe\">\n",
       "  <thead>\n",
       "    <tr style=\"text-align: right;\">\n",
       "      <th></th>\n",
       "      <th>metadata</th>\n",
       "      <th>minion_1016</th>\n",
       "      <th>enigma_1281</th>\n",
       "      <th>enigma_1189</th>\n",
       "      <th>enigma_1282</th>\n",
       "    </tr>\n",
       "  </thead>\n",
       "  <tbody>\n",
       "    <tr>\n",
       "      <th>7</th>\n",
       "      <td>NEO 3 pairs in 15 nights yr 10</td>\n",
       "      <td>59.461635</td>\n",
       "      <td>57.851317</td>\n",
       "      <td>64.833056</td>\n",
       "      <td>54.657858</td>\n",
       "    </tr>\n",
       "  </tbody>\n",
       "</table>\n",
       "</div>"
      ],
      "text/plain": [
       "                         metadata  minion_1016  enigma_1281  enigma_1189  \\\n",
       "7  NEO 3 pairs in 15 nights yr 10    59.461635    57.851317    64.833056   \n",
       "\n",
       "   enigma_1282  \n",
       "7    54.657858  "
      ]
     },
     "metadata": {},
     "output_type": "display_data"
    },
    {
     "data": {
      "text/html": [
       "<div>\n",
       "<table border=\"1\" class=\"dataframe\">\n",
       "  <thead>\n",
       "    <tr style=\"text-align: right;\">\n",
       "      <th></th>\n",
       "      <th>metadata</th>\n",
       "      <th>minion_1016</th>\n",
       "      <th>enigma_1281</th>\n",
       "      <th>enigma_1189</th>\n",
       "      <th>enigma_1282</th>\n",
       "    </tr>\n",
       "  </thead>\n",
       "  <tbody>\n",
       "    <tr>\n",
       "      <th>43</th>\n",
       "      <td>NEO 3 pairs in 30 nights yr 10</td>\n",
       "      <td>62.424463</td>\n",
       "      <td>61.716776</td>\n",
       "      <td>68.361687</td>\n",
       "      <td>59.231282</td>\n",
       "    </tr>\n",
       "  </tbody>\n",
       "</table>\n",
       "</div>"
      ],
      "text/plain": [
       "                          metadata  minion_1016  enigma_1281  enigma_1189  \\\n",
       "43  NEO 3 pairs in 30 nights yr 10    62.424463    61.716776    68.361687   \n",
       "\n",
       "    enigma_1282  \n",
       "43    59.231282  "
      ]
     },
     "metadata": {},
     "output_type": "display_data"
    },
    {
     "data": {
      "text/html": [
       "<div>\n",
       "<table border=\"1\" class=\"dataframe\">\n",
       "  <thead>\n",
       "    <tr style=\"text-align: right;\">\n",
       "      <th></th>\n",
       "      <th>metadata</th>\n",
       "      <th>minion_1016</th>\n",
       "      <th>enigma_1281</th>\n",
       "      <th>enigma_1189</th>\n",
       "      <th>enigma_1282</th>\n",
       "    </tr>\n",
       "  </thead>\n",
       "  <tbody>\n",
       "    <tr>\n",
       "      <th>79</th>\n",
       "      <td>NEO 3 triplets in 30 nights yr 10</td>\n",
       "      <td>39.739229</td>\n",
       "      <td>53.290773</td>\n",
       "      <td>44.497952</td>\n",
       "      <td>52.426873</td>\n",
       "    </tr>\n",
       "  </tbody>\n",
       "</table>\n",
       "</div>"
      ],
      "text/plain": [
       "                             metadata  minion_1016  enigma_1281  enigma_1189  \\\n",
       "79  NEO 3 triplets in 30 nights yr 10    39.739229    53.290773    44.497952   \n",
       "\n",
       "    enigma_1282  \n",
       "79    52.426873  "
      ]
     },
     "metadata": {},
     "output_type": "display_data"
    },
    {
     "data": {
      "text/html": [
       "<div>\n",
       "<table border=\"1\" class=\"dataframe\">\n",
       "  <thead>\n",
       "    <tr style=\"text-align: right;\">\n",
       "      <th></th>\n",
       "      <th>metadata</th>\n",
       "      <th>minion_1016</th>\n",
       "      <th>enigma_1281</th>\n",
       "      <th>enigma_1189</th>\n",
       "      <th>enigma_1282</th>\n",
       "    </tr>\n",
       "  </thead>\n",
       "  <tbody>\n",
       "    <tr>\n",
       "      <th>61</th>\n",
       "      <td>NEO 3 quads in 30 nights yr 10</td>\n",
       "      <td>27.15548</td>\n",
       "      <td>25.700641</td>\n",
       "      <td>31.261804</td>\n",
       "      <td>43.548584</td>\n",
       "    </tr>\n",
       "  </tbody>\n",
       "</table>\n",
       "</div>"
      ],
      "text/plain": [
       "                          metadata  minion_1016  enigma_1281  enigma_1189  \\\n",
       "61  NEO 3 quads in 30 nights yr 10     27.15548    25.700641    31.261804   \n",
       "\n",
       "    enigma_1282  \n",
       "61    43.548584  "
      ]
     },
     "metadata": {},
     "output_type": "display_data"
    },
    {
     "data": {
      "text/html": [
       "<div>\n",
       "<table border=\"1\" class=\"dataframe\">\n",
       "  <thead>\n",
       "    <tr style=\"text-align: right;\">\n",
       "      <th></th>\n",
       "      <th>metadata</th>\n",
       "      <th>minion_1016</th>\n",
       "      <th>enigma_1281</th>\n",
       "      <th>enigma_1189</th>\n",
       "      <th>enigma_1282</th>\n",
       "    </tr>\n",
       "  </thead>\n",
       "  <tbody>\n",
       "    <tr>\n",
       "      <th>31</th>\n",
       "      <td>NEO 3 pairs in 30 nights trailing loss yr 10</td>\n",
       "      <td>63.049837</td>\n",
       "      <td>62.327055</td>\n",
       "      <td>68.633961</td>\n",
       "      <td>59.775857</td>\n",
       "    </tr>\n",
       "  </tbody>\n",
       "</table>\n",
       "</div>"
      ],
      "text/plain": [
       "                                        metadata  minion_1016  enigma_1281  \\\n",
       "31  NEO 3 pairs in 30 nights trailing loss yr 10    63.049837    62.327055   \n",
       "\n",
       "    enigma_1189  enigma_1282  \n",
       "31    68.633961    59.775857  "
      ]
     },
     "metadata": {},
     "output_type": "display_data"
    },
    {
     "data": {
      "text/html": [
       "<div>\n",
       "<table border=\"1\" class=\"dataframe\">\n",
       "  <thead>\n",
       "    <tr style=\"text-align: right;\">\n",
       "      <th></th>\n",
       "      <th>metadata</th>\n",
       "      <th>minion_1016</th>\n",
       "      <th>enigma_1281</th>\n",
       "      <th>enigma_1189</th>\n",
       "      <th>enigma_1282</th>\n",
       "    </tr>\n",
       "  </thead>\n",
       "  <tbody>\n",
       "    <tr>\n",
       "      <th>37</th>\n",
       "      <td>NEO 3 pairs in 30 nights trailing loss, SNR=4 ...</td>\n",
       "      <td>66.892363</td>\n",
       "      <td>65.42489</td>\n",
       "      <td>71.976552</td>\n",
       "      <td>62.927365</td>\n",
       "    </tr>\n",
       "  </tbody>\n",
       "</table>\n",
       "</div>"
      ],
      "text/plain": [
       "                                             metadata  minion_1016  \\\n",
       "37  NEO 3 pairs in 30 nights trailing loss, SNR=4 ...    66.892363   \n",
       "\n",
       "    enigma_1281  enigma_1189  enigma_1282  \n",
       "37     65.42489    71.976552    62.927365  "
      ]
     },
     "metadata": {},
     "output_type": "display_data"
    }
   ],
   "source": [
    "df = neo_old_df\n",
    "match1 = '3 pairs in 15 nights yr 10'\n",
    "show_match(match1, df)\n",
    "match2 = '3 pairs in 30 nights yr 10'\n",
    "show_match(match2, df)\n",
    "match3 = '3 triplets in 30 nights yr 10'\n",
    "show_match(match3, df)\n",
    "match4 = '3 quads in 30 nights yr 10'\n",
    "show_match(match4, df)\n",
    "match5 = '3 pairs in 30 nights trailing loss yr 10'\n",
    "show_match(match5, df)\n",
    "match6 = '3 pairs in 30 nights trailing loss, SNR=4 yr 10'\n",
    "show_match(match6, df)"
   ]
  },
  {
   "cell_type": "code",
   "execution_count": 15,
   "metadata": {
    "collapsed": false
   },
   "outputs": [
    {
     "data": {
      "text/html": [
       "<div>\n",
       "<table border=\"1\" class=\"dataframe\">\n",
       "  <thead>\n",
       "    <tr style=\"text-align: right;\">\n",
       "      <th></th>\n",
       "      <th>metadata</th>\n",
       "      <th>minion_1016</th>\n",
       "      <th>enigma_1281</th>\n",
       "      <th>enigma_1189</th>\n",
       "      <th>enigma_1282</th>\n",
       "    </tr>\n",
       "  </thead>\n",
       "  <tbody>\n",
       "    <tr>\n",
       "      <th>7</th>\n",
       "      <td>PHA 3 pairs in 15 nights yr 10</td>\n",
       "      <td>72.286809</td>\n",
       "      <td>70.064613</td>\n",
       "      <td>74.964997</td>\n",
       "      <td>67.029049</td>\n",
       "    </tr>\n",
       "  </tbody>\n",
       "</table>\n",
       "</div>"
      ],
      "text/plain": [
       "                         metadata  minion_1016  enigma_1281  enigma_1189  \\\n",
       "7  PHA 3 pairs in 15 nights yr 10    72.286809    70.064613    74.964997   \n",
       "\n",
       "   enigma_1282  \n",
       "7    67.029049  "
      ]
     },
     "metadata": {},
     "output_type": "display_data"
    },
    {
     "data": {
      "text/html": [
       "<div>\n",
       "<table border=\"1\" class=\"dataframe\">\n",
       "  <thead>\n",
       "    <tr style=\"text-align: right;\">\n",
       "      <th></th>\n",
       "      <th>metadata</th>\n",
       "      <th>minion_1016</th>\n",
       "      <th>enigma_1281</th>\n",
       "      <th>enigma_1189</th>\n",
       "      <th>enigma_1282</th>\n",
       "    </tr>\n",
       "  </thead>\n",
       "  <tbody>\n",
       "    <tr>\n",
       "      <th>7</th>\n",
       "      <td>NEO 3 pairs in 15 nights yr 10</td>\n",
       "      <td>59.461635</td>\n",
       "      <td>57.851317</td>\n",
       "      <td>64.833056</td>\n",
       "      <td>54.657858</td>\n",
       "    </tr>\n",
       "  </tbody>\n",
       "</table>\n",
       "</div>"
      ],
      "text/plain": [
       "                         metadata  minion_1016  enigma_1281  enigma_1189  \\\n",
       "7  NEO 3 pairs in 15 nights yr 10    59.461635    57.851317    64.833056   \n",
       "\n",
       "   enigma_1282  \n",
       "7    54.657858  "
      ]
     },
     "metadata": {},
     "output_type": "display_data"
    },
    {
     "data": {
      "text/html": [
       "<div>\n",
       "<table border=\"1\" class=\"dataframe\">\n",
       "  <thead>\n",
       "    <tr style=\"text-align: right;\">\n",
       "      <th></th>\n",
       "      <th>minion_1016</th>\n",
       "      <th>enigma_1281</th>\n",
       "      <th>enigma_1189</th>\n",
       "      <th>enigma_1282</th>\n",
       "      <th>average</th>\n",
       "    </tr>\n",
       "  </thead>\n",
       "  <tbody>\n",
       "    <tr>\n",
       "      <th>0</th>\n",
       "      <td>-12.825174</td>\n",
       "      <td>-12.213296</td>\n",
       "      <td>-10.131942</td>\n",
       "      <td>-12.371191</td>\n",
       "      <td>-11.8854</td>\n",
       "    </tr>\n",
       "  </tbody>\n",
       "</table>\n",
       "</div>"
      ],
      "text/plain": [
       "   minion_1016  enigma_1281  enigma_1189  enigma_1282  average\n",
       "0   -12.825174   -12.213296   -10.131942   -12.371191 -11.8854"
      ]
     },
     "metadata": {},
     "output_type": "display_data"
    }
   ],
   "source": [
    "# compare NEO completeness to PHA completeness\n",
    "def show_two(metadata, df1, df2):\n",
    "    runnames1 = set(df1.columns.values)\n",
    "    runnames2 = set(df2.columns.values)\n",
    "    runnames = runnames1.intersection(runnames2)\n",
    "    runnames = list(runnames)\n",
    "    runnames.remove('metadata')\n",
    "    d = (df2[df2.metadata.str.contains(metadata)][runnames].as_matrix() - \n",
    "         df1[df1.metadata.str.contains(metadata)][runnames].as_matrix())\n",
    "    diff = pd.DataFrame(d, columns=runnames)\n",
    "    diff['average'] = np.nanmean(d)\n",
    "    display(diff)\n",
    "\n",
    "match = '3 pairs in 15 nights yr 10'\n",
    "df1 = pha_old_df\n",
    "df2 = neo_old_df\n",
    "show_match(match, df1)\n",
    "show_match(match, df2)\n",
    "show_two(match, df1, df2)"
   ]
  },
  {
   "cell_type": "code",
   "execution_count": 76,
   "metadata": {
    "collapsed": false
   },
   "outputs": [],
   "source": [
    "df = pha_new_df\n",
    "criteria = ['PHA 3 pairs in 15 nights yr 10', 'PHA 3 pairs in 30 nights yr 10', 'PHA 3 pairs in 30 nights trailing loss yr 10',\n",
    "            'PHA 3 pairs in 15 nights yr 12', 'PHA 3 pairs in 30 nights yr 12', \n",
    "            'PHA 3 pairs in 30 nights trailing loss yr 12', 'PHA 3 pairs in 30 nights trailing loss, SNR=4 yr 12']\n",
    "c = criteria[0]\n",
    "d = df.query('metadata == @c')\n",
    "for c in criteria[1:]:\n",
    "    d2 = df.query('metadata == @c')\n",
    "    d = pd.concat([d, d2])\n",
    "vals = d.columns.values\n",
    "vals[0] = 'Discovery Criteria'\n",
    "d.columns = vals"
   ]
  },
  {
   "cell_type": "code",
   "execution_count": 77,
   "metadata": {
    "collapsed": false,
    "scrolled": true
   },
   "outputs": [
    {
     "data": {
      "text/html": [
       "<table border=\"1\" class=\"dataframe\">\n",
       "  <thead>\n",
       "    <tr style=\"text-align: right;\">\n",
       "      <th>Discovery Criteria</th>\n",
       "      <th>minion_1016</th>\n",
       "      <th>astro_lsst_01_1016</th>\n",
       "      <th>astro_lsst_01_1015</th>\n",
       "      <th>astro_lsst_01_1017</th>\n",
       "    </tr>\n",
       "  </thead>\n",
       "  <tbody>\n",
       "    <tr>\n",
       "      <td>PHA 3 pairs in 15 nights yr 10</td>\n",
       "      <td>73.7</td>\n",
       "      <td>74.8</td>\n",
       "      <td>73.6</td>\n",
       "      <td>76.2</td>\n",
       "    </tr>\n",
       "    <tr>\n",
       "      <td>PHA 3 pairs in 30 nights yr 10</td>\n",
       "      <td>76.0</td>\n",
       "      <td>76.8</td>\n",
       "      <td>77.4</td>\n",
       "      <td>79.0</td>\n",
       "    </tr>\n",
       "    <tr>\n",
       "      <td>PHA 3 pairs in 30 nights trailing loss yr 10</td>\n",
       "      <td>76.5</td>\n",
       "      <td>77.4</td>\n",
       "      <td>79.5</td>\n",
       "      <td>80.6</td>\n",
       "    </tr>\n",
       "    <tr>\n",
       "      <td>PHA 3 pairs in 15 nights yr 12</td>\n",
       "      <td>--</td>\n",
       "      <td>79.1</td>\n",
       "      <td>77.5</td>\n",
       "      <td>79.9</td>\n",
       "    </tr>\n",
       "    <tr>\n",
       "      <td>PHA 3 pairs in 30 nights yr 12</td>\n",
       "      <td>--</td>\n",
       "      <td>80.8</td>\n",
       "      <td>80.9</td>\n",
       "      <td>82.5</td>\n",
       "    </tr>\n",
       "    <tr>\n",
       "      <td>PHA 3 pairs in 30 nights trailing loss yr 12</td>\n",
       "      <td>--</td>\n",
       "      <td>81.5</td>\n",
       "      <td>82.9</td>\n",
       "      <td>83.9</td>\n",
       "    </tr>\n",
       "    <tr>\n",
       "      <td>PHA 3 pairs in 30 nights trailing loss, SNR=4 yr 12</td>\n",
       "      <td>--</td>\n",
       "      <td>83.8</td>\n",
       "      <td>85.6</td>\n",
       "      <td>86.0</td>\n",
       "    </tr>\n",
       "  </tbody>\n",
       "</table>"
      ],
      "text/plain": [
       "<IPython.core.display.HTML object>"
      ]
     },
     "metadata": {},
     "output_type": "display_data"
    }
   ],
   "source": [
    "pd.set_option('max_colwidth', 65)\n",
    "def float_format(x):\n",
    "    if np.isnan(x):\n",
    "        return '--'\n",
    "    else:\n",
    "        return '%.1f' %x\n",
    "pd.set_option('float_format', float_format)\n",
    "display(HTML(d.to_html(index=False)))"
   ]
  },
  {
   "cell_type": "code",
   "execution_count": null,
   "metadata": {
    "collapsed": true
   },
   "outputs": [],
   "source": []
  }
 ],
 "metadata": {
  "kernelspec": {
   "display_name": "Python 2",
   "language": "python",
   "name": "python2"
  },
  "language_info": {
   "codemirror_mode": {
    "name": "ipython",
    "version": 2
   },
   "file_extension": ".py",
   "mimetype": "text/x-python",
   "name": "python",
   "nbconvert_exporter": "python",
   "pygments_lexer": "ipython2",
   "version": "2.7.11"
  }
 },
 "nbformat": 4,
 "nbformat_minor": 0
}
