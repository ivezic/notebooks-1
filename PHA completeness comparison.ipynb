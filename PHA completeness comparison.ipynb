{
 "cells": [
  {
   "cell_type": "code",
   "execution_count": 1,
   "metadata": {
    "collapsed": false
   },
   "outputs": [],
   "source": [
    "import os\n",
    "import pandas as pd\n",
    "from lsst.sims.maf.db import ResultsDb\n",
    "from IPython.display import display"
   ]
  },
  {
   "cell_type": "code",
   "execution_count": 2,
   "metadata": {
    "collapsed": true
   },
   "outputs": [],
   "source": [
    "runlist = ['minion_1016',\n",
    "           'astro_lsst_01_1016',\n",
    "           'astro_lsst_01_1015',\n",
    "           'astro_lsst_01_1017']"
   ]
  },
  {
   "cell_type": "code",
   "execution_count": 3,
   "metadata": {
    "collapsed": false
   },
   "outputs": [],
   "source": [
    "runs = {}\n",
    "runs_newsky = {}\n",
    "for r in runlist:\n",
    "    runs_newsky[r] = ResultsDb(os.path.join('.', r, 'pha_newsky'))\n",
    "    runs[r] = ResultsDb(os.path.join('.', r, 'pha'))"
   ]
  },
  {
   "cell_type": "code",
   "execution_count": 4,
   "metadata": {
    "collapsed": true
   },
   "outputs": [],
   "source": [
    "metricName = 'CumulativeCompleteness'"
   ]
  },
  {
   "cell_type": "code",
   "execution_count": 5,
   "metadata": {
    "collapsed": false
   },
   "outputs": [],
   "source": [
    "summary = []\n",
    "for r in runlist:\n",
    "    mId = runs[r].getMetricId(metricName, metricMetadata=None)\n",
    "    s = runs[r].getSummaryStats(mId, summaryName=None)\n",
    "    summary.append(pd.DataFrame(zip(s['metricMetadata'], s['summaryValue']*100.0), columns=['metadata', r]))\n",
    "    \n",
    "summary_newsky = []\n",
    "for r in runlist:\n",
    "    mId = runs_newsky[r].getMetricId(metricName, metricMetadata=None)\n",
    "    s = runs_newsky[r].getSummaryStats(mId, summaryName=None)\n",
    "    summary_newsky.append(pd.DataFrame(zip(s['metricMetadata'], s['summaryValue']*100.0), columns=['metadata', r]))"
   ]
  },
  {
   "cell_type": "code",
   "execution_count": 6,
   "metadata": {
    "collapsed": false
   },
   "outputs": [],
   "source": [
    "df = summary[0]\n",
    "for i in range(1, len(summary)):\n",
    "    df = pd.merge(df, summary[i], how='outer', on='metadata')\n",
    "\n",
    "df_newsky = summary_newsky[0]\n",
    "for i in range(1, len(summary_newsky)):\n",
    "    df_newsky = pd.merge(df_newsky, summary_newsky[i], how='outer', on='metadata')"
   ]
  },
  {
   "cell_type": "code",
   "execution_count": 7,
   "metadata": {
    "collapsed": false
   },
   "outputs": [
    {
     "data": {
      "text/html": [
       "<div>\n",
       "<table border=\"1\" class=\"dataframe\">\n",
       "  <thead>\n",
       "    <tr style=\"text-align: right;\">\n",
       "      <th></th>\n",
       "      <th>metadata</th>\n",
       "      <th>minion_1016</th>\n",
       "      <th>astro_lsst_01_1016</th>\n",
       "      <th>astro_lsst_01_1015</th>\n",
       "      <th>astro_lsst_01_1017</th>\n",
       "    </tr>\n",
       "  </thead>\n",
       "  <tbody>\n",
       "    <tr>\n",
       "      <th>7</th>\n",
       "      <td>PHA 3 pairs in 15 nights yr 10</td>\n",
       "      <td>72.286809</td>\n",
       "      <td>72.875499</td>\n",
       "      <td>71.067906</td>\n",
       "      <td>74.235775</td>\n",
       "    </tr>\n",
       "  </tbody>\n",
       "</table>\n",
       "</div>"
      ],
      "text/plain": [
       "                         metadata  minion_1016  astro_lsst_01_1016  \\\n",
       "7  PHA 3 pairs in 15 nights yr 10    72.286809           72.875499   \n",
       "\n",
       "   astro_lsst_01_1015  astro_lsst_01_1017  \n",
       "7           71.067906           74.235775  "
      ]
     },
     "metadata": {},
     "output_type": "display_data"
    },
    {
     "data": {
      "text/html": [
       "<div>\n",
       "<table border=\"1\" class=\"dataframe\">\n",
       "  <thead>\n",
       "    <tr style=\"text-align: right;\">\n",
       "      <th></th>\n",
       "      <th>metadata</th>\n",
       "      <th>minion_1016</th>\n",
       "      <th>astro_lsst_01_1016</th>\n",
       "      <th>astro_lsst_01_1015</th>\n",
       "      <th>astro_lsst_01_1017</th>\n",
       "    </tr>\n",
       "  </thead>\n",
       "  <tbody>\n",
       "    <tr>\n",
       "      <th>7</th>\n",
       "      <td>PHA 3 pairs in 15 nights yr 10</td>\n",
       "      <td>73.729326</td>\n",
       "      <td>74.829865</td>\n",
       "      <td>73.612485</td>\n",
       "      <td>76.205749</td>\n",
       "    </tr>\n",
       "  </tbody>\n",
       "</table>\n",
       "</div>"
      ],
      "text/plain": [
       "                         metadata  minion_1016  astro_lsst_01_1016  \\\n",
       "7  PHA 3 pairs in 15 nights yr 10    73.729326           74.829865   \n",
       "\n",
       "   astro_lsst_01_1015  astro_lsst_01_1017  \n",
       "7           73.612485           76.205749  "
      ]
     },
     "metadata": {},
     "output_type": "display_data"
    }
   ],
   "source": [
    "match = '3 pairs in 15 nights yr 10'\n",
    "display(df[df.metadata.str.contains(match)])\n",
    "display(df_newsky[df_newsky.metadata.str.contains(match)])"
   ]
  },
  {
   "cell_type": "code",
   "execution_count": 9,
   "metadata": {
    "collapsed": false
   },
   "outputs": [
    {
     "data": {
      "text/html": [
       "<div>\n",
       "<table border=\"1\" class=\"dataframe\">\n",
       "  <thead>\n",
       "    <tr style=\"text-align: right;\">\n",
       "      <th></th>\n",
       "      <th>metadata</th>\n",
       "      <th>minion_1016</th>\n",
       "      <th>astro_lsst_01_1016</th>\n",
       "      <th>astro_lsst_01_1015</th>\n",
       "      <th>astro_lsst_01_1017</th>\n",
       "    </tr>\n",
       "  </thead>\n",
       "  <tbody>\n",
       "    <tr>\n",
       "      <th>141</th>\n",
       "      <td>PHA 3 pairs in 15 nights yr 12</td>\n",
       "      <td>NaN</td>\n",
       "      <td>77.141445</td>\n",
       "      <td>74.898243</td>\n",
       "      <td>77.777113</td>\n",
       "    </tr>\n",
       "  </tbody>\n",
       "</table>\n",
       "</div>"
      ],
      "text/plain": [
       "                           metadata  minion_1016  astro_lsst_01_1016  \\\n",
       "141  PHA 3 pairs in 15 nights yr 12          NaN           77.141445   \n",
       "\n",
       "     astro_lsst_01_1015  astro_lsst_01_1017  \n",
       "141           74.898243           77.777113  "
      ]
     },
     "metadata": {},
     "output_type": "display_data"
    },
    {
     "data": {
      "text/html": [
       "<div>\n",
       "<table border=\"1\" class=\"dataframe\">\n",
       "  <thead>\n",
       "    <tr style=\"text-align: right;\">\n",
       "      <th></th>\n",
       "      <th>metadata</th>\n",
       "      <th>minion_1016</th>\n",
       "      <th>astro_lsst_01_1016</th>\n",
       "      <th>astro_lsst_01_1015</th>\n",
       "      <th>astro_lsst_01_1017</th>\n",
       "    </tr>\n",
       "  </thead>\n",
       "  <tbody>\n",
       "    <tr>\n",
       "      <th>141</th>\n",
       "      <td>PHA 3 pairs in 15 nights yr 12</td>\n",
       "      <td>NaN</td>\n",
       "      <td>79.130073</td>\n",
       "      <td>77.530612</td>\n",
       "      <td>79.866959</td>\n",
       "    </tr>\n",
       "  </tbody>\n",
       "</table>\n",
       "</div>"
      ],
      "text/plain": [
       "                           metadata  minion_1016  astro_lsst_01_1016  \\\n",
       "141  PHA 3 pairs in 15 nights yr 12          NaN           79.130073   \n",
       "\n",
       "     astro_lsst_01_1015  astro_lsst_01_1017  \n",
       "141           77.530612           79.866959  "
      ]
     },
     "metadata": {},
     "output_type": "display_data"
    }
   ],
   "source": [
    "match = '3 pairs in 15 nights yr 12'\n",
    "display(df[df.metadata.str.contains(match)])\n",
    "display(df_newsky[df_newsky.metadata.str.contains(match)])"
   ]
  },
  {
   "cell_type": "code",
   "execution_count": 13,
   "metadata": {
    "collapsed": false
   },
   "outputs": [
    {
     "data": {
      "text/html": [
       "<div>\n",
       "<table border=\"1\" class=\"dataframe\">\n",
       "  <thead>\n",
       "    <tr style=\"text-align: right;\">\n",
       "      <th></th>\n",
       "      <th>metadata</th>\n",
       "      <th>minion_1016</th>\n",
       "      <th>astro_lsst_01_1016</th>\n",
       "      <th>astro_lsst_01_1015</th>\n",
       "      <th>astro_lsst_01_1017</th>\n",
       "    </tr>\n",
       "  </thead>\n",
       "  <tbody>\n",
       "    <tr>\n",
       "      <th>159</th>\n",
       "      <td>PHA 3 pairs in 30 nights yr 12</td>\n",
       "      <td>NaN</td>\n",
       "      <td>80.036364</td>\n",
       "      <td>79.297031</td>\n",
       "      <td>80.669212</td>\n",
       "    </tr>\n",
       "  </tbody>\n",
       "</table>\n",
       "</div>"
      ],
      "text/plain": [
       "                           metadata  minion_1016  astro_lsst_01_1016  \\\n",
       "159  PHA 3 pairs in 30 nights yr 12          NaN           80.036364   \n",
       "\n",
       "     astro_lsst_01_1015  astro_lsst_01_1017  \n",
       "159           79.297031           80.669212  "
      ]
     },
     "metadata": {},
     "output_type": "display_data"
    },
    {
     "data": {
      "text/html": [
       "<div>\n",
       "<table border=\"1\" class=\"dataframe\">\n",
       "  <thead>\n",
       "    <tr style=\"text-align: right;\">\n",
       "      <th></th>\n",
       "      <th>metadata</th>\n",
       "      <th>minion_1016</th>\n",
       "      <th>astro_lsst_01_1016</th>\n",
       "      <th>astro_lsst_01_1015</th>\n",
       "      <th>astro_lsst_01_1017</th>\n",
       "    </tr>\n",
       "  </thead>\n",
       "  <tbody>\n",
       "    <tr>\n",
       "      <th>159</th>\n",
       "      <td>PHA 3 pairs in 30 nights yr 12</td>\n",
       "      <td>NaN</td>\n",
       "      <td>80.837906</td>\n",
       "      <td>80.947165</td>\n",
       "      <td>82.452829</td>\n",
       "    </tr>\n",
       "  </tbody>\n",
       "</table>\n",
       "</div>"
      ],
      "text/plain": [
       "                           metadata  minion_1016  astro_lsst_01_1016  \\\n",
       "159  PHA 3 pairs in 30 nights yr 12          NaN           80.837906   \n",
       "\n",
       "     astro_lsst_01_1015  astro_lsst_01_1017  \n",
       "159           80.947165           82.452829  "
      ]
     },
     "metadata": {},
     "output_type": "display_data"
    }
   ],
   "source": [
    "match = '3 pairs in 30 nights yr 12'\n",
    "display(df[df.metadata.str.contains(match)])\n",
    "display(df_newsky[df_newsky.metadata.str.contains(match)])"
   ]
  },
  {
   "cell_type": "code",
   "execution_count": 15,
   "metadata": {
    "collapsed": false
   },
   "outputs": [
    {
     "data": {
      "text/html": [
       "<div>\n",
       "<table border=\"1\" class=\"dataframe\">\n",
       "  <thead>\n",
       "    <tr style=\"text-align: right;\">\n",
       "      <th></th>\n",
       "      <th>metadata</th>\n",
       "      <th>minion_1016</th>\n",
       "      <th>astro_lsst_01_1016</th>\n",
       "      <th>astro_lsst_01_1015</th>\n",
       "      <th>astro_lsst_01_1017</th>\n",
       "    </tr>\n",
       "  </thead>\n",
       "  <tbody>\n",
       "    <tr>\n",
       "      <th>153</th>\n",
       "      <td>PHA 3 pairs in 30 nights trailing loss yr 12</td>\n",
       "      <td>NaN</td>\n",
       "      <td>80.490376</td>\n",
       "      <td>81.097773</td>\n",
       "      <td>82.10845</td>\n",
       "    </tr>\n",
       "  </tbody>\n",
       "</table>\n",
       "</div>"
      ],
      "text/plain": [
       "                                         metadata  minion_1016  \\\n",
       "153  PHA 3 pairs in 30 nights trailing loss yr 12          NaN   \n",
       "\n",
       "     astro_lsst_01_1016  astro_lsst_01_1015  astro_lsst_01_1017  \n",
       "153           80.490376           81.097773            82.10845  "
      ]
     },
     "metadata": {},
     "output_type": "display_data"
    },
    {
     "data": {
      "text/html": [
       "<div>\n",
       "<table border=\"1\" class=\"dataframe\">\n",
       "  <thead>\n",
       "    <tr style=\"text-align: right;\">\n",
       "      <th></th>\n",
       "      <th>metadata</th>\n",
       "      <th>minion_1016</th>\n",
       "      <th>astro_lsst_01_1016</th>\n",
       "      <th>astro_lsst_01_1015</th>\n",
       "      <th>astro_lsst_01_1017</th>\n",
       "    </tr>\n",
       "  </thead>\n",
       "  <tbody>\n",
       "    <tr>\n",
       "      <th>153</th>\n",
       "      <td>PHA 3 pairs in 30 nights trailing loss yr 12</td>\n",
       "      <td>NaN</td>\n",
       "      <td>81.483143</td>\n",
       "      <td>82.867323</td>\n",
       "      <td>83.910607</td>\n",
       "    </tr>\n",
       "  </tbody>\n",
       "</table>\n",
       "</div>"
      ],
      "text/plain": [
       "                                         metadata  minion_1016  \\\n",
       "153  PHA 3 pairs in 30 nights trailing loss yr 12          NaN   \n",
       "\n",
       "     astro_lsst_01_1016  astro_lsst_01_1015  astro_lsst_01_1017  \n",
       "153           81.483143           82.867323           83.910607  "
      ]
     },
     "metadata": {},
     "output_type": "display_data"
    }
   ],
   "source": [
    "match = '3 pairs in 30 nights trailing loss yr 12'\n",
    "display(df[df.metadata.str.contains(match)])\n",
    "display(df_newsky[df_newsky.metadata.str.contains(match)])"
   ]
  },
  {
   "cell_type": "code",
   "execution_count": 16,
   "metadata": {
    "collapsed": false
   },
   "outputs": [
    {
     "data": {
      "text/html": [
       "<div>\n",
       "<table border=\"1\" class=\"dataframe\">\n",
       "  <thead>\n",
       "    <tr style=\"text-align: right;\">\n",
       "      <th></th>\n",
       "      <th>metadata</th>\n",
       "      <th>minion_1016</th>\n",
       "      <th>astro_lsst_01_1016</th>\n",
       "      <th>astro_lsst_01_1015</th>\n",
       "      <th>astro_lsst_01_1017</th>\n",
       "    </tr>\n",
       "  </thead>\n",
       "  <tbody>\n",
       "    <tr>\n",
       "      <th>156</th>\n",
       "      <td>PHA 3 pairs in 30 nights trailing loss, SNR=4 ...</td>\n",
       "      <td>NaN</td>\n",
       "      <td>83.064246</td>\n",
       "      <td>83.952085</td>\n",
       "      <td>84.476381</td>\n",
       "    </tr>\n",
       "  </tbody>\n",
       "</table>\n",
       "</div>"
      ],
      "text/plain": [
       "                                              metadata  minion_1016  \\\n",
       "156  PHA 3 pairs in 30 nights trailing loss, SNR=4 ...          NaN   \n",
       "\n",
       "     astro_lsst_01_1016  astro_lsst_01_1015  astro_lsst_01_1017  \n",
       "156           83.064246           83.952085           84.476381  "
      ]
     },
     "metadata": {},
     "output_type": "display_data"
    },
    {
     "data": {
      "text/html": [
       "<div>\n",
       "<table border=\"1\" class=\"dataframe\">\n",
       "  <thead>\n",
       "    <tr style=\"text-align: right;\">\n",
       "      <th></th>\n",
       "      <th>metadata</th>\n",
       "      <th>minion_1016</th>\n",
       "      <th>astro_lsst_01_1016</th>\n",
       "      <th>astro_lsst_01_1015</th>\n",
       "      <th>astro_lsst_01_1017</th>\n",
       "    </tr>\n",
       "  </thead>\n",
       "  <tbody>\n",
       "    <tr>\n",
       "      <th>156</th>\n",
       "      <td>PHA 3 pairs in 30 nights trailing loss, SNR=4 ...</td>\n",
       "      <td>NaN</td>\n",
       "      <td>83.758433</td>\n",
       "      <td>85.634775</td>\n",
       "      <td>85.977228</td>\n",
       "    </tr>\n",
       "  </tbody>\n",
       "</table>\n",
       "</div>"
      ],
      "text/plain": [
       "                                              metadata  minion_1016  \\\n",
       "156  PHA 3 pairs in 30 nights trailing loss, SNR=4 ...          NaN   \n",
       "\n",
       "     astro_lsst_01_1016  astro_lsst_01_1015  astro_lsst_01_1017  \n",
       "156           83.758433           85.634775           85.977228  "
      ]
     },
     "metadata": {},
     "output_type": "display_data"
    }
   ],
   "source": [
    "match = '3 pairs in 30 nights trailing loss, SNR=4 yr 12'\n",
    "display(df[df.metadata.str.contains(match)])\n",
    "display(df_newsky[df_newsky.metadata.str.contains(match)])"
   ]
  },
  {
   "cell_type": "code",
   "execution_count": 17,
   "metadata": {
    "collapsed": false
   },
   "outputs": [
    {
     "name": "stdout",
     "output_type": "stream",
     "text": [
      "['PHA 3 pairs in 15 nights trailing loss yr 1'\n",
      " 'PHA 3 pairs in 15 nights trailing loss yr 10'\n",
      " 'PHA 3 pairs in 15 nights trailing loss yr 2'\n",
      " 'PHA 3 pairs in 15 nights trailing loss yr 4'\n",
      " 'PHA 3 pairs in 15 nights trailing loss yr 6'\n",
      " 'PHA 3 pairs in 15 nights trailing loss yr 8'\n",
      " 'PHA 3 pairs in 15 nights yr 1' 'PHA 3 pairs in 15 nights yr 10'\n",
      " 'PHA 3 pairs in 15 nights yr 2' 'PHA 3 pairs in 15 nights yr 4'\n",
      " 'PHA 3 pairs in 15 nights yr 6' 'PHA 3 pairs in 15 nights yr 8'\n",
      " 'PHA 3 pairs in 15 nights, SNR=0 yr 1'\n",
      " 'PHA 3 pairs in 15 nights, SNR=0 yr 10'\n",
      " 'PHA 3 pairs in 15 nights, SNR=0 yr 2'\n",
      " 'PHA 3 pairs in 15 nights, SNR=0 yr 4'\n",
      " 'PHA 3 pairs in 15 nights, SNR=0 yr 6'\n",
      " 'PHA 3 pairs in 15 nights, SNR=0 yr 8'\n",
      " 'PHA 3 pairs in 15 nights, SNR=3 yr 1'\n",
      " 'PHA 3 pairs in 15 nights, SNR=3 yr 10'\n",
      " 'PHA 3 pairs in 15 nights, SNR=3 yr 2'\n",
      " 'PHA 3 pairs in 15 nights, SNR=3 yr 4'\n",
      " 'PHA 3 pairs in 15 nights, SNR=3 yr 6'\n",
      " 'PHA 3 pairs in 15 nights, SNR=3 yr 8'\n",
      " 'PHA 3 pairs in 15 nights, SNR=4 yr 1'\n",
      " 'PHA 3 pairs in 15 nights, SNR=4 yr 10'\n",
      " 'PHA 3 pairs in 15 nights, SNR=4 yr 2'\n",
      " 'PHA 3 pairs in 15 nights, SNR=4 yr 4'\n",
      " 'PHA 3 pairs in 15 nights, SNR=4 yr 6'\n",
      " 'PHA 3 pairs in 15 nights, SNR=4 yr 8'\n",
      " 'PHA 3 pairs in 30 nights trailing loss yr 1'\n",
      " 'PHA 3 pairs in 30 nights trailing loss yr 10'\n",
      " 'PHA 3 pairs in 30 nights trailing loss yr 2'\n",
      " 'PHA 3 pairs in 30 nights trailing loss yr 4'\n",
      " 'PHA 3 pairs in 30 nights trailing loss yr 6'\n",
      " 'PHA 3 pairs in 30 nights trailing loss yr 8'\n",
      " 'PHA 3 pairs in 30 nights trailing loss, SNR=4 yr 1'\n",
      " 'PHA 3 pairs in 30 nights trailing loss, SNR=4 yr 10'\n",
      " 'PHA 3 pairs in 30 nights trailing loss, SNR=4 yr 2'\n",
      " 'PHA 3 pairs in 30 nights trailing loss, SNR=4 yr 4'\n",
      " 'PHA 3 pairs in 30 nights trailing loss, SNR=4 yr 6'\n",
      " 'PHA 3 pairs in 30 nights trailing loss, SNR=4 yr 8'\n",
      " 'PHA 3 pairs in 30 nights yr 1' 'PHA 3 pairs in 30 nights yr 10'\n",
      " 'PHA 3 pairs in 30 nights yr 2' 'PHA 3 pairs in 30 nights yr 4'\n",
      " 'PHA 3 pairs in 30 nights yr 6' 'PHA 3 pairs in 30 nights yr 8'\n",
      " 'PHA 3 pairs in 30 nights, SNR=3 yr 1'\n",
      " 'PHA 3 pairs in 30 nights, SNR=3 yr 10'\n",
      " 'PHA 3 pairs in 30 nights, SNR=3 yr 2'\n",
      " 'PHA 3 pairs in 30 nights, SNR=3 yr 4'\n",
      " 'PHA 3 pairs in 30 nights, SNR=3 yr 6'\n",
      " 'PHA 3 pairs in 30 nights, SNR=3 yr 8'\n",
      " 'PHA 3 pairs in 30 nights, SNR=4 yr 1'\n",
      " 'PHA 3 pairs in 30 nights, SNR=4 yr 10'\n",
      " 'PHA 3 pairs in 30 nights, SNR=4 yr 2'\n",
      " 'PHA 3 pairs in 30 nights, SNR=4 yr 4'\n",
      " 'PHA 3 pairs in 30 nights, SNR=4 yr 6'\n",
      " 'PHA 3 pairs in 30 nights, SNR=4 yr 8' 'PHA 3 quads in 30 nights yr 1'\n",
      " 'PHA 3 quads in 30 nights yr 10' 'PHA 3 quads in 30 nights yr 2'\n",
      " 'PHA 3 quads in 30 nights yr 4' 'PHA 3 quads in 30 nights yr 6'\n",
      " 'PHA 3 quads in 30 nights yr 8' 'PHA 3 quads in 30 nights, SNR=3 yr 1'\n",
      " 'PHA 3 quads in 30 nights, SNR=3 yr 10'\n",
      " 'PHA 3 quads in 30 nights, SNR=3 yr 2'\n",
      " 'PHA 3 quads in 30 nights, SNR=3 yr 4'\n",
      " 'PHA 3 quads in 30 nights, SNR=3 yr 6'\n",
      " 'PHA 3 quads in 30 nights, SNR=3 yr 8'\n",
      " 'PHA 3 quads in 30 nights, SNR=4 yr 1'\n",
      " 'PHA 3 quads in 30 nights, SNR=4 yr 10'\n",
      " 'PHA 3 quads in 30 nights, SNR=4 yr 2'\n",
      " 'PHA 3 quads in 30 nights, SNR=4 yr 4'\n",
      " 'PHA 3 quads in 30 nights, SNR=4 yr 6'\n",
      " 'PHA 3 quads in 30 nights, SNR=4 yr 8' 'PHA 3 triplets in 30 nights yr 1'\n",
      " 'PHA 3 triplets in 30 nights yr 10' 'PHA 3 triplets in 30 nights yr 2'\n",
      " 'PHA 3 triplets in 30 nights yr 4' 'PHA 3 triplets in 30 nights yr 6'\n",
      " 'PHA 3 triplets in 30 nights yr 8'\n",
      " 'PHA 3 triplets in 30 nights, SNR=3 yr 1'\n",
      " 'PHA 3 triplets in 30 nights, SNR=3 yr 10'\n",
      " 'PHA 3 triplets in 30 nights, SNR=3 yr 2'\n",
      " 'PHA 3 triplets in 30 nights, SNR=3 yr 4'\n",
      " 'PHA 3 triplets in 30 nights, SNR=3 yr 6'\n",
      " 'PHA 3 triplets in 30 nights, SNR=3 yr 8'\n",
      " 'PHA 3 triplets in 30 nights, SNR=4 yr 1'\n",
      " 'PHA 3 triplets in 30 nights, SNR=4 yr 10'\n",
      " 'PHA 3 triplets in 30 nights, SNR=4 yr 2'\n",
      " 'PHA 3 triplets in 30 nights, SNR=4 yr 4'\n",
      " 'PHA 3 triplets in 30 nights, SNR=4 yr 6'\n",
      " 'PHA 3 triplets in 30 nights, SNR=4 yr 8' 'PHA 4 pairs in 20 nights yr 1'\n",
      " 'PHA 4 pairs in 20 nights yr 10' 'PHA 4 pairs in 20 nights yr 2'\n",
      " 'PHA 4 pairs in 20 nights yr 4' 'PHA 4 pairs in 20 nights yr 6'\n",
      " 'PHA 4 pairs in 20 nights yr 8' 'PHA 4 pairs in 20 nights, SNR=3 yr 1'\n",
      " 'PHA 4 pairs in 20 nights, SNR=3 yr 10'\n",
      " 'PHA 4 pairs in 20 nights, SNR=3 yr 2'\n",
      " 'PHA 4 pairs in 20 nights, SNR=3 yr 4'\n",
      " 'PHA 4 pairs in 20 nights, SNR=3 yr 6'\n",
      " 'PHA 4 pairs in 20 nights, SNR=3 yr 8'\n",
      " 'PHA 4 pairs in 20 nights, SNR=4 yr 1'\n",
      " 'PHA 4 pairs in 20 nights, SNR=4 yr 10'\n",
      " 'PHA 4 pairs in 20 nights, SNR=4 yr 2'\n",
      " 'PHA 4 pairs in 20 nights, SNR=4 yr 4'\n",
      " 'PHA 4 pairs in 20 nights, SNR=4 yr 6'\n",
      " 'PHA 4 pairs in 20 nights, SNR=4 yr 8'\n",
      " 'PHA 6 detections in 60 nights yr 1' 'PHA 6 detections in 60 nights yr 10'\n",
      " 'PHA 6 detections in 60 nights yr 2' 'PHA 6 detections in 60 nights yr 4'\n",
      " 'PHA 6 detections in 60 nights yr 6' 'PHA 6 detections in 60 nights yr 8'\n",
      " 'PHA High velocity pair yr 1' 'PHA High velocity pair yr 10'\n",
      " 'PHA High velocity pair yr 2' 'PHA High velocity pair yr 4'\n",
      " 'PHA High velocity pair yr 6' 'PHA High velocity pair yr 8'\n",
      " 'PHA Single detection yr 1' 'PHA Single detection yr 10'\n",
      " 'PHA Single detection yr 2' 'PHA Single detection yr 4'\n",
      " 'PHA Single detection yr 6' 'PHA Single detection yr 8'\n",
      " 'PHA Single pair yr 1' 'PHA Single pair yr 10' 'PHA Single pair yr 2'\n",
      " 'PHA Single pair yr 4' 'PHA Single pair yr 6' 'PHA Single pair yr 8'\n",
      " 'PHA 3 pairs in 15 nights trailing loss yr 12'\n",
      " 'PHA 3 pairs in 15 nights trailing loss yr 14'\n",
      " 'PHA 3 pairs in 15 nights trailing loss yr 15'\n",
      " 'PHA 3 pairs in 15 nights yr 12' 'PHA 3 pairs in 15 nights yr 14'\n",
      " 'PHA 3 pairs in 15 nights yr 15' 'PHA 3 pairs in 15 nights, SNR=0 yr 12'\n",
      " 'PHA 3 pairs in 15 nights, SNR=0 yr 14'\n",
      " 'PHA 3 pairs in 15 nights, SNR=0 yr 15'\n",
      " 'PHA 3 pairs in 15 nights, SNR=3 yr 12'\n",
      " 'PHA 3 pairs in 15 nights, SNR=3 yr 14'\n",
      " 'PHA 3 pairs in 15 nights, SNR=3 yr 15'\n",
      " 'PHA 3 pairs in 15 nights, SNR=4 yr 12'\n",
      " 'PHA 3 pairs in 15 nights, SNR=4 yr 14'\n",
      " 'PHA 3 pairs in 15 nights, SNR=4 yr 15'\n",
      " 'PHA 3 pairs in 30 nights trailing loss yr 12'\n",
      " 'PHA 3 pairs in 30 nights trailing loss yr 14'\n",
      " 'PHA 3 pairs in 30 nights trailing loss yr 15'\n",
      " 'PHA 3 pairs in 30 nights trailing loss, SNR=4 yr 12'\n",
      " 'PHA 3 pairs in 30 nights trailing loss, SNR=4 yr 14'\n",
      " 'PHA 3 pairs in 30 nights trailing loss, SNR=4 yr 15'\n",
      " 'PHA 3 pairs in 30 nights yr 12' 'PHA 3 pairs in 30 nights yr 14'\n",
      " 'PHA 3 pairs in 30 nights yr 15' 'PHA 3 pairs in 30 nights, SNR=3 yr 12'\n",
      " 'PHA 3 pairs in 30 nights, SNR=3 yr 14'\n",
      " 'PHA 3 pairs in 30 nights, SNR=3 yr 15'\n",
      " 'PHA 3 pairs in 30 nights, SNR=4 yr 12'\n",
      " 'PHA 3 pairs in 30 nights, SNR=4 yr 14'\n",
      " 'PHA 3 pairs in 30 nights, SNR=4 yr 15' 'PHA 3 quads in 30 nights yr 12'\n",
      " 'PHA 3 quads in 30 nights yr 14' 'PHA 3 quads in 30 nights yr 15'\n",
      " 'PHA 3 quads in 30 nights, SNR=3 yr 12'\n",
      " 'PHA 3 quads in 30 nights, SNR=3 yr 14'\n",
      " 'PHA 3 quads in 30 nights, SNR=3 yr 15'\n",
      " 'PHA 3 quads in 30 nights, SNR=4 yr 12'\n",
      " 'PHA 3 quads in 30 nights, SNR=4 yr 14'\n",
      " 'PHA 3 quads in 30 nights, SNR=4 yr 15'\n",
      " 'PHA 3 triplets in 30 nights yr 12' 'PHA 3 triplets in 30 nights yr 14'\n",
      " 'PHA 3 triplets in 30 nights yr 15'\n",
      " 'PHA 3 triplets in 30 nights, SNR=3 yr 12'\n",
      " 'PHA 3 triplets in 30 nights, SNR=3 yr 14'\n",
      " 'PHA 3 triplets in 30 nights, SNR=3 yr 15'\n",
      " 'PHA 3 triplets in 30 nights, SNR=4 yr 12'\n",
      " 'PHA 3 triplets in 30 nights, SNR=4 yr 14'\n",
      " 'PHA 3 triplets in 30 nights, SNR=4 yr 15'\n",
      " 'PHA 4 pairs in 20 nights yr 12' 'PHA 4 pairs in 20 nights yr 14'\n",
      " 'PHA 4 pairs in 20 nights yr 15' 'PHA 4 pairs in 20 nights, SNR=3 yr 12'\n",
      " 'PHA 4 pairs in 20 nights, SNR=3 yr 14'\n",
      " 'PHA 4 pairs in 20 nights, SNR=3 yr 15'\n",
      " 'PHA 4 pairs in 20 nights, SNR=4 yr 12'\n",
      " 'PHA 4 pairs in 20 nights, SNR=4 yr 14'\n",
      " 'PHA 4 pairs in 20 nights, SNR=4 yr 15'\n",
      " 'PHA 6 detections in 60 nights yr 12'\n",
      " 'PHA 6 detections in 60 nights yr 14'\n",
      " 'PHA 6 detections in 60 nights yr 15' 'PHA High velocity pair yr 12'\n",
      " 'PHA High velocity pair yr 14' 'PHA High velocity pair yr 15'\n",
      " 'PHA Single detection yr 12' 'PHA Single detection yr 14'\n",
      " 'PHA Single detection yr 15' 'PHA Single pair yr 12'\n",
      " 'PHA Single pair yr 14' 'PHA Single pair yr 15']\n"
     ]
    }
   ],
   "source": [
    "print df.metadata.unique()"
   ]
  },
  {
   "cell_type": "code",
   "execution_count": null,
   "metadata": {
    "collapsed": true
   },
   "outputs": [],
   "source": []
  }
 ],
 "metadata": {
  "kernelspec": {
   "display_name": "Python 2",
   "language": "python",
   "name": "python2"
  },
  "language_info": {
   "codemirror_mode": {
    "name": "ipython",
    "version": 2
   },
   "file_extension": ".py",
   "mimetype": "text/x-python",
   "name": "python",
   "nbconvert_exporter": "python",
   "pygments_lexer": "ipython2",
   "version": "2.7.11"
  }
 },
 "nbformat": 4,
 "nbformat_minor": 0
}
