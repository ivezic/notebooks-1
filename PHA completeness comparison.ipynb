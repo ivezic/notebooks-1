{
 "cells": [
  {
   "cell_type": "code",
   "execution_count": 1,
   "metadata": {
    "collapsed": false
   },
   "outputs": [
    {
     "name": "stderr",
     "output_type": "stream",
     "text": [
      "/Users/lynnej/anaconda/lib/python2.7/site-packages/matplotlib/font_manager.py:273: UserWarning: Matplotlib is building the font cache using fc-list. This may take a moment.\n",
      "  warnings.warn('Matplotlib is building the font cache using fc-list. This may take a moment.')\n"
     ]
    }
   ],
   "source": [
    "import os\n",
    "import numpy as np\n",
    "import pandas as pd\n",
    "from lsst.sims.maf.db import ResultsDb\n",
    "from IPython.display import display"
   ]
  },
  {
   "cell_type": "code",
   "execution_count": 2,
   "metadata": {
    "collapsed": true
   },
   "outputs": [],
   "source": [
    "newruns = ['minion_1016',\n",
    "           'astro_lsst_01_1016',\n",
    "           'astro_lsst_01_1015',\n",
    "           'astro_lsst_01_1017']\n",
    "oldruns = ['enigma_1189', 'enigma_1281', 'enigma_1282', 'minion_1016']"
   ]
  },
  {
   "cell_type": "code",
   "execution_count": 3,
   "metadata": {
    "collapsed": false
   },
   "outputs": [],
   "source": [
    "pha_new = {}\n",
    "neo_new = {}\n",
    "for r in newruns:\n",
    "    pha_new[r] = ResultsDb(os.path.join('.', r, 'pha_newsky'))\n",
    "    neo_new[r] = ResultsDb(os.path.join('.', r, 'neo_newsky'))"
   ]
  },
  {
   "cell_type": "code",
   "execution_count": 4,
   "metadata": {
    "collapsed": true
   },
   "outputs": [],
   "source": [
    "pha_old = {}\n",
    "neo_old = {}\n",
    "for r in oldruns:\n",
    "    pha_old[r] = ResultsDb(os.path.join('.', r, 'pha'))\n",
    "    neo_old[r] = ResultsDb(os.path.join('.', r, 'neo'))"
   ]
  },
  {
   "cell_type": "code",
   "execution_count": 5,
   "metadata": {
    "collapsed": false
   },
   "outputs": [],
   "source": [
    "def make_dataframe(runs, metricName='CumulativeCompleteness'):\n",
    "    summary = []\n",
    "    for r in runs:\n",
    "        mId = runs[r].getMetricId(metricName)\n",
    "        s = runs[r].getSummaryStats(mId, summaryName=None)\n",
    "        summary.append(pd.DataFrame(zip(s['metricMetadata'], s['summaryValue']*100.0), columns=['metadata', r]))\n",
    "    df = summary[0]\n",
    "    for i in range(1, len(summary)):\n",
    "        df = pd.merge(df, summary[i], how='outer', on='metadata')\n",
    "    return df"
   ]
  },
  {
   "cell_type": "code",
   "execution_count": 6,
   "metadata": {
    "collapsed": true
   },
   "outputs": [],
   "source": [
    "pha_new_df = make_dataframe(pha_new)\n",
    "pha_old_df = make_dataframe(pha_old)\n",
    "neo_new_df = make_dataframe(neo_new)\n",
    "neo_old_df = make_dataframe(neo_old)"
   ]
  },
  {
   "cell_type": "code",
   "execution_count": 7,
   "metadata": {
    "collapsed": true
   },
   "outputs": [],
   "source": [
    "def show_match(metadata, df):\n",
    "    display(df[df.metadata.str.contains(metadata)])"
   ]
  },
  {
   "cell_type": "code",
   "execution_count": 8,
   "metadata": {
    "collapsed": true
   },
   "outputs": [],
   "source": [
    "def show_diff(metadata1, metadata2, df):\n",
    "    runnames = list(df.columns.values)\n",
    "    runnames.remove('metadata')\n",
    "    d = (df[df.metadata.str.contains(metadata2)][runnames].as_matrix() - \n",
    "         df[df.metadata.str.contains(metadata1)][runnames].as_matrix())\n",
    "    diff = pd.DataFrame(d, columns=runnames)\n",
    "    diff['average'] = np.nanmean(d)\n",
    "    display(diff)"
   ]
  },
  {
   "cell_type": "code",
   "execution_count": 9,
   "metadata": {
    "collapsed": false
   },
   "outputs": [
    {
     "data": {
      "text/html": [
       "<div>\n",
       "<table border=\"1\" class=\"dataframe\">\n",
       "  <thead>\n",
       "    <tr style=\"text-align: right;\">\n",
       "      <th></th>\n",
       "      <th>metadata</th>\n",
       "      <th>minion_1016</th>\n",
       "      <th>astro_lsst_01_1015</th>\n",
       "      <th>astro_lsst_01_1017</th>\n",
       "      <th>astro_lsst_01_1016</th>\n",
       "    </tr>\n",
       "  </thead>\n",
       "  <tbody>\n",
       "    <tr>\n",
       "      <th>7</th>\n",
       "      <td>PHA 3 pairs in 15 nights yr 10</td>\n",
       "      <td>73.729326</td>\n",
       "      <td>73.612485</td>\n",
       "      <td>76.205749</td>\n",
       "      <td>74.829865</td>\n",
       "    </tr>\n",
       "  </tbody>\n",
       "</table>\n",
       "</div>"
      ],
      "text/plain": [
       "                         metadata  minion_1016  astro_lsst_01_1015  \\\n",
       "7  PHA 3 pairs in 15 nights yr 10    73.729326           73.612485   \n",
       "\n",
       "   astro_lsst_01_1017  astro_lsst_01_1016  \n",
       "7           76.205749           74.829865  "
      ]
     },
     "metadata": {},
     "output_type": "display_data"
    }
   ],
   "source": [
    "df = pha_new_df\n",
    "match1 = '3 pairs in 15 nights yr 10'\n",
    "show_match(match1, df)"
   ]
  },
  {
   "cell_type": "code",
   "execution_count": 10,
   "metadata": {
    "collapsed": false
   },
   "outputs": [
    {
     "data": {
      "text/html": [
       "<div>\n",
       "<table border=\"1\" class=\"dataframe\">\n",
       "  <thead>\n",
       "    <tr style=\"text-align: right;\">\n",
       "      <th></th>\n",
       "      <th>metadata</th>\n",
       "      <th>minion_1016</th>\n",
       "      <th>astro_lsst_01_1015</th>\n",
       "      <th>astro_lsst_01_1017</th>\n",
       "      <th>astro_lsst_01_1016</th>\n",
       "    </tr>\n",
       "  </thead>\n",
       "  <tbody>\n",
       "    <tr>\n",
       "      <th>141</th>\n",
       "      <td>PHA 3 pairs in 15 nights yr 12</td>\n",
       "      <td>NaN</td>\n",
       "      <td>77.530612</td>\n",
       "      <td>79.866959</td>\n",
       "      <td>79.130073</td>\n",
       "    </tr>\n",
       "  </tbody>\n",
       "</table>\n",
       "</div>"
      ],
      "text/plain": [
       "                           metadata  minion_1016  astro_lsst_01_1015  \\\n",
       "141  PHA 3 pairs in 15 nights yr 12          NaN           77.530612   \n",
       "\n",
       "     astro_lsst_01_1017  astro_lsst_01_1016  \n",
       "141           79.866959           79.130073  "
      ]
     },
     "metadata": {},
     "output_type": "display_data"
    },
    {
     "data": {
      "text/html": [
       "<div>\n",
       "<table border=\"1\" class=\"dataframe\">\n",
       "  <thead>\n",
       "    <tr style=\"text-align: right;\">\n",
       "      <th></th>\n",
       "      <th>minion_1016</th>\n",
       "      <th>astro_lsst_01_1015</th>\n",
       "      <th>astro_lsst_01_1017</th>\n",
       "      <th>astro_lsst_01_1016</th>\n",
       "      <th>average</th>\n",
       "    </tr>\n",
       "  </thead>\n",
       "  <tbody>\n",
       "    <tr>\n",
       "      <th>0</th>\n",
       "      <td>NaN</td>\n",
       "      <td>3.918127</td>\n",
       "      <td>3.66121</td>\n",
       "      <td>4.300208</td>\n",
       "      <td>3.959848</td>\n",
       "    </tr>\n",
       "  </tbody>\n",
       "</table>\n",
       "</div>"
      ],
      "text/plain": [
       "   minion_1016  astro_lsst_01_1015  astro_lsst_01_1017  astro_lsst_01_1016  \\\n",
       "0          NaN            3.918127             3.66121            4.300208   \n",
       "\n",
       "    average  \n",
       "0  3.959848  "
      ]
     },
     "metadata": {},
     "output_type": "display_data"
    }
   ],
   "source": [
    "match2 = '3 pairs in 15 nights yr 12'\n",
    "show_match(match2, df)\n",
    "show_diff(match1, match2, df)"
   ]
  },
  {
   "cell_type": "code",
   "execution_count": 11,
   "metadata": {
    "collapsed": false
   },
   "outputs": [
    {
     "data": {
      "text/html": [
       "<div>\n",
       "<table border=\"1\" class=\"dataframe\">\n",
       "  <thead>\n",
       "    <tr style=\"text-align: right;\">\n",
       "      <th></th>\n",
       "      <th>metadata</th>\n",
       "      <th>minion_1016</th>\n",
       "      <th>astro_lsst_01_1015</th>\n",
       "      <th>astro_lsst_01_1017</th>\n",
       "      <th>astro_lsst_01_1016</th>\n",
       "    </tr>\n",
       "  </thead>\n",
       "  <tbody>\n",
       "    <tr>\n",
       "      <th>159</th>\n",
       "      <td>PHA 3 pairs in 30 nights yr 12</td>\n",
       "      <td>NaN</td>\n",
       "      <td>80.947165</td>\n",
       "      <td>82.452829</td>\n",
       "      <td>80.837906</td>\n",
       "    </tr>\n",
       "  </tbody>\n",
       "</table>\n",
       "</div>"
      ],
      "text/plain": [
       "                           metadata  minion_1016  astro_lsst_01_1015  \\\n",
       "159  PHA 3 pairs in 30 nights yr 12          NaN           80.947165   \n",
       "\n",
       "     astro_lsst_01_1017  astro_lsst_01_1016  \n",
       "159           82.452829           80.837906  "
      ]
     },
     "metadata": {},
     "output_type": "display_data"
    },
    {
     "data": {
      "text/html": [
       "<div>\n",
       "<table border=\"1\" class=\"dataframe\">\n",
       "  <thead>\n",
       "    <tr style=\"text-align: right;\">\n",
       "      <th></th>\n",
       "      <th>minion_1016</th>\n",
       "      <th>astro_lsst_01_1015</th>\n",
       "      <th>astro_lsst_01_1017</th>\n",
       "      <th>astro_lsst_01_1016</th>\n",
       "      <th>average</th>\n",
       "    </tr>\n",
       "  </thead>\n",
       "  <tbody>\n",
       "    <tr>\n",
       "      <th>0</th>\n",
       "      <td>NaN</td>\n",
       "      <td>3.416553</td>\n",
       "      <td>2.58587</td>\n",
       "      <td>1.707833</td>\n",
       "      <td>2.570085</td>\n",
       "    </tr>\n",
       "  </tbody>\n",
       "</table>\n",
       "</div>"
      ],
      "text/plain": [
       "   minion_1016  astro_lsst_01_1015  astro_lsst_01_1017  astro_lsst_01_1016  \\\n",
       "0          NaN            3.416553             2.58587            1.707833   \n",
       "\n",
       "    average  \n",
       "0  2.570085  "
      ]
     },
     "metadata": {},
     "output_type": "display_data"
    }
   ],
   "source": [
    "match3 = '3 pairs in 30 nights yr 12'\n",
    "show_match(match3, df)\n",
    "show_diff(match2, match3, df)"
   ]
  },
  {
   "cell_type": "code",
   "execution_count": 12,
   "metadata": {
    "collapsed": false
   },
   "outputs": [
    {
     "data": {
      "text/html": [
       "<div>\n",
       "<table border=\"1\" class=\"dataframe\">\n",
       "  <thead>\n",
       "    <tr style=\"text-align: right;\">\n",
       "      <th></th>\n",
       "      <th>metadata</th>\n",
       "      <th>minion_1016</th>\n",
       "      <th>astro_lsst_01_1015</th>\n",
       "      <th>astro_lsst_01_1017</th>\n",
       "      <th>astro_lsst_01_1016</th>\n",
       "    </tr>\n",
       "  </thead>\n",
       "  <tbody>\n",
       "    <tr>\n",
       "      <th>153</th>\n",
       "      <td>PHA 3 pairs in 30 nights trailing loss yr 12</td>\n",
       "      <td>NaN</td>\n",
       "      <td>82.867323</td>\n",
       "      <td>83.910607</td>\n",
       "      <td>81.483143</td>\n",
       "    </tr>\n",
       "  </tbody>\n",
       "</table>\n",
       "</div>"
      ],
      "text/plain": [
       "                                         metadata  minion_1016  \\\n",
       "153  PHA 3 pairs in 30 nights trailing loss yr 12          NaN   \n",
       "\n",
       "     astro_lsst_01_1015  astro_lsst_01_1017  astro_lsst_01_1016  \n",
       "153           82.867323           83.910607           81.483143  "
      ]
     },
     "metadata": {},
     "output_type": "display_data"
    },
    {
     "data": {
      "text/html": [
       "<div>\n",
       "<table border=\"1\" class=\"dataframe\">\n",
       "  <thead>\n",
       "    <tr style=\"text-align: right;\">\n",
       "      <th></th>\n",
       "      <th>minion_1016</th>\n",
       "      <th>astro_lsst_01_1015</th>\n",
       "      <th>astro_lsst_01_1017</th>\n",
       "      <th>astro_lsst_01_1016</th>\n",
       "      <th>average</th>\n",
       "    </tr>\n",
       "  </thead>\n",
       "  <tbody>\n",
       "    <tr>\n",
       "      <th>0</th>\n",
       "      <td>NaN</td>\n",
       "      <td>1.920158</td>\n",
       "      <td>1.457778</td>\n",
       "      <td>0.645237</td>\n",
       "      <td>1.341058</td>\n",
       "    </tr>\n",
       "  </tbody>\n",
       "</table>\n",
       "</div>"
      ],
      "text/plain": [
       "   minion_1016  astro_lsst_01_1015  astro_lsst_01_1017  astro_lsst_01_1016  \\\n",
       "0          NaN            1.920158            1.457778            0.645237   \n",
       "\n",
       "    average  \n",
       "0  1.341058  "
      ]
     },
     "metadata": {},
     "output_type": "display_data"
    }
   ],
   "source": [
    "match4 = '3 pairs in 30 nights trailing loss yr 12'\n",
    "show_match(match4, df)\n",
    "show_diff(match3, match4, df)"
   ]
  },
  {
   "cell_type": "code",
   "execution_count": 13,
   "metadata": {
    "collapsed": false
   },
   "outputs": [
    {
     "data": {
      "text/html": [
       "<div>\n",
       "<table border=\"1\" class=\"dataframe\">\n",
       "  <thead>\n",
       "    <tr style=\"text-align: right;\">\n",
       "      <th></th>\n",
       "      <th>metadata</th>\n",
       "      <th>minion_1016</th>\n",
       "      <th>astro_lsst_01_1015</th>\n",
       "      <th>astro_lsst_01_1017</th>\n",
       "      <th>astro_lsst_01_1016</th>\n",
       "    </tr>\n",
       "  </thead>\n",
       "  <tbody>\n",
       "    <tr>\n",
       "      <th>156</th>\n",
       "      <td>PHA 3 pairs in 30 nights trailing loss, SNR=4 ...</td>\n",
       "      <td>NaN</td>\n",
       "      <td>85.634775</td>\n",
       "      <td>85.977228</td>\n",
       "      <td>83.758433</td>\n",
       "    </tr>\n",
       "  </tbody>\n",
       "</table>\n",
       "</div>"
      ],
      "text/plain": [
       "                                              metadata  minion_1016  \\\n",
       "156  PHA 3 pairs in 30 nights trailing loss, SNR=4 ...          NaN   \n",
       "\n",
       "     astro_lsst_01_1015  astro_lsst_01_1017  astro_lsst_01_1016  \n",
       "156           85.634775           85.977228           83.758433  "
      ]
     },
     "metadata": {},
     "output_type": "display_data"
    },
    {
     "data": {
      "text/html": [
       "<div>\n",
       "<table border=\"1\" class=\"dataframe\">\n",
       "  <thead>\n",
       "    <tr style=\"text-align: right;\">\n",
       "      <th></th>\n",
       "      <th>minion_1016</th>\n",
       "      <th>astro_lsst_01_1015</th>\n",
       "      <th>astro_lsst_01_1017</th>\n",
       "      <th>astro_lsst_01_1016</th>\n",
       "      <th>average</th>\n",
       "    </tr>\n",
       "  </thead>\n",
       "  <tbody>\n",
       "    <tr>\n",
       "      <th>0</th>\n",
       "      <td>NaN</td>\n",
       "      <td>2.767453</td>\n",
       "      <td>2.066621</td>\n",
       "      <td>2.27529</td>\n",
       "      <td>2.369788</td>\n",
       "    </tr>\n",
       "  </tbody>\n",
       "</table>\n",
       "</div>"
      ],
      "text/plain": [
       "   minion_1016  astro_lsst_01_1015  astro_lsst_01_1017  astro_lsst_01_1016  \\\n",
       "0          NaN            2.767453            2.066621             2.27529   \n",
       "\n",
       "    average  \n",
       "0  2.369788  "
      ]
     },
     "metadata": {},
     "output_type": "display_data"
    }
   ],
   "source": [
    "match5 = '3 pairs in 30 nights trailing loss, SNR=4 yr 12'\n",
    "show_match(match5, df)\n",
    "show_diff(match4, match5, df)"
   ]
  },
  {
   "cell_type": "code",
   "execution_count": 14,
   "metadata": {
    "collapsed": false
   },
   "outputs": [
    {
     "data": {
      "text/html": [
       "<div>\n",
       "<table border=\"1\" class=\"dataframe\">\n",
       "  <thead>\n",
       "    <tr style=\"text-align: right;\">\n",
       "      <th></th>\n",
       "      <th>metadata</th>\n",
       "      <th>minion_1016</th>\n",
       "      <th>astro_lsst_01_1015</th>\n",
       "      <th>astro_lsst_01_1017</th>\n",
       "      <th>astro_lsst_01_1016</th>\n",
       "    </tr>\n",
       "  </thead>\n",
       "  <tbody>\n",
       "    <tr>\n",
       "      <th>17</th>\n",
       "      <td>NEO 3 pairs in 15 nights yr 10</td>\n",
       "      <td>60.698645</td>\n",
       "      <td>57.718595</td>\n",
       "      <td>62.42445</td>\n",
       "      <td>56.811208</td>\n",
       "    </tr>\n",
       "    <tr>\n",
       "      <th>18</th>\n",
       "      <td>NEO 3 pairs in 15 nights yr 10</td>\n",
       "      <td>60.836294</td>\n",
       "      <td>57.718595</td>\n",
       "      <td>62.42445</td>\n",
       "      <td>56.811208</td>\n",
       "    </tr>\n",
       "  </tbody>\n",
       "</table>\n",
       "</div>"
      ],
      "text/plain": [
       "                          metadata  minion_1016  astro_lsst_01_1015  \\\n",
       "17  NEO 3 pairs in 15 nights yr 10    60.698645           57.718595   \n",
       "18  NEO 3 pairs in 15 nights yr 10    60.836294           57.718595   \n",
       "\n",
       "    astro_lsst_01_1017  astro_lsst_01_1016  \n",
       "17            62.42445           56.811208  \n",
       "18            62.42445           56.811208  "
      ]
     },
     "metadata": {},
     "output_type": "display_data"
    },
    {
     "data": {
      "text/html": [
       "<div>\n",
       "<table border=\"1\" class=\"dataframe\">\n",
       "  <thead>\n",
       "    <tr style=\"text-align: right;\">\n",
       "      <th></th>\n",
       "      <th>metadata</th>\n",
       "      <th>minion_1016</th>\n",
       "      <th>astro_lsst_01_1015</th>\n",
       "      <th>astro_lsst_01_1017</th>\n",
       "      <th>astro_lsst_01_1016</th>\n",
       "    </tr>\n",
       "  </thead>\n",
       "  <tbody>\n",
       "    <tr>\n",
       "      <th>19</th>\n",
       "      <td>NEO 3 pairs in 15 nights yr 12</td>\n",
       "      <td>60.836294</td>\n",
       "      <td>61.361651</td>\n",
       "      <td>65.922897</td>\n",
       "      <td>60.41197</td>\n",
       "    </tr>\n",
       "  </tbody>\n",
       "</table>\n",
       "</div>"
      ],
      "text/plain": [
       "                          metadata  minion_1016  astro_lsst_01_1015  \\\n",
       "19  NEO 3 pairs in 15 nights yr 12    60.836294           61.361651   \n",
       "\n",
       "    astro_lsst_01_1017  astro_lsst_01_1016  \n",
       "19           65.922897            60.41197  "
      ]
     },
     "metadata": {},
     "output_type": "display_data"
    },
    {
     "data": {
      "text/html": [
       "<div>\n",
       "<table border=\"1\" class=\"dataframe\">\n",
       "  <thead>\n",
       "    <tr style=\"text-align: right;\">\n",
       "      <th></th>\n",
       "      <th>minion_1016</th>\n",
       "      <th>astro_lsst_01_1015</th>\n",
       "      <th>astro_lsst_01_1017</th>\n",
       "      <th>astro_lsst_01_1016</th>\n",
       "      <th>average</th>\n",
       "    </tr>\n",
       "  </thead>\n",
       "  <tbody>\n",
       "    <tr>\n",
       "      <th>0</th>\n",
       "      <td>0.137649</td>\n",
       "      <td>3.643056</td>\n",
       "      <td>3.498447</td>\n",
       "      <td>3.600762</td>\n",
       "      <td>2.702772</td>\n",
       "    </tr>\n",
       "    <tr>\n",
       "      <th>1</th>\n",
       "      <td>0.000000</td>\n",
       "      <td>3.643056</td>\n",
       "      <td>3.498447</td>\n",
       "      <td>3.600762</td>\n",
       "      <td>2.702772</td>\n",
       "    </tr>\n",
       "  </tbody>\n",
       "</table>\n",
       "</div>"
      ],
      "text/plain": [
       "   minion_1016  astro_lsst_01_1015  astro_lsst_01_1017  astro_lsst_01_1016  \\\n",
       "0     0.137649            3.643056            3.498447            3.600762   \n",
       "1     0.000000            3.643056            3.498447            3.600762   \n",
       "\n",
       "    average  \n",
       "0  2.702772  \n",
       "1  2.702772  "
      ]
     },
     "metadata": {},
     "output_type": "display_data"
    },
    {
     "data": {
      "text/html": [
       "<div>\n",
       "<table border=\"1\" class=\"dataframe\">\n",
       "  <thead>\n",
       "    <tr style=\"text-align: right;\">\n",
       "      <th></th>\n",
       "      <th>metadata</th>\n",
       "      <th>minion_1016</th>\n",
       "      <th>astro_lsst_01_1015</th>\n",
       "      <th>astro_lsst_01_1017</th>\n",
       "      <th>astro_lsst_01_1016</th>\n",
       "    </tr>\n",
       "  </thead>\n",
       "  <tbody>\n",
       "    <tr>\n",
       "      <th>109</th>\n",
       "      <td>NEO 3 pairs in 30 nights yr 12</td>\n",
       "      <td>63.38195</td>\n",
       "      <td>65.518469</td>\n",
       "      <td>68.662914</td>\n",
       "      <td>63.139089</td>\n",
       "    </tr>\n",
       "  </tbody>\n",
       "</table>\n",
       "</div>"
      ],
      "text/plain": [
       "                           metadata  minion_1016  astro_lsst_01_1015  \\\n",
       "109  NEO 3 pairs in 30 nights yr 12     63.38195           65.518469   \n",
       "\n",
       "     astro_lsst_01_1017  astro_lsst_01_1016  \n",
       "109           68.662914           63.139089  "
      ]
     },
     "metadata": {},
     "output_type": "display_data"
    },
    {
     "data": {
      "text/html": [
       "<div>\n",
       "<table border=\"1\" class=\"dataframe\">\n",
       "  <thead>\n",
       "    <tr style=\"text-align: right;\">\n",
       "      <th></th>\n",
       "      <th>minion_1016</th>\n",
       "      <th>astro_lsst_01_1015</th>\n",
       "      <th>astro_lsst_01_1017</th>\n",
       "      <th>astro_lsst_01_1016</th>\n",
       "      <th>average</th>\n",
       "    </tr>\n",
       "  </thead>\n",
       "  <tbody>\n",
       "    <tr>\n",
       "      <th>0</th>\n",
       "      <td>2.545656</td>\n",
       "      <td>4.156818</td>\n",
       "      <td>2.740017</td>\n",
       "      <td>2.727119</td>\n",
       "      <td>3.042403</td>\n",
       "    </tr>\n",
       "  </tbody>\n",
       "</table>\n",
       "</div>"
      ],
      "text/plain": [
       "   minion_1016  astro_lsst_01_1015  astro_lsst_01_1017  astro_lsst_01_1016  \\\n",
       "0     2.545656            4.156818            2.740017            2.727119   \n",
       "\n",
       "    average  \n",
       "0  3.042403  "
      ]
     },
     "metadata": {},
     "output_type": "display_data"
    },
    {
     "data": {
      "text/html": [
       "<div>\n",
       "<table border=\"1\" class=\"dataframe\">\n",
       "  <thead>\n",
       "    <tr style=\"text-align: right;\">\n",
       "      <th></th>\n",
       "      <th>metadata</th>\n",
       "      <th>minion_1016</th>\n",
       "      <th>astro_lsst_01_1015</th>\n",
       "      <th>astro_lsst_01_1017</th>\n",
       "      <th>astro_lsst_01_1016</th>\n",
       "    </tr>\n",
       "  </thead>\n",
       "  <tbody>\n",
       "    <tr>\n",
       "      <th>79</th>\n",
       "      <td>NEO 3 pairs in 30 nights trailing loss yr 12</td>\n",
       "      <td>64.172126</td>\n",
       "      <td>67.446558</td>\n",
       "      <td>70.357363</td>\n",
       "      <td>63.883606</td>\n",
       "    </tr>\n",
       "  </tbody>\n",
       "</table>\n",
       "</div>"
      ],
      "text/plain": [
       "                                        metadata  minion_1016  \\\n",
       "79  NEO 3 pairs in 30 nights trailing loss yr 12    64.172126   \n",
       "\n",
       "    astro_lsst_01_1015  astro_lsst_01_1017  astro_lsst_01_1016  \n",
       "79           67.446558           70.357363           63.883606  "
      ]
     },
     "metadata": {},
     "output_type": "display_data"
    },
    {
     "data": {
      "text/html": [
       "<div>\n",
       "<table border=\"1\" class=\"dataframe\">\n",
       "  <thead>\n",
       "    <tr style=\"text-align: right;\">\n",
       "      <th></th>\n",
       "      <th>minion_1016</th>\n",
       "      <th>astro_lsst_01_1015</th>\n",
       "      <th>astro_lsst_01_1017</th>\n",
       "      <th>astro_lsst_01_1016</th>\n",
       "      <th>average</th>\n",
       "    </tr>\n",
       "  </thead>\n",
       "  <tbody>\n",
       "    <tr>\n",
       "      <th>0</th>\n",
       "      <td>0.790176</td>\n",
       "      <td>1.928089</td>\n",
       "      <td>1.694449</td>\n",
       "      <td>0.744518</td>\n",
       "      <td>1.289308</td>\n",
       "    </tr>\n",
       "  </tbody>\n",
       "</table>\n",
       "</div>"
      ],
      "text/plain": [
       "   minion_1016  astro_lsst_01_1015  astro_lsst_01_1017  astro_lsst_01_1016  \\\n",
       "0     0.790176            1.928089            1.694449            0.744518   \n",
       "\n",
       "    average  \n",
       "0  1.289308  "
      ]
     },
     "metadata": {},
     "output_type": "display_data"
    },
    {
     "data": {
      "text/html": [
       "<div>\n",
       "<table border=\"1\" class=\"dataframe\">\n",
       "  <thead>\n",
       "    <tr style=\"text-align: right;\">\n",
       "      <th></th>\n",
       "      <th>metadata</th>\n",
       "      <th>minion_1016</th>\n",
       "      <th>astro_lsst_01_1015</th>\n",
       "      <th>astro_lsst_01_1017</th>\n",
       "      <th>astro_lsst_01_1016</th>\n",
       "    </tr>\n",
       "  </thead>\n",
       "  <tbody>\n",
       "    <tr>\n",
       "      <th>94</th>\n",
       "      <td>NEO 3 pairs in 30 nights trailing loss, SNR=4 ...</td>\n",
       "      <td>67.537108</td>\n",
       "      <td>71.502199</td>\n",
       "      <td>73.616514</td>\n",
       "      <td>67.030553</td>\n",
       "    </tr>\n",
       "  </tbody>\n",
       "</table>\n",
       "</div>"
      ],
      "text/plain": [
       "                                             metadata  minion_1016  \\\n",
       "94  NEO 3 pairs in 30 nights trailing loss, SNR=4 ...    67.537108   \n",
       "\n",
       "    astro_lsst_01_1015  astro_lsst_01_1017  astro_lsst_01_1016  \n",
       "94           71.502199           73.616514           67.030553  "
      ]
     },
     "metadata": {},
     "output_type": "display_data"
    },
    {
     "data": {
      "text/html": [
       "<div>\n",
       "<table border=\"1\" class=\"dataframe\">\n",
       "  <thead>\n",
       "    <tr style=\"text-align: right;\">\n",
       "      <th></th>\n",
       "      <th>minion_1016</th>\n",
       "      <th>astro_lsst_01_1015</th>\n",
       "      <th>astro_lsst_01_1017</th>\n",
       "      <th>astro_lsst_01_1016</th>\n",
       "      <th>average</th>\n",
       "    </tr>\n",
       "  </thead>\n",
       "  <tbody>\n",
       "    <tr>\n",
       "      <th>0</th>\n",
       "      <td>3.364982</td>\n",
       "      <td>4.055641</td>\n",
       "      <td>3.259152</td>\n",
       "      <td>3.146947</td>\n",
       "      <td>3.45668</td>\n",
       "    </tr>\n",
       "  </tbody>\n",
       "</table>\n",
       "</div>"
      ],
      "text/plain": [
       "   minion_1016  astro_lsst_01_1015  astro_lsst_01_1017  astro_lsst_01_1016  \\\n",
       "0     3.364982            4.055641            3.259152            3.146947   \n",
       "\n",
       "   average  \n",
       "0  3.45668  "
      ]
     },
     "metadata": {},
     "output_type": "display_data"
    }
   ],
   "source": [
    "df = neo_new_df\n",
    "match1 = '3 pairs in 15 nights yr 10'\n",
    "show_match(match1, df)\n",
    "match2 = '3 pairs in 15 nights yr 12'\n",
    "show_match(match2, df)\n",
    "show_diff(match1, match2, df)\n",
    "match3 = '3 pairs in 30 nights yr 12'\n",
    "show_match(match3, df)\n",
    "show_diff(match2, match3, df)\n",
    "match4 = '3 pairs in 30 nights trailing loss yr 12'\n",
    "show_match(match4, df)\n",
    "show_diff(match3, match4, df)\n",
    "match5 = '3 pairs in 30 nights trailing loss, SNR=4 yr 12'\n",
    "show_match(match5, df)\n",
    "show_diff(match4, match5, df)"
   ]
  },
  {
   "cell_type": "code",
   "execution_count": 15,
   "metadata": {
    "collapsed": false
   },
   "outputs": [
    {
     "data": {
      "text/html": [
       "<div>\n",
       "<table border=\"1\" class=\"dataframe\">\n",
       "  <thead>\n",
       "    <tr style=\"text-align: right;\">\n",
       "      <th></th>\n",
       "      <th>metadata</th>\n",
       "      <th>minion_1016</th>\n",
       "      <th>enigma_1281</th>\n",
       "      <th>enigma_1189</th>\n",
       "      <th>enigma_1282</th>\n",
       "    </tr>\n",
       "  </thead>\n",
       "  <tbody>\n",
       "    <tr>\n",
       "      <th>7</th>\n",
       "      <td>PHA 3 pairs in 15 nights yr 10</td>\n",
       "      <td>72.286809</td>\n",
       "      <td>70.064613</td>\n",
       "      <td>74.964997</td>\n",
       "      <td>67.029049</td>\n",
       "    </tr>\n",
       "  </tbody>\n",
       "</table>\n",
       "</div>"
      ],
      "text/plain": [
       "                         metadata  minion_1016  enigma_1281  enigma_1189  \\\n",
       "7  PHA 3 pairs in 15 nights yr 10    72.286809    70.064613    74.964997   \n",
       "\n",
       "   enigma_1282  \n",
       "7    67.029049  "
      ]
     },
     "metadata": {},
     "output_type": "display_data"
    },
    {
     "data": {
      "text/html": [
       "<div>\n",
       "<table border=\"1\" class=\"dataframe\">\n",
       "  <thead>\n",
       "    <tr style=\"text-align: right;\">\n",
       "      <th></th>\n",
       "      <th>metadata</th>\n",
       "      <th>minion_1016</th>\n",
       "      <th>enigma_1281</th>\n",
       "      <th>enigma_1189</th>\n",
       "      <th>enigma_1282</th>\n",
       "    </tr>\n",
       "  </thead>\n",
       "  <tbody>\n",
       "    <tr>\n",
       "      <th>43</th>\n",
       "      <td>PHA 3 pairs in 30 nights yr 10</td>\n",
       "      <td>74.810999</td>\n",
       "      <td>73.124718</td>\n",
       "      <td>77.59089</td>\n",
       "      <td>71.435025</td>\n",
       "    </tr>\n",
       "  </tbody>\n",
       "</table>\n",
       "</div>"
      ],
      "text/plain": [
       "                          metadata  minion_1016  enigma_1281  enigma_1189  \\\n",
       "43  PHA 3 pairs in 30 nights yr 10    74.810999    73.124718     77.59089   \n",
       "\n",
       "    enigma_1282  \n",
       "43    71.435025  "
      ]
     },
     "metadata": {},
     "output_type": "display_data"
    },
    {
     "data": {
      "text/html": [
       "<div>\n",
       "<table border=\"1\" class=\"dataframe\">\n",
       "  <thead>\n",
       "    <tr style=\"text-align: right;\">\n",
       "      <th></th>\n",
       "      <th>minion_1016</th>\n",
       "      <th>enigma_1281</th>\n",
       "      <th>enigma_1189</th>\n",
       "      <th>enigma_1282</th>\n",
       "      <th>average</th>\n",
       "    </tr>\n",
       "  </thead>\n",
       "  <tbody>\n",
       "    <tr>\n",
       "      <th>0</th>\n",
       "      <td>2.52419</td>\n",
       "      <td>3.060105</td>\n",
       "      <td>2.625893</td>\n",
       "      <td>4.405976</td>\n",
       "      <td>3.154041</td>\n",
       "    </tr>\n",
       "  </tbody>\n",
       "</table>\n",
       "</div>"
      ],
      "text/plain": [
       "   minion_1016  enigma_1281  enigma_1189  enigma_1282   average\n",
       "0      2.52419     3.060105     2.625893     4.405976  3.154041"
      ]
     },
     "metadata": {},
     "output_type": "display_data"
    },
    {
     "data": {
      "text/html": [
       "<div>\n",
       "<table border=\"1\" class=\"dataframe\">\n",
       "  <thead>\n",
       "    <tr style=\"text-align: right;\">\n",
       "      <th></th>\n",
       "      <th>metadata</th>\n",
       "      <th>minion_1016</th>\n",
       "      <th>enigma_1281</th>\n",
       "      <th>enigma_1189</th>\n",
       "      <th>enigma_1282</th>\n",
       "    </tr>\n",
       "  </thead>\n",
       "  <tbody>\n",
       "    <tr>\n",
       "      <th>31</th>\n",
       "      <td>PHA 3 pairs in 30 nights trailing loss yr 10</td>\n",
       "      <td>75.24956</td>\n",
       "      <td>73.645192</td>\n",
       "      <td>78.012546</td>\n",
       "      <td>72.167027</td>\n",
       "    </tr>\n",
       "  </tbody>\n",
       "</table>\n",
       "</div>"
      ],
      "text/plain": [
       "                                        metadata  minion_1016  enigma_1281  \\\n",
       "31  PHA 3 pairs in 30 nights trailing loss yr 10     75.24956    73.645192   \n",
       "\n",
       "    enigma_1189  enigma_1282  \n",
       "31    78.012546    72.167027  "
      ]
     },
     "metadata": {},
     "output_type": "display_data"
    },
    {
     "data": {
      "text/html": [
       "<div>\n",
       "<table border=\"1\" class=\"dataframe\">\n",
       "  <thead>\n",
       "    <tr style=\"text-align: right;\">\n",
       "      <th></th>\n",
       "      <th>minion_1016</th>\n",
       "      <th>enigma_1281</th>\n",
       "      <th>enigma_1189</th>\n",
       "      <th>enigma_1282</th>\n",
       "      <th>average</th>\n",
       "    </tr>\n",
       "  </thead>\n",
       "  <tbody>\n",
       "    <tr>\n",
       "      <th>0</th>\n",
       "      <td>0.438562</td>\n",
       "      <td>0.520475</td>\n",
       "      <td>0.421656</td>\n",
       "      <td>0.732002</td>\n",
       "      <td>0.528173</td>\n",
       "    </tr>\n",
       "  </tbody>\n",
       "</table>\n",
       "</div>"
      ],
      "text/plain": [
       "   minion_1016  enigma_1281  enigma_1189  enigma_1282   average\n",
       "0     0.438562     0.520475     0.421656     0.732002  0.528173"
      ]
     },
     "metadata": {},
     "output_type": "display_data"
    },
    {
     "data": {
      "text/html": [
       "<div>\n",
       "<table border=\"1\" class=\"dataframe\">\n",
       "  <thead>\n",
       "    <tr style=\"text-align: right;\">\n",
       "      <th></th>\n",
       "      <th>metadata</th>\n",
       "      <th>minion_1016</th>\n",
       "      <th>enigma_1281</th>\n",
       "      <th>enigma_1189</th>\n",
       "      <th>enigma_1282</th>\n",
       "    </tr>\n",
       "  </thead>\n",
       "  <tbody>\n",
       "    <tr>\n",
       "      <th>37</th>\n",
       "      <td>PHA 3 pairs in 30 nights trailing loss, SNR=4 ...</td>\n",
       "      <td>77.961248</td>\n",
       "      <td>76.531139</td>\n",
       "      <td>80.638334</td>\n",
       "      <td>74.686238</td>\n",
       "    </tr>\n",
       "  </tbody>\n",
       "</table>\n",
       "</div>"
      ],
      "text/plain": [
       "                                             metadata  minion_1016  \\\n",
       "37  PHA 3 pairs in 30 nights trailing loss, SNR=4 ...    77.961248   \n",
       "\n",
       "    enigma_1281  enigma_1189  enigma_1282  \n",
       "37    76.531139    80.638334    74.686238  "
      ]
     },
     "metadata": {},
     "output_type": "display_data"
    },
    {
     "data": {
      "text/html": [
       "<div>\n",
       "<table border=\"1\" class=\"dataframe\">\n",
       "  <thead>\n",
       "    <tr style=\"text-align: right;\">\n",
       "      <th></th>\n",
       "      <th>minion_1016</th>\n",
       "      <th>enigma_1281</th>\n",
       "      <th>enigma_1189</th>\n",
       "      <th>enigma_1282</th>\n",
       "      <th>average</th>\n",
       "    </tr>\n",
       "  </thead>\n",
       "  <tbody>\n",
       "    <tr>\n",
       "      <th>0</th>\n",
       "      <td>2.711687</td>\n",
       "      <td>2.885947</td>\n",
       "      <td>2.625788</td>\n",
       "      <td>2.519211</td>\n",
       "      <td>2.685658</td>\n",
       "    </tr>\n",
       "  </tbody>\n",
       "</table>\n",
       "</div>"
      ],
      "text/plain": [
       "   minion_1016  enigma_1281  enigma_1189  enigma_1282   average\n",
       "0     2.711687     2.885947     2.625788     2.519211  2.685658"
      ]
     },
     "metadata": {},
     "output_type": "display_data"
    }
   ],
   "source": [
    "df = pha_old_df\n",
    "match2 = '3 pairs in 15 nights yr 10'\n",
    "show_match(match2, df)\n",
    "#show_diff(match1, match2, df)\n",
    "match3 = '3 pairs in 30 nights yr 10'\n",
    "show_match(match3, df)\n",
    "show_diff(match2, match3, df)\n",
    "match4 = '3 pairs in 30 nights trailing loss yr 10'\n",
    "show_match(match4, df)\n",
    "show_diff(match3, match4, df)\n",
    "match5 = '3 pairs in 30 nights trailing loss, SNR=4 yr 10'\n",
    "show_match(match5, df)\n",
    "show_diff(match4, match5, df)"
   ]
  },
  {
   "cell_type": "code",
   "execution_count": 16,
   "metadata": {
    "collapsed": false
   },
   "outputs": [
    {
     "data": {
      "text/html": [
       "<div>\n",
       "<table border=\"1\" class=\"dataframe\">\n",
       "  <thead>\n",
       "    <tr style=\"text-align: right;\">\n",
       "      <th></th>\n",
       "      <th>metadata</th>\n",
       "      <th>minion_1016</th>\n",
       "      <th>enigma_1281</th>\n",
       "      <th>enigma_1189</th>\n",
       "      <th>enigma_1282</th>\n",
       "    </tr>\n",
       "  </thead>\n",
       "  <tbody>\n",
       "    <tr>\n",
       "      <th>7</th>\n",
       "      <td>NEO 3 pairs in 15 nights yr 10</td>\n",
       "      <td>59.461635</td>\n",
       "      <td>NaN</td>\n",
       "      <td>64.833056</td>\n",
       "      <td>NaN</td>\n",
       "    </tr>\n",
       "  </tbody>\n",
       "</table>\n",
       "</div>"
      ],
      "text/plain": [
       "                         metadata  minion_1016 enigma_1281  enigma_1189  \\\n",
       "7  NEO 3 pairs in 15 nights yr 10    59.461635         NaN    64.833056   \n",
       "\n",
       "  enigma_1282  \n",
       "7         NaN  "
      ]
     },
     "metadata": {},
     "output_type": "display_data"
    },
    {
     "data": {
      "text/html": [
       "<div>\n",
       "<table border=\"1\" class=\"dataframe\">\n",
       "  <thead>\n",
       "    <tr style=\"text-align: right;\">\n",
       "      <th></th>\n",
       "      <th>metadata</th>\n",
       "      <th>minion_1016</th>\n",
       "      <th>enigma_1281</th>\n",
       "      <th>enigma_1189</th>\n",
       "      <th>enigma_1282</th>\n",
       "    </tr>\n",
       "  </thead>\n",
       "  <tbody>\n",
       "    <tr>\n",
       "      <th>43</th>\n",
       "      <td>NEO 3 pairs in 30 nights yr 10</td>\n",
       "      <td>62.424463</td>\n",
       "      <td>NaN</td>\n",
       "      <td>68.361687</td>\n",
       "      <td>NaN</td>\n",
       "    </tr>\n",
       "  </tbody>\n",
       "</table>\n",
       "</div>"
      ],
      "text/plain": [
       "                          metadata  minion_1016 enigma_1281  enigma_1189  \\\n",
       "43  NEO 3 pairs in 30 nights yr 10    62.424463         NaN    68.361687   \n",
       "\n",
       "   enigma_1282  \n",
       "43         NaN  "
      ]
     },
     "metadata": {},
     "output_type": "display_data"
    },
    {
     "data": {
      "text/html": [
       "<div>\n",
       "<table border=\"1\" class=\"dataframe\">\n",
       "  <thead>\n",
       "    <tr style=\"text-align: right;\">\n",
       "      <th></th>\n",
       "      <th>minion_1016</th>\n",
       "      <th>enigma_1281</th>\n",
       "      <th>enigma_1189</th>\n",
       "      <th>enigma_1282</th>\n",
       "      <th>average</th>\n",
       "    </tr>\n",
       "  </thead>\n",
       "  <tbody>\n",
       "    <tr>\n",
       "      <th>0</th>\n",
       "      <td>2.96283</td>\n",
       "      <td>NaN</td>\n",
       "      <td>3.52863</td>\n",
       "      <td>NaN</td>\n",
       "      <td>NaN</td>\n",
       "    </tr>\n",
       "  </tbody>\n",
       "</table>\n",
       "</div>"
      ],
      "text/plain": [
       "  minion_1016 enigma_1281 enigma_1189 enigma_1282  average\n",
       "0     2.96283         NaN     3.52863         NaN      NaN"
      ]
     },
     "metadata": {},
     "output_type": "display_data"
    },
    {
     "data": {
      "text/html": [
       "<div>\n",
       "<table border=\"1\" class=\"dataframe\">\n",
       "  <thead>\n",
       "    <tr style=\"text-align: right;\">\n",
       "      <th></th>\n",
       "      <th>metadata</th>\n",
       "      <th>minion_1016</th>\n",
       "      <th>enigma_1281</th>\n",
       "      <th>enigma_1189</th>\n",
       "      <th>enigma_1282</th>\n",
       "    </tr>\n",
       "  </thead>\n",
       "  <tbody>\n",
       "    <tr>\n",
       "      <th>31</th>\n",
       "      <td>NEO 3 pairs in 30 nights trailing loss yr 10</td>\n",
       "      <td>63.049837</td>\n",
       "      <td>NaN</td>\n",
       "      <td>68.633961</td>\n",
       "      <td>NaN</td>\n",
       "    </tr>\n",
       "  </tbody>\n",
       "</table>\n",
       "</div>"
      ],
      "text/plain": [
       "                                        metadata  minion_1016 enigma_1281  \\\n",
       "31  NEO 3 pairs in 30 nights trailing loss yr 10    63.049837         NaN   \n",
       "\n",
       "    enigma_1189 enigma_1282  \n",
       "31    68.633961         NaN  "
      ]
     },
     "metadata": {},
     "output_type": "display_data"
    },
    {
     "data": {
      "text/html": [
       "<div>\n",
       "<table border=\"1\" class=\"dataframe\">\n",
       "  <thead>\n",
       "    <tr style=\"text-align: right;\">\n",
       "      <th></th>\n",
       "      <th>minion_1016</th>\n",
       "      <th>enigma_1281</th>\n",
       "      <th>enigma_1189</th>\n",
       "      <th>enigma_1282</th>\n",
       "      <th>average</th>\n",
       "    </tr>\n",
       "  </thead>\n",
       "  <tbody>\n",
       "    <tr>\n",
       "      <th>0</th>\n",
       "      <td>0.625375</td>\n",
       "      <td>NaN</td>\n",
       "      <td>0.272274</td>\n",
       "      <td>NaN</td>\n",
       "      <td>NaN</td>\n",
       "    </tr>\n",
       "  </tbody>\n",
       "</table>\n",
       "</div>"
      ],
      "text/plain": [
       "  minion_1016 enigma_1281 enigma_1189 enigma_1282  average\n",
       "0    0.625375         NaN    0.272274         NaN      NaN"
      ]
     },
     "metadata": {},
     "output_type": "display_data"
    },
    {
     "data": {
      "text/html": [
       "<div>\n",
       "<table border=\"1\" class=\"dataframe\">\n",
       "  <thead>\n",
       "    <tr style=\"text-align: right;\">\n",
       "      <th></th>\n",
       "      <th>metadata</th>\n",
       "      <th>minion_1016</th>\n",
       "      <th>enigma_1281</th>\n",
       "      <th>enigma_1189</th>\n",
       "      <th>enigma_1282</th>\n",
       "    </tr>\n",
       "  </thead>\n",
       "  <tbody>\n",
       "    <tr>\n",
       "      <th>37</th>\n",
       "      <td>NEO 3 pairs in 30 nights trailing loss, SNR=4 ...</td>\n",
       "      <td>66.892363</td>\n",
       "      <td>NaN</td>\n",
       "      <td>71.976552</td>\n",
       "      <td>NaN</td>\n",
       "    </tr>\n",
       "  </tbody>\n",
       "</table>\n",
       "</div>"
      ],
      "text/plain": [
       "                                             metadata  minion_1016  \\\n",
       "37  NEO 3 pairs in 30 nights trailing loss, SNR=4 ...    66.892363   \n",
       "\n",
       "   enigma_1281  enigma_1189 enigma_1282  \n",
       "37         NaN    71.976552         NaN  "
      ]
     },
     "metadata": {},
     "output_type": "display_data"
    },
    {
     "data": {
      "text/html": [
       "<div>\n",
       "<table border=\"1\" class=\"dataframe\">\n",
       "  <thead>\n",
       "    <tr style=\"text-align: right;\">\n",
       "      <th></th>\n",
       "      <th>minion_1016</th>\n",
       "      <th>enigma_1281</th>\n",
       "      <th>enigma_1189</th>\n",
       "      <th>enigma_1282</th>\n",
       "      <th>average</th>\n",
       "    </tr>\n",
       "  </thead>\n",
       "  <tbody>\n",
       "    <tr>\n",
       "      <th>0</th>\n",
       "      <td>3.84253</td>\n",
       "      <td>NaN</td>\n",
       "      <td>3.34259</td>\n",
       "      <td>NaN</td>\n",
       "      <td>NaN</td>\n",
       "    </tr>\n",
       "  </tbody>\n",
       "</table>\n",
       "</div>"
      ],
      "text/plain": [
       "  minion_1016 enigma_1281 enigma_1189 enigma_1282  average\n",
       "0     3.84253         NaN     3.34259         NaN      NaN"
      ]
     },
     "metadata": {},
     "output_type": "display_data"
    }
   ],
   "source": [
    "df = neo_old_df\n",
    "match2 = '3 pairs in 15 nights yr 10'\n",
    "show_match(match2, df)\n",
    "#show_diff(match1, match2, df)\n",
    "match3 = '3 pairs in 30 nights yr 10'\n",
    "show_match(match3, df)\n",
    "show_diff(match2, match3, df)\n",
    "match4 = '3 pairs in 30 nights trailing loss yr 10'\n",
    "show_match(match4, df)\n",
    "show_diff(match3, match4, df)\n",
    "match5 = '3 pairs in 30 nights trailing loss, SNR=4 yr 10'\n",
    "show_match(match5, df)\n",
    "show_diff(match4, match5, df)"
   ]
  },
  {
   "cell_type": "code",
   "execution_count": 17,
   "metadata": {
    "collapsed": false
   },
   "outputs": [
    {
     "data": {
      "text/html": [
       "<div>\n",
       "<table border=\"1\" class=\"dataframe\">\n",
       "  <thead>\n",
       "    <tr style=\"text-align: right;\">\n",
       "      <th></th>\n",
       "      <th>metadata</th>\n",
       "      <th>minion_1016</th>\n",
       "      <th>enigma_1281</th>\n",
       "      <th>enigma_1189</th>\n",
       "      <th>enigma_1282</th>\n",
       "    </tr>\n",
       "  </thead>\n",
       "  <tbody>\n",
       "    <tr>\n",
       "      <th>7</th>\n",
       "      <td>NEO 3 pairs in 15 nights yr 10</td>\n",
       "      <td>59.461635</td>\n",
       "      <td>NaN</td>\n",
       "      <td>64.833056</td>\n",
       "      <td>NaN</td>\n",
       "    </tr>\n",
       "  </tbody>\n",
       "</table>\n",
       "</div>"
      ],
      "text/plain": [
       "                         metadata  minion_1016 enigma_1281  enigma_1189  \\\n",
       "7  NEO 3 pairs in 15 nights yr 10    59.461635         NaN    64.833056   \n",
       "\n",
       "  enigma_1282  \n",
       "7         NaN  "
      ]
     },
     "metadata": {},
     "output_type": "display_data"
    },
    {
     "data": {
      "text/html": [
       "<div>\n",
       "<table border=\"1\" class=\"dataframe\">\n",
       "  <thead>\n",
       "    <tr style=\"text-align: right;\">\n",
       "      <th></th>\n",
       "      <th>metadata</th>\n",
       "      <th>minion_1016</th>\n",
       "      <th>enigma_1281</th>\n",
       "      <th>enigma_1189</th>\n",
       "      <th>enigma_1282</th>\n",
       "    </tr>\n",
       "  </thead>\n",
       "  <tbody>\n",
       "    <tr>\n",
       "      <th>43</th>\n",
       "      <td>NEO 3 pairs in 30 nights yr 10</td>\n",
       "      <td>62.424463</td>\n",
       "      <td>NaN</td>\n",
       "      <td>68.361687</td>\n",
       "      <td>NaN</td>\n",
       "    </tr>\n",
       "  </tbody>\n",
       "</table>\n",
       "</div>"
      ],
      "text/plain": [
       "                          metadata  minion_1016 enigma_1281  enigma_1189  \\\n",
       "43  NEO 3 pairs in 30 nights yr 10    62.424463         NaN    68.361687   \n",
       "\n",
       "   enigma_1282  \n",
       "43         NaN  "
      ]
     },
     "metadata": {},
     "output_type": "display_data"
    },
    {
     "data": {
      "text/html": [
       "<div>\n",
       "<table border=\"1\" class=\"dataframe\">\n",
       "  <thead>\n",
       "    <tr style=\"text-align: right;\">\n",
       "      <th></th>\n",
       "      <th>metadata</th>\n",
       "      <th>minion_1016</th>\n",
       "      <th>enigma_1281</th>\n",
       "      <th>enigma_1189</th>\n",
       "      <th>enigma_1282</th>\n",
       "    </tr>\n",
       "  </thead>\n",
       "  <tbody>\n",
       "    <tr>\n",
       "      <th>79</th>\n",
       "      <td>NEO 3 triplets in 30 nights yr 10</td>\n",
       "      <td>39.739229</td>\n",
       "      <td>NaN</td>\n",
       "      <td>44.497952</td>\n",
       "      <td>NaN</td>\n",
       "    </tr>\n",
       "  </tbody>\n",
       "</table>\n",
       "</div>"
      ],
      "text/plain": [
       "                             metadata  minion_1016 enigma_1281  enigma_1189  \\\n",
       "79  NEO 3 triplets in 30 nights yr 10    39.739229         NaN    44.497952   \n",
       "\n",
       "   enigma_1282  \n",
       "79         NaN  "
      ]
     },
     "metadata": {},
     "output_type": "display_data"
    },
    {
     "data": {
      "text/html": [
       "<div>\n",
       "<table border=\"1\" class=\"dataframe\">\n",
       "  <thead>\n",
       "    <tr style=\"text-align: right;\">\n",
       "      <th></th>\n",
       "      <th>metadata</th>\n",
       "      <th>minion_1016</th>\n",
       "      <th>enigma_1281</th>\n",
       "      <th>enigma_1189</th>\n",
       "      <th>enigma_1282</th>\n",
       "    </tr>\n",
       "  </thead>\n",
       "  <tbody>\n",
       "    <tr>\n",
       "      <th>61</th>\n",
       "      <td>NEO 3 quads in 30 nights yr 10</td>\n",
       "      <td>27.15548</td>\n",
       "      <td>NaN</td>\n",
       "      <td>31.261804</td>\n",
       "      <td>NaN</td>\n",
       "    </tr>\n",
       "  </tbody>\n",
       "</table>\n",
       "</div>"
      ],
      "text/plain": [
       "                          metadata  minion_1016 enigma_1281  enigma_1189  \\\n",
       "61  NEO 3 quads in 30 nights yr 10     27.15548         NaN    31.261804   \n",
       "\n",
       "   enigma_1282  \n",
       "61         NaN  "
      ]
     },
     "metadata": {},
     "output_type": "display_data"
    },
    {
     "data": {
      "text/html": [
       "<div>\n",
       "<table border=\"1\" class=\"dataframe\">\n",
       "  <thead>\n",
       "    <tr style=\"text-align: right;\">\n",
       "      <th></th>\n",
       "      <th>metadata</th>\n",
       "      <th>minion_1016</th>\n",
       "      <th>enigma_1281</th>\n",
       "      <th>enigma_1189</th>\n",
       "      <th>enigma_1282</th>\n",
       "    </tr>\n",
       "  </thead>\n",
       "  <tbody>\n",
       "    <tr>\n",
       "      <th>31</th>\n",
       "      <td>NEO 3 pairs in 30 nights trailing loss yr 10</td>\n",
       "      <td>63.049837</td>\n",
       "      <td>NaN</td>\n",
       "      <td>68.633961</td>\n",
       "      <td>NaN</td>\n",
       "    </tr>\n",
       "  </tbody>\n",
       "</table>\n",
       "</div>"
      ],
      "text/plain": [
       "                                        metadata  minion_1016 enigma_1281  \\\n",
       "31  NEO 3 pairs in 30 nights trailing loss yr 10    63.049837         NaN   \n",
       "\n",
       "    enigma_1189 enigma_1282  \n",
       "31    68.633961         NaN  "
      ]
     },
     "metadata": {},
     "output_type": "display_data"
    },
    {
     "data": {
      "text/html": [
       "<div>\n",
       "<table border=\"1\" class=\"dataframe\">\n",
       "  <thead>\n",
       "    <tr style=\"text-align: right;\">\n",
       "      <th></th>\n",
       "      <th>metadata</th>\n",
       "      <th>minion_1016</th>\n",
       "      <th>enigma_1281</th>\n",
       "      <th>enigma_1189</th>\n",
       "      <th>enigma_1282</th>\n",
       "    </tr>\n",
       "  </thead>\n",
       "  <tbody>\n",
       "    <tr>\n",
       "      <th>37</th>\n",
       "      <td>NEO 3 pairs in 30 nights trailing loss, SNR=4 ...</td>\n",
       "      <td>66.892363</td>\n",
       "      <td>NaN</td>\n",
       "      <td>71.976552</td>\n",
       "      <td>NaN</td>\n",
       "    </tr>\n",
       "  </tbody>\n",
       "</table>\n",
       "</div>"
      ],
      "text/plain": [
       "                                             metadata  minion_1016  \\\n",
       "37  NEO 3 pairs in 30 nights trailing loss, SNR=4 ...    66.892363   \n",
       "\n",
       "   enigma_1281  enigma_1189 enigma_1282  \n",
       "37         NaN    71.976552         NaN  "
      ]
     },
     "metadata": {},
     "output_type": "display_data"
    }
   ],
   "source": [
    "df = neo_old_df\n",
    "match1 = '3 pairs in 15 nights yr 10'\n",
    "show_match(match1, df)\n",
    "match2 = '3 pairs in 30 nights yr 10'\n",
    "show_match(match2, df)\n",
    "match3 = '3 triplets in 30 nights yr 10'\n",
    "show_match(match3, df)\n",
    "match4 = '3 quads in 30 nights yr 10'\n",
    "show_match(match4, df)\n",
    "match5 = '3 pairs in 30 nights trailing loss yr 10'\n",
    "show_match(match5, df)\n",
    "match6 = '3 pairs in 30 nights trailing loss, SNR=4 yr 10'\n",
    "show_match(match6, df)"
   ]
  },
  {
   "cell_type": "code",
   "execution_count": null,
   "metadata": {
    "collapsed": true
   },
   "outputs": [],
   "source": []
  },
  {
   "cell_type": "code",
   "execution_count": null,
   "metadata": {
    "collapsed": true
   },
   "outputs": [],
   "source": []
  }
 ],
 "metadata": {
  "kernelspec": {
   "display_name": "Python 2",
   "language": "python",
   "name": "python2"
  },
  "language_info": {
   "codemirror_mode": {
    "name": "ipython",
    "version": 2
   },
   "file_extension": ".py",
   "mimetype": "text/x-python",
   "name": "python",
   "nbconvert_exporter": "python",
   "pygments_lexer": "ipython2",
   "version": "2.7.12"
  }
 },
 "nbformat": 4,
 "nbformat_minor": 0
}
